{
  "nbformat": 4,
  "nbformat_minor": 5,
  "metadata": {
    "accelerator": "GPU",
    "colab": {
      "name": "Model Testing Authorship Analysis.ipynb",
      "provenance": [],
      "collapsed_sections": [],
      "machine_shape": "hm",
      "include_colab_link": true
    },
    "kernelspec": {
      "display_name": "Python 3",
      "language": "python",
      "name": "python3"
    },
    "language_info": {
      "codemirror_mode": {
        "name": "ipython",
        "version": 3
      },
      "file_extension": ".py",
      "mimetype": "text/x-python",
      "name": "python",
      "nbconvert_exporter": "python",
      "pygments_lexer": "ipython3",
      "version": "3.7.10"
    }
  },
  "cells": [
    {
      "cell_type": "markdown",
      "metadata": {
        "id": "view-in-github",
        "colab_type": "text"
      },
      "source": [
        "<a href=\"https://colab.research.google.com/github/zd341/Author-Authentication/blob/main/Model_Testing_Authorship_Analysis.ipynb\" target=\"_parent\"><img src=\"https://colab.research.google.com/assets/colab-badge.svg\" alt=\"Open In Colab\"/></a>"
      ]
    },
    {
      "cell_type": "markdown",
      "metadata": {
        "id": "2SXxz0DDu3YM"
      },
      "source": [
        "# AUTHORSHIP AUTHENTICATION"
      ],
      "id": "2SXxz0DDu3YM"
    },
    {
      "cell_type": "markdown",
      "metadata": {
        "id": "BrGpZ4LYD6ny"
      },
      "source": [
        "# BUSINESS UNDERSTANDING"
      ],
      "id": "BrGpZ4LYD6ny"
    },
    {
      "cell_type": "markdown",
      "metadata": {
        "id": "yHyS5fRUEYu2"
      },
      "source": [
        ""
      ],
      "id": "yHyS5fRUEYu2"
    },
    {
      "cell_type": "markdown",
      "metadata": {
        "id": "UKAZHUKsnWte"
      },
      "source": [
        "**To Do**\n",
        "\n",
        "*   Balance Philosophers Dataset and Run models\n",
        "*   Clean Twitter Dataset\n",
        "*   GridCV for all models\n",
        "*   Tidy Notebook\n",
        "*   for LSTM, BI-LSTM, GRU & CNN\n",
        "*   Start Pre-processing and Modelling Twitter Data\n",
        "*   Run Random Forest Classifier, XGBoost\n",
        "\n",
        "\n",
        "\n",
        "\n",
        "\n",
        "\n",
        "\n",
        "\n"
      ],
      "id": "UKAZHUKsnWte"
    },
    {
      "cell_type": "markdown",
      "metadata": {
        "id": "0as3JMvWD6gC"
      },
      "source": [
        "### Configuring Google Drive and Checking GPU Collab Notebook"
      ],
      "id": "0as3JMvWD6gC"
    },
    {
      "cell_type": "code",
      "metadata": {
        "colab": {
          "base_uri": "https://localhost:8080/"
        },
        "id": "XNuGOk4rbVhe",
        "outputId": "9877a7ff-2d4b-4806-b628-fd7636e7be7b"
      },
      "source": [
        "%tensorflow_version 2.x\n",
        "import tensorflow as tf\n",
        "device_name = tf.test.gpu_device_name()\n",
        "if device_name != '/device:GPU:0':\n",
        "  raise SystemError('GPU device not found')\n",
        "print('Found GPU at: {}'.format(device_name))\n",
        "\n",
        "gpu_info = !nvidia-smi\n",
        "gpu_info = '\\n'.join(gpu_info)\n",
        "if gpu_info.find('failed') >= 0:\n",
        "  print('Not connected to a GPU')\n",
        "else:\n",
        "  print(gpu_info)"
      ],
      "id": "XNuGOk4rbVhe",
      "execution_count": 3,
      "outputs": [
        {
          "output_type": "stream",
          "text": [
            "Found GPU at: /device:GPU:0\n",
            "Thu Aug 26 13:31:56 2021       \n",
            "+-----------------------------------------------------------------------------+\n",
            "| NVIDIA-SMI 470.57.02    Driver Version: 460.32.03    CUDA Version: 11.2     |\n",
            "|-------------------------------+----------------------+----------------------+\n",
            "| GPU  Name        Persistence-M| Bus-Id        Disp.A | Volatile Uncorr. ECC |\n",
            "| Fan  Temp  Perf  Pwr:Usage/Cap|         Memory-Usage | GPU-Util  Compute M. |\n",
            "|                               |                      |               MIG M. |\n",
            "|===============================+======================+======================|\n",
            "|   0  Tesla P100-PCIE...  Off  | 00000000:00:04.0 Off |                    0 |\n",
            "| N/A   39C    P0    37W / 250W |    345MiB / 16280MiB |      0%      Default |\n",
            "|                               |                      |                  N/A |\n",
            "+-------------------------------+----------------------+----------------------+\n",
            "                                                                               \n",
            "+-----------------------------------------------------------------------------+\n",
            "| Processes:                                                                  |\n",
            "|  GPU   GI   CI        PID   Type   Process name                  GPU Memory |\n",
            "|        ID   ID                                                   Usage      |\n",
            "|=============================================================================|\n",
            "|  No running processes found                                                 |\n",
            "+-----------------------------------------------------------------------------+\n"
          ],
          "name": "stdout"
        }
      ]
    },
    {
      "cell_type": "code",
      "metadata": {
        "colab": {
          "base_uri": "https://localhost:8080/"
        },
        "id": "qlzKZ3bIXsD8",
        "outputId": "3d3d8297-ce00-4fff-f676-2e508c508c71"
      },
      "source": [
        "from google.colab import drive\n",
        "drive.mount('/content/drive')"
      ],
      "id": "qlzKZ3bIXsD8",
      "execution_count": 4,
      "outputs": [
        {
          "output_type": "stream",
          "text": [
            "Drive already mounted at /content/drive; to attempt to forcibly remount, call drive.mount(\"/content/drive\", force_remount=True).\n"
          ],
          "name": "stdout"
        }
      ]
    },
    {
      "cell_type": "markdown",
      "metadata": {
        "id": "sweet-japan"
      },
      "source": [
        "# DATA UNDERSTANDING PHASE- PHILOSOPHERS TEXT"
      ],
      "id": "sweet-japan"
    },
    {
      "cell_type": "markdown",
      "metadata": {
        "id": "cordless-bridal"
      },
      "source": [
        "## Importing and Checking Data"
      ],
      "id": "cordless-bridal"
    },
    {
      "cell_type": "code",
      "metadata": {
        "id": "presidential-burner"
      },
      "source": [
        "import pandas as pd\n",
        "import numpy as np\n",
        "df = pd.read_csv('/content/drive/MyDrive/data/sentences.csv')"
      ],
      "id": "presidential-burner",
      "execution_count": 5,
      "outputs": []
    },
    {
      "cell_type": "code",
      "metadata": {
        "colab": {
          "base_uri": "https://localhost:8080/",
          "height": 397
        },
        "id": "interracial-verification",
        "outputId": "7221f825-8cbc-443e-e489-27eb2ace0ef8"
      },
      "source": [
        "df.head(3)"
      ],
      "id": "interracial-verification",
      "execution_count": 6,
      "outputs": [
        {
          "output_type": "execute_result",
          "data": {
            "text/html": [
              "<div>\n",
              "<style scoped>\n",
              "    .dataframe tbody tr th:only-of-type {\n",
              "        vertical-align: middle;\n",
              "    }\n",
              "\n",
              "    .dataframe tbody tr th {\n",
              "        vertical-align: top;\n",
              "    }\n",
              "\n",
              "    .dataframe thead th {\n",
              "        text-align: right;\n",
              "    }\n",
              "</style>\n",
              "<table border=\"1\" class=\"dataframe\">\n",
              "  <thead>\n",
              "    <tr style=\"text-align: right;\">\n",
              "      <th></th>\n",
              "      <th>label</th>\n",
              "      <th>sentence</th>\n",
              "      <th>author</th>\n",
              "      <th>word_count</th>\n",
              "      <th>mean_word_length</th>\n",
              "      <th>stop_words_ratio</th>\n",
              "      <th>stop_words_count</th>\n",
              "      <th>ADJ_count</th>\n",
              "      <th>ADV_count</th>\n",
              "      <th>ADP_count</th>\n",
              "      <th>AUX_count</th>\n",
              "      <th>DET_count</th>\n",
              "      <th>NUM_count</th>\n",
              "      <th>X_count</th>\n",
              "      <th>INTJ_count</th>\n",
              "      <th>CONJ_count</th>\n",
              "      <th>CCONJ_count</th>\n",
              "      <th>SCONJ_count</th>\n",
              "      <th>PROPN_count</th>\n",
              "      <th>NOUN_count</th>\n",
              "      <th>PRON_count</th>\n",
              "      <th>PART_count</th>\n",
              "      <th>VERB_count</th>\n",
              "    </tr>\n",
              "  </thead>\n",
              "  <tbody>\n",
              "    <tr>\n",
              "      <th>0</th>\n",
              "      <td>0</td>\n",
              "      <td>We may call the faculty of cognition from prin...</td>\n",
              "      <td>Kant</td>\n",
              "      <td>64</td>\n",
              "      <td>5.20</td>\n",
              "      <td>56.25</td>\n",
              "      <td>36</td>\n",
              "      <td>6</td>\n",
              "      <td>2</td>\n",
              "      <td>11</td>\n",
              "      <td>0</td>\n",
              "      <td>11</td>\n",
              "      <td>0</td>\n",
              "      <td>1</td>\n",
              "      <td>0</td>\n",
              "      <td>0</td>\n",
              "      <td>2</td>\n",
              "      <td>3</td>\n",
              "      <td>0</td>\n",
              "      <td>17</td>\n",
              "      <td>3</td>\n",
              "      <td>1</td>\n",
              "      <td>7</td>\n",
              "    </tr>\n",
              "    <tr>\n",
              "      <th>1</th>\n",
              "      <td>0</td>\n",
              "      <td>That goes merely into our faculty of knowing t...</td>\n",
              "      <td>Kant</td>\n",
              "      <td>82</td>\n",
              "      <td>5.13</td>\n",
              "      <td>57.32</td>\n",
              "      <td>47</td>\n",
              "      <td>5</td>\n",
              "      <td>4</td>\n",
              "      <td>14</td>\n",
              "      <td>1</td>\n",
              "      <td>14</td>\n",
              "      <td>0</td>\n",
              "      <td>3</td>\n",
              "      <td>0</td>\n",
              "      <td>0</td>\n",
              "      <td>6</td>\n",
              "      <td>2</td>\n",
              "      <td>3</td>\n",
              "      <td>17</td>\n",
              "      <td>4</td>\n",
              "      <td>0</td>\n",
              "      <td>9</td>\n",
              "    </tr>\n",
              "    <tr>\n",
              "      <th>2</th>\n",
              "      <td>0</td>\n",
              "      <td>The Critique, then, which sifts them all, as r...</td>\n",
              "      <td>Kant</td>\n",
              "      <td>50</td>\n",
              "      <td>4.84</td>\n",
              "      <td>62.00</td>\n",
              "      <td>31</td>\n",
              "      <td>4</td>\n",
              "      <td>1</td>\n",
              "      <td>6</td>\n",
              "      <td>1</td>\n",
              "      <td>12</td>\n",
              "      <td>0</td>\n",
              "      <td>1</td>\n",
              "      <td>0</td>\n",
              "      <td>0</td>\n",
              "      <td>1</td>\n",
              "      <td>3</td>\n",
              "      <td>1</td>\n",
              "      <td>10</td>\n",
              "      <td>3</td>\n",
              "      <td>1</td>\n",
              "      <td>6</td>\n",
              "    </tr>\n",
              "  </tbody>\n",
              "</table>\n",
              "</div>"
            ],
            "text/plain": [
              "   label  ... VERB_count\n",
              "0      0  ...          7\n",
              "1      0  ...          9\n",
              "2      0  ...          6\n",
              "\n",
              "[3 rows x 23 columns]"
            ]
          },
          "metadata": {},
          "execution_count": 6
        }
      ]
    },
    {
      "cell_type": "code",
      "metadata": {
        "colab": {
          "base_uri": "https://localhost:8080/",
          "height": 203
        },
        "id": "clean-groove",
        "outputId": "975a6bc8-e42c-4e91-c79c-78646e8036c4"
      },
      "source": [
        "df_n = df.iloc[:,:3]\n",
        "\n",
        "df_n.head()"
      ],
      "id": "clean-groove",
      "execution_count": 7,
      "outputs": [
        {
          "output_type": "execute_result",
          "data": {
            "text/html": [
              "<div>\n",
              "<style scoped>\n",
              "    .dataframe tbody tr th:only-of-type {\n",
              "        vertical-align: middle;\n",
              "    }\n",
              "\n",
              "    .dataframe tbody tr th {\n",
              "        vertical-align: top;\n",
              "    }\n",
              "\n",
              "    .dataframe thead th {\n",
              "        text-align: right;\n",
              "    }\n",
              "</style>\n",
              "<table border=\"1\" class=\"dataframe\">\n",
              "  <thead>\n",
              "    <tr style=\"text-align: right;\">\n",
              "      <th></th>\n",
              "      <th>label</th>\n",
              "      <th>sentence</th>\n",
              "      <th>author</th>\n",
              "    </tr>\n",
              "  </thead>\n",
              "  <tbody>\n",
              "    <tr>\n",
              "      <th>0</th>\n",
              "      <td>0</td>\n",
              "      <td>We may call the faculty of cognition from prin...</td>\n",
              "      <td>Kant</td>\n",
              "    </tr>\n",
              "    <tr>\n",
              "      <th>1</th>\n",
              "      <td>0</td>\n",
              "      <td>That goes merely into our faculty of knowing t...</td>\n",
              "      <td>Kant</td>\n",
              "    </tr>\n",
              "    <tr>\n",
              "      <th>2</th>\n",
              "      <td>0</td>\n",
              "      <td>The Critique, then, which sifts them all, as r...</td>\n",
              "      <td>Kant</td>\n",
              "    </tr>\n",
              "    <tr>\n",
              "      <th>3</th>\n",
              "      <td>0</td>\n",
              "      <td>It relegates all other pure concepts under Ide...</td>\n",
              "      <td>Kant</td>\n",
              "    </tr>\n",
              "    <tr>\n",
              "      <th>4</th>\n",
              "      <td>0</td>\n",
              "      <td>For they serve as regulative principles; partl...</td>\n",
              "      <td>Kant</td>\n",
              "    </tr>\n",
              "  </tbody>\n",
              "</table>\n",
              "</div>"
            ],
            "text/plain": [
              "   label                                           sentence author\n",
              "0      0  We may call the faculty of cognition from prin...   Kant\n",
              "1      0  That goes merely into our faculty of knowing t...   Kant\n",
              "2      0  The Critique, then, which sifts them all, as r...   Kant\n",
              "3      0  It relegates all other pure concepts under Ide...   Kant\n",
              "4      0  For they serve as regulative principles; partl...   Kant"
            ]
          },
          "metadata": {},
          "execution_count": 7
        }
      ]
    },
    {
      "cell_type": "code",
      "metadata": {
        "colab": {
          "base_uri": "https://localhost:8080/"
        },
        "id": "canadian-pittsburgh",
        "scrolled": true,
        "outputId": "97efa6d0-95d6-46c1-975c-11b5d534c97f"
      },
      "source": [
        "print(df['label'].unique())\n",
        "\n",
        "print(df['author'].unique())\n",
        "\n",
        "philo_list = ['Kant', 'Hume', 'Plato', 'Aristotle','Nietzsche']\n"
      ],
      "id": "canadian-pittsburgh",
      "execution_count": 8,
      "outputs": [
        {
          "output_type": "stream",
          "text": [
            "[0 1 2 3 4]\n",
            "['Kant' 'Hume' 'Plato' 'Aristotle' 'Nietzsche']\n"
          ],
          "name": "stdout"
        }
      ]
    },
    {
      "cell_type": "code",
      "metadata": {
        "colab": {
          "base_uri": "https://localhost:8080/"
        },
        "id": "amazing-shell",
        "outputId": "2f6f741e-0085-4e0d-c94e-0bcc4de52964"
      },
      "source": [
        "df_n.shape"
      ],
      "id": "amazing-shell",
      "execution_count": 9,
      "outputs": [
        {
          "output_type": "execute_result",
          "data": {
            "text/plain": [
              "(107134, 3)"
            ]
          },
          "metadata": {},
          "execution_count": 9
        }
      ]
    },
    {
      "cell_type": "markdown",
      "metadata": {
        "id": "YL4VqUuzpfuN"
      },
      "source": [
        "## Stratified Sampling"
      ],
      "id": "YL4VqUuzpfuN"
    },
    {
      "cell_type": "code",
      "metadata": {
        "colab": {
          "base_uri": "https://localhost:8080/"
        },
        "id": "unsigned-practice",
        "outputId": "971576e5-899c-40c9-ad62-d2ae868255e4"
      },
      "source": [
        "df_n['author'].value_counts()"
      ],
      "id": "unsigned-practice",
      "execution_count": 10,
      "outputs": [
        {
          "output_type": "execute_result",
          "data": {
            "text/plain": [
              "Hume         45328\n",
              "Plato        19741\n",
              "Nietzsche    18589\n",
              "Kant         13288\n",
              "Aristotle    10188\n",
              "Name: author, dtype: int64"
            ]
          },
          "metadata": {},
          "execution_count": 10
        }
      ]
    },
    {
      "cell_type": "code",
      "metadata": {
        "id": "OnsvcHR1peor",
        "colab": {
          "base_uri": "https://localhost:8080/"
        },
        "outputId": "2ecf109f-cb9e-445c-c02e-653bfd210d3f"
      },
      "source": [
        "(df['author'].value_counts() / len(df)).sort_values(ascending=False)"
      ],
      "id": "OnsvcHR1peor",
      "execution_count": 11,
      "outputs": [
        {
          "output_type": "execute_result",
          "data": {
            "text/plain": [
              "Hume         0.423096\n",
              "Plato        0.184265\n",
              "Nietzsche    0.173512\n",
              "Kant         0.124032\n",
              "Aristotle    0.095096\n",
              "Name: author, dtype: float64"
            ]
          },
          "metadata": {},
          "execution_count": 11
        }
      ]
    },
    {
      "cell_type": "code",
      "metadata": {
        "id": "7m_kTfmbayHG"
      },
      "source": [
        "def stratify_data(df_data, stratify_col_name, stratify_val, stratify_prop, random_state=None):\n",
        "    \"\"\"\n",
        "    Returns:\n",
        "        DataFrame: a new dataframe based the new proportions represnting the desired stratification strategy\n",
        "    \"\"\"\n",
        "    df_stratified = pd.DataFrame(columns = df_data.columns) # Create an empty DataFrame with column names matching df_data\n",
        "\n",
        "    pos = -1\n",
        "    for i in range(len(stratify_val)): # iterate over the stratify values (e.g. \"Male, Undergraduate\" etc.)\n",
        "        pos += 1\n",
        "        if pos == len(stratify_val) - 1: \n",
        "            ratio_len = len(df_data) - len(df_stratified) # if this is the final iteration make sure we calculate the number of values for the last set such that the return data has the same number of rows as the source data\n",
        "        else:\n",
        "            ratio_len = int(len(df_data) * stratify_prop[i]) # Calculate the number of rows to match the desired proportion\n",
        "\n",
        "        df_filtered = df_data[df_data[stratify_col_name] ==stratify_val[i]] # Filter the source data based on the currently selected stratify value\n",
        "        df_temp = df_filtered.sample(replace=True, n=ratio_len, random_state=random_state) # Sample the filtered data using the calculated ratio\n",
        "        \n",
        "        df_stratified = pd.concat([df_stratified, df_temp]) # Add the sampled / stratified datasets together to produce the final result\n",
        "        \n",
        "    return df_stratified # Return the stratified, re-sampled data  "
      ],
      "id": "7m_kTfmbayHG",
      "execution_count": 12,
      "outputs": []
    },
    {
      "cell_type": "code",
      "metadata": {
        "id": "hs-TejG6bWV8"
      },
      "source": [
        ""
      ],
      "id": "hs-TejG6bWV8",
      "execution_count": 12,
      "outputs": []
    },
    {
      "cell_type": "code",
      "metadata": {
        "colab": {
          "base_uri": "https://localhost:8080/",
          "height": 417
        },
        "id": "PwgQ6jcaa0xV",
        "outputId": "eb5942da-9aa3-4c80-9a1f-4646d0b8b032"
      },
      "source": [
        "stratify_values = philo_list\n",
        "stratify_proportions = [0.20, 0.20, 0.20, 0.20,0.20]\n",
        "df_stratified = stratify_data(df_n, 'author', stratify_values, stratify_proportions, random_state=42)\n",
        "df_stratified"
      ],
      "id": "PwgQ6jcaa0xV",
      "execution_count": 13,
      "outputs": [
        {
          "output_type": "execute_result",
          "data": {
            "text/html": [
              "<div>\n",
              "<style scoped>\n",
              "    .dataframe tbody tr th:only-of-type {\n",
              "        vertical-align: middle;\n",
              "    }\n",
              "\n",
              "    .dataframe tbody tr th {\n",
              "        vertical-align: top;\n",
              "    }\n",
              "\n",
              "    .dataframe thead th {\n",
              "        text-align: right;\n",
              "    }\n",
              "</style>\n",
              "<table border=\"1\" class=\"dataframe\">\n",
              "  <thead>\n",
              "    <tr style=\"text-align: right;\">\n",
              "      <th></th>\n",
              "      <th>label</th>\n",
              "      <th>sentence</th>\n",
              "      <th>author</th>\n",
              "    </tr>\n",
              "  </thead>\n",
              "  <tbody>\n",
              "    <tr>\n",
              "      <th>7270</th>\n",
              "      <td>0</td>\n",
              "      <td>Now every change has a cause, which evidences ...</td>\n",
              "      <td>Kant</td>\n",
              "    </tr>\n",
              "    <tr>\n",
              "      <th>860</th>\n",
              "      <td>0</td>\n",
              "      <td>the presupposition of the moral feeling in man.</td>\n",
              "      <td>Kant</td>\n",
              "    </tr>\n",
              "    <tr>\n",
              "      <th>5390</th>\n",
              "      <td>0</td>\n",
              "      <td>For if, on the one hand, we place them in pure...</td>\n",
              "      <td>Kant</td>\n",
              "    </tr>\n",
              "    <tr>\n",
              "      <th>5191</th>\n",
              "      <td>0</td>\n",
              "      <td>Now it is clear from the Analytic that the max...</td>\n",
              "      <td>Kant</td>\n",
              "    </tr>\n",
              "    <tr>\n",
              "      <th>11964</th>\n",
              "      <td>0</td>\n",
              "      <td>The federation of Europe will follow the feder...</td>\n",
              "      <td>Kant</td>\n",
              "    </tr>\n",
              "    <tr>\n",
              "      <th>...</th>\n",
              "      <td>...</td>\n",
              "      <td>...</td>\n",
              "      <td>...</td>\n",
              "    </tr>\n",
              "    <tr>\n",
              "      <th>102862</th>\n",
              "      <td>4</td>\n",
              "      <td>Wherever the Olympian gods receded into the ba...</td>\n",
              "      <td>Nietzsche</td>\n",
              "    </tr>\n",
              "    <tr>\n",
              "      <th>97690</th>\n",
              "      <td>4</td>\n",
              "      <td>To be sure, I love in him the shoulders of the...</td>\n",
              "      <td>Nietzsche</td>\n",
              "    </tr>\n",
              "    <tr>\n",
              "      <th>102902</th>\n",
              "      <td>4</td>\n",
              "      <td>126 Art and Strength of False Interpretation.-...</td>\n",
              "      <td>Nietzsche</td>\n",
              "    </tr>\n",
              "    <tr>\n",
              "      <th>98362</th>\n",
              "      <td>4</td>\n",
              "      <td>Art thou not the light of my fire?</td>\n",
              "      <td>Nietzsche</td>\n",
              "    </tr>\n",
              "    <tr>\n",
              "      <th>90415</th>\n",
              "      <td>4</td>\n",
              "      <td>It is precisely because of his belief in a mor...</td>\n",
              "      <td>Nietzsche</td>\n",
              "    </tr>\n",
              "  </tbody>\n",
              "</table>\n",
              "<p>107134 rows × 3 columns</p>\n",
              "</div>"
            ],
            "text/plain": [
              "       label                                           sentence     author\n",
              "7270       0  Now every change has a cause, which evidences ...       Kant\n",
              "860        0    the presupposition of the moral feeling in man.       Kant\n",
              "5390       0  For if, on the one hand, we place them in pure...       Kant\n",
              "5191       0  Now it is clear from the Analytic that the max...       Kant\n",
              "11964      0  The federation of Europe will follow the feder...       Kant\n",
              "...      ...                                                ...        ...\n",
              "102862     4  Wherever the Olympian gods receded into the ba...  Nietzsche\n",
              "97690      4  To be sure, I love in him the shoulders of the...  Nietzsche\n",
              "102902     4  126 Art and Strength of False Interpretation.-...  Nietzsche\n",
              "98362      4                 Art thou not the light of my fire?  Nietzsche\n",
              "90415      4  It is precisely because of his belief in a mor...  Nietzsche\n",
              "\n",
              "[107134 rows x 3 columns]"
            ]
          },
          "metadata": {},
          "execution_count": 13
        }
      ]
    },
    {
      "cell_type": "code",
      "metadata": {
        "colab": {
          "base_uri": "https://localhost:8080/"
        },
        "id": "up3qxOLMbwrv",
        "outputId": "106c202f-5aa4-4473-eea3-2b43f5ad79dd"
      },
      "source": [
        "(df_stratified['author'].value_counts() / len(df)).sort_values(ascending=False)"
      ],
      "id": "up3qxOLMbwrv",
      "execution_count": 14,
      "outputs": [
        {
          "output_type": "execute_result",
          "data": {
            "text/plain": [
              "Nietzsche    0.200030\n",
              "Hume         0.199993\n",
              "Aristotle    0.199993\n",
              "Plato        0.199993\n",
              "Kant         0.199993\n",
              "Name: author, dtype: float64"
            ]
          },
          "metadata": {},
          "execution_count": 14
        }
      ]
    },
    {
      "cell_type": "markdown",
      "metadata": {
        "id": "choice-median"
      },
      "source": [
        "# DATA PREPARATION PHASE - PHILOSOPHERS TEXT"
      ],
      "id": "choice-median"
    },
    {
      "cell_type": "code",
      "metadata": {
        "id": "3K2xyund9Esg"
      },
      "source": [
        "\n",
        "# Import Natural Language Processing Libraries\n",
        "import nltk\n",
        "import re\n",
        "import string\n",
        "\n",
        "# nlp = spacy.load('en_core_web_sm')"
      ],
      "id": "3K2xyund9Esg",
      "execution_count": 15,
      "outputs": []
    },
    {
      "cell_type": "code",
      "metadata": {
        "colab": {
          "base_uri": "https://localhost:8080/"
        },
        "id": "qualified-naples",
        "scrolled": true,
        "outputId": "94c5c7d3-0b15-4fb8-e32a-eac7cc36c05b"
      },
      "source": [
        "df_stratified.isnull().sum()"
      ],
      "id": "qualified-naples",
      "execution_count": 16,
      "outputs": [
        {
          "output_type": "execute_result",
          "data": {
            "text/plain": [
              "label       0\n",
              "sentence    0\n",
              "author      0\n",
              "dtype: int64"
            ]
          },
          "metadata": {},
          "execution_count": 16
        }
      ]
    },
    {
      "cell_type": "code",
      "metadata": {
        "colab": {
          "base_uri": "https://localhost:8080/",
          "height": 86
        },
        "id": "classified-lodge",
        "outputId": "9f618091-eac2-4821-f0e3-320ff0c59868"
      },
      "source": [
        "sent = df_stratified['sentence'][0]\n",
        "\n",
        "sent"
      ],
      "id": "classified-lodge",
      "execution_count": 17,
      "outputs": [
        {
          "output_type": "execute_result",
          "data": {
            "application/vnd.google.colaboratory.intrinsic+json": {
              "type": "string"
            },
            "text/plain": [
              "'We may call the faculty of cognition from principles a priori, pure Reason, and the inquiry into its possibility and bounds generally the Critique of pure Reason, although by this faculty we only understand Reason in its theoretical employment, as it appears under that name in the former work; without wishing to inquire into its faculty, as practical Reason, according to its special principles.'"
            ]
          },
          "metadata": {},
          "execution_count": 17
        }
      ]
    },
    {
      "cell_type": "code",
      "metadata": {
        "colab": {
          "base_uri": "https://localhost:8080/"
        },
        "id": "orange-writer",
        "outputId": "9c2d9788-7514-40a0-d269-4110144b1386"
      },
      "source": [
        "df_stratified['abrev_auth']= df_stratified['author'].apply(lambda abrev: 'KNT' if abrev == 'Kant' \n",
        "                                         else 'HUM' if abrev == 'Hume' \n",
        "                                         else 'PLT' if abrev == 'Plato' \n",
        "                                         else 'ALE' if abrev =='Aristotle' \n",
        "                                         else 'NZE')\n",
        "\n",
        "\n",
        "df_stratified[\"abrev_auth\"].unique()"
      ],
      "id": "orange-writer",
      "execution_count": 18,
      "outputs": [
        {
          "output_type": "execute_result",
          "data": {
            "text/plain": [
              "array(['KNT', 'HUM', 'PLT', 'ALE', 'NZE'], dtype=object)"
            ]
          },
          "metadata": {},
          "execution_count": 18
        }
      ]
    },
    {
      "cell_type": "code",
      "metadata": {
        "colab": {
          "base_uri": "https://localhost:8080/",
          "height": 86
        },
        "id": "backed-machinery",
        "outputId": "6a6d02b6-1ef8-492e-ab18-3bdcee49b39f"
      },
      "source": [
        "# Remove all Capitalisation\n",
        "\n",
        "df_stratified['lower_sentence']= df_stratified['sentence'].apply(lambda s: s.lower())\n",
        "\n",
        "df_stratified['lower_sentence'][0]"
      ],
      "id": "backed-machinery",
      "execution_count": 19,
      "outputs": [
        {
          "output_type": "execute_result",
          "data": {
            "application/vnd.google.colaboratory.intrinsic+json": {
              "type": "string"
            },
            "text/plain": [
              "'we may call the faculty of cognition from principles a priori, pure reason, and the inquiry into its possibility and bounds generally the critique of pure reason, although by this faculty we only understand reason in its theoretical employment, as it appears under that name in the former work; without wishing to inquire into its faculty, as practical reason, according to its special principles.'"
            ]
          },
          "metadata": {},
          "execution_count": 19
        }
      ]
    },
    {
      "cell_type": "code",
      "metadata": {
        "id": "transsexual-swedish"
      },
      "source": [
        "df_stratified[\"abrev_auth\"].unique()\n",
        "\n",
        "# Deleting the author column\n",
        "del df_stratified['author'] \n",
        "\n",
        "# Re-ordering columns in dataframe\n",
        "df_stratified = df_stratified[[\"label\", \"abrev_auth\", \"sentence\",\"lower_sentence\"]]\n",
        "\n",
        "# Rename Columns\n",
        "df_stratified.rename(inplace=True,columns={\"abrev_auth\":\"author\"})\n"
      ],
      "id": "transsexual-swedish",
      "execution_count": 20,
      "outputs": []
    },
    {
      "cell_type": "code",
      "metadata": {
        "id": "tH3GYM9YIJ_P"
      },
      "source": [
        "del df_stratified['sentence']\n",
        "\n",
        "\n",
        "df_stratified.rename(inplace=True,columns={\"lower_sentence\":\"sentence\"})"
      ],
      "id": "tH3GYM9YIJ_P",
      "execution_count": 21,
      "outputs": []
    },
    {
      "cell_type": "code",
      "metadata": {
        "colab": {
          "base_uri": "https://localhost:8080/",
          "height": 203
        },
        "id": "yR3nATXiIUUD",
        "outputId": "7cabc811-f022-4a2f-a81b-f5a70a4d696a"
      },
      "source": [
        "df_stratified.head()"
      ],
      "id": "yR3nATXiIUUD",
      "execution_count": 22,
      "outputs": [
        {
          "output_type": "execute_result",
          "data": {
            "text/html": [
              "<div>\n",
              "<style scoped>\n",
              "    .dataframe tbody tr th:only-of-type {\n",
              "        vertical-align: middle;\n",
              "    }\n",
              "\n",
              "    .dataframe tbody tr th {\n",
              "        vertical-align: top;\n",
              "    }\n",
              "\n",
              "    .dataframe thead th {\n",
              "        text-align: right;\n",
              "    }\n",
              "</style>\n",
              "<table border=\"1\" class=\"dataframe\">\n",
              "  <thead>\n",
              "    <tr style=\"text-align: right;\">\n",
              "      <th></th>\n",
              "      <th>label</th>\n",
              "      <th>author</th>\n",
              "      <th>sentence</th>\n",
              "    </tr>\n",
              "  </thead>\n",
              "  <tbody>\n",
              "    <tr>\n",
              "      <th>7270</th>\n",
              "      <td>0</td>\n",
              "      <td>KNT</td>\n",
              "      <td>now every change has a cause, which evidences ...</td>\n",
              "    </tr>\n",
              "    <tr>\n",
              "      <th>860</th>\n",
              "      <td>0</td>\n",
              "      <td>KNT</td>\n",
              "      <td>the presupposition of the moral feeling in man.</td>\n",
              "    </tr>\n",
              "    <tr>\n",
              "      <th>5390</th>\n",
              "      <td>0</td>\n",
              "      <td>KNT</td>\n",
              "      <td>for if, on the one hand, we place them in pure...</td>\n",
              "    </tr>\n",
              "    <tr>\n",
              "      <th>5191</th>\n",
              "      <td>0</td>\n",
              "      <td>KNT</td>\n",
              "      <td>now it is clear from the analytic that the max...</td>\n",
              "    </tr>\n",
              "    <tr>\n",
              "      <th>11964</th>\n",
              "      <td>0</td>\n",
              "      <td>KNT</td>\n",
              "      <td>the federation of europe will follow the feder...</td>\n",
              "    </tr>\n",
              "  </tbody>\n",
              "</table>\n",
              "</div>"
            ],
            "text/plain": [
              "      label author                                           sentence\n",
              "7270      0    KNT  now every change has a cause, which evidences ...\n",
              "860       0    KNT    the presupposition of the moral feeling in man.\n",
              "5390      0    KNT  for if, on the one hand, we place them in pure...\n",
              "5191      0    KNT  now it is clear from the analytic that the max...\n",
              "11964     0    KNT  the federation of europe will follow the feder..."
            ]
          },
          "metadata": {},
          "execution_count": 22
        }
      ]
    },
    {
      "cell_type": "code",
      "metadata": {
        "id": "sF3o8lwKfOA2"
      },
      "source": [
        "\n",
        "# def remove_punct(text):\n",
        "#   table = str.maketrans(\"\",\"\", string.punctuation)\n",
        "#   return text.translate(table)\n",
        "\n",
        "\n",
        "# df_stratified['sentence']= df_stratified.sentence.map(lambda x: remove_punct(x))\n",
        "\n",
        "\n",
        "# df_stratified.head()"
      ],
      "id": "sF3o8lwKfOA2",
      "execution_count": 23,
      "outputs": []
    },
    {
      "cell_type": "code",
      "metadata": {
        "id": "ryrnK9jKXDiA"
      },
      "source": [
        "\n",
        "# from nltk.corpus import stopwords\n",
        "# nltk.download(\"stopwords\", quiet=True)\n",
        "\n",
        "# sw = set(stopwords.words('english'))\n",
        "\n",
        "# def remove_stop_words(text):\n",
        "#   text = [word.lower() for word in text.split() if word.lower() not in sw ]\n",
        "\n",
        "#   return \" \".join(text)\n",
        "\n",
        "\n",
        "# df_stratified['sentence'] =   df_stratified['sentence'].map(remove_stop_words)\n",
        "\n",
        "# df_stratified.head()"
      ],
      "id": "ryrnK9jKXDiA",
      "execution_count": 24,
      "outputs": []
    },
    {
      "cell_type": "code",
      "metadata": {
        "colab": {
          "base_uri": "https://localhost:8080/"
        },
        "id": "JZ9EX0krauXn",
        "outputId": "fc91835c-9b1b-4368-ca27-3e92e9665ade"
      },
      "source": [
        "df_stratified.sentence[:3]"
      ],
      "id": "JZ9EX0krauXn",
      "execution_count": 25,
      "outputs": [
        {
          "output_type": "execute_result",
          "data": {
            "text/plain": [
              "7270    now every change has a cause, which evidences ...\n",
              "860       the presupposition of the moral feeling in man.\n",
              "5390    for if, on the one hand, we place them in pure...\n",
              "Name: sentence, dtype: object"
            ]
          },
          "metadata": {},
          "execution_count": 25
        }
      ]
    },
    {
      "cell_type": "markdown",
      "metadata": {
        "id": "executed-trash"
      },
      "source": [
        "# EXPOLORATORY DATA ANALYSIS - PHILOSOPHERS TEXTS "
      ],
      "id": "executed-trash"
    },
    {
      "cell_type": "code",
      "metadata": {
        "id": "major-psychiatry"
      },
      "source": [
        "# Importing data visualisation Libraries \n",
        "import matplotlib.pyplot as plt \n",
        "import seaborn as sns\n",
        "\n",
        "from wordcloud import WordCloud, ImageColorGenerator\n",
        "from PIL import Image"
      ],
      "id": "major-psychiatry",
      "execution_count": 26,
      "outputs": []
    },
    {
      "cell_type": "markdown",
      "metadata": {
        "id": "BzXWDteO5ccj"
      },
      "source": [
        "## Bar Plot Word Count per Author"
      ],
      "id": "BzXWDteO5ccj"
    },
    {
      "cell_type": "code",
      "metadata": {
        "colab": {
          "base_uri": "https://localhost:8080/",
          "height": 308
        },
        "id": "motivated-trademark",
        "outputId": "8f6a80e0-1f1e-4ba6-e56d-ddbe80ac713e"
      },
      "source": [
        "fig, ax = plt.subplots()\n",
        "fig.suptitle(\"y\", fontsize=12)\n",
        "df_n['author'].reset_index().groupby(\"author\").count().sort_values(by= \n",
        "       \"index\").plot(kind=\"barh\", legend=False, \n",
        "        ax=ax).grid(axis='x')\n",
        "plt.xlabel('Word Count')\n",
        "plt.ylabel('Author Count')\n",
        "plt.show()\n"
      ],
      "id": "motivated-trademark",
      "execution_count": null,
      "outputs": [
        {
          "output_type": "display_data",
          "data": {
            "image/png": "[encoded data removed]",
            "text/plain": [
              "<Figure size 432x288 with 1 Axes>"
            ]
          },
          "metadata": {
            "needs_background": "light"
          }
        }
      ]
    },
    {
      "cell_type": "markdown",
      "metadata": {
        "id": "N1GH5ZXo5rzI"
      },
      "source": [
        "## Density plot of Word Count per Author"
      ],
      "id": "N1GH5ZXo5rzI"
    },
    {
      "cell_type": "code",
      "metadata": {
        "colab": {
          "base_uri": "https://localhost:8080/",
          "height": 280
        },
        "id": "numerous-resource",
        "outputId": "3e36be4b-d7c1-4a5e-a898-ddcf262d1981"
      },
      "source": [
        "\n",
        "# bins =1.15 **(np.arange(0,35))\n",
        "sns.kdeplot(df[df['author']=='Hume']['word_count'], alpha= 0.5,gridsize=200)\n",
        "sns.kdeplot(df[df['author']=='Kant']['word_count'], alpha= 0.5)\n",
        "sns.kdeplot(df[df['author']=='Nietzsche']['word_count'], alpha= 0.5)\n",
        "sns.kdeplot(df[df['author']=='Aristotle']['word_count'], alpha= 0.5)\n",
        "sns.kdeplot(df[df['author']=='Plato']['word_count'], alpha= 0.5)\n",
        "plt.legend(('Hume','Kant','Nietzsche','Aristotle','Plato'))\n",
        "plt.show()"
      ],
      "id": "numerous-resource",
      "execution_count": null,
      "outputs": [
        {
          "output_type": "display_data",
          "data": {
            "image/png": "[encoded data removed]",
            "text/plain": [
              "<Figure size 432x288 with 1 Axes>"
            ]
          },
          "metadata": {
            "needs_background": "light"
          }
        }
      ]
    },
    {
      "cell_type": "markdown",
      "metadata": {
        "id": "YqwItbWT5y28"
      },
      "source": [
        "## Word Cloud- Hume"
      ],
      "id": "YqwItbWT5y28"
    },
    {
      "cell_type": "code",
      "metadata": {
        "id": "WFyiGv1n6YxJ"
      },
      "source": [
        "\n",
        "# Isolate Hume Corpus\n",
        "\n",
        "hume_corpus = df_n[df_n['author']=='HUM']\n",
        "\n",
        "\n",
        "\n"
      ],
      "id": "WFyiGv1n6YxJ",
      "execution_count": null,
      "outputs": []
    },
    {
      "cell_type": "code",
      "metadata": {
        "id": "GIoNVZiHfF_U"
      },
      "source": [
        ""
      ],
      "id": "GIoNVZiHfF_U",
      "execution_count": null,
      "outputs": []
    },
    {
      "cell_type": "markdown",
      "metadata": {
        "id": "MMAhfrGr55lu"
      },
      "source": [
        "## Word Cloud- Kant\n"
      ],
      "id": "MMAhfrGr55lu"
    },
    {
      "cell_type": "code",
      "metadata": {
        "id": "V4x5_Grl6ZSW"
      },
      "source": [
        "\n",
        "# Isolate kant Corpus\n",
        "\n",
        "kant_corpus = df_n[df_n['author']=='KNT']\n",
        "\n"
      ],
      "id": "V4x5_Grl6ZSW",
      "execution_count": null,
      "outputs": []
    },
    {
      "cell_type": "markdown",
      "metadata": {
        "id": "U1N53H256AbY"
      },
      "source": [
        "## Word Cloud- Nietzsche\n"
      ],
      "id": "U1N53H256AbY"
    },
    {
      "cell_type": "code",
      "metadata": {
        "id": "YwLLETkJ6aW8"
      },
      "source": [
        "# Isolate nietzsche Corpus\n",
        "\n",
        "nietzsche_corpus = df_n[df_n['author']=='NZE']\n",
        "\n",
        "\n"
      ],
      "id": "YwLLETkJ6aW8",
      "execution_count": null,
      "outputs": []
    },
    {
      "cell_type": "markdown",
      "metadata": {
        "id": "R_a9fBGk6Oer"
      },
      "source": [
        "## Word Cloud- Aristotle"
      ],
      "id": "R_a9fBGk6Oer"
    },
    {
      "cell_type": "code",
      "metadata": {
        "id": "ToZ5XVDo6xAf"
      },
      "source": [
        "# Isolate aristotle Corpus\n",
        "\n",
        "aristotle_corpus = df_n[df_n['author']=='ALE']\n",
        "\n"
      ],
      "id": "ToZ5XVDo6xAf",
      "execution_count": null,
      "outputs": []
    },
    {
      "cell_type": "markdown",
      "metadata": {
        "id": "-h2gGB_c6TdB"
      },
      "source": [
        "## Word Cloud- Plato"
      ],
      "id": "-h2gGB_c6TdB"
    },
    {
      "cell_type": "code",
      "metadata": {
        "id": "xEtycvFK6xdc"
      },
      "source": [
        "# Isolate plato Corpus\n",
        "\n",
        "plato_corpus = df_n[df_n['author']=='PLT']\n",
        "\n"
      ],
      "id": "xEtycvFK6xdc",
      "execution_count": null,
      "outputs": []
    },
    {
      "cell_type": "markdown",
      "metadata": {
        "id": "certain-breeding"
      },
      "source": [
        "## MACHINE LEARNING MODELLING PHASE - PHILOSOPHERS TEXT \n",
        "\n",
        "## Sci-kit Learn"
      ],
      "id": "certain-breeding"
    },
    {
      "cell_type": "markdown",
      "metadata": {
        "id": "0ycN5OE3oKlC"
      },
      "source": [
        "## Linear Support Vector Classifier"
      ],
      "id": "0ycN5OE3oKlC"
    },
    {
      "cell_type": "code",
      "metadata": {
        "id": "twenty-charlotte"
      },
      "source": [
        "# Input Variables\n",
        "X = df_stratified['sentence']\n",
        "\n",
        "# Output Variables\n",
        "y= df_stratified.author\n"
      ],
      "id": "twenty-charlotte",
      "execution_count": null,
      "outputs": []
    },
    {
      "cell_type": "code",
      "metadata": {
        "id": "several-transition"
      },
      "source": [
        "  # Train Test Split\n",
        "\n",
        "from sklearn.model_selection import train_test_split\n",
        "\n",
        "X_train, X_test, y_train, y_test = train_test_split(X, y, test_size=0.25, random_state=42)\n"
      ],
      "id": "several-transition",
      "execution_count": null,
      "outputs": []
    },
    {
      "cell_type": "code",
      "metadata": {
        "id": "historic-assistant"
      },
      "source": [
        "# Importing Feature Extraction models:\n",
        "\n",
        "from sklearn.feature_extraction.text import TfidfVectorizer\n",
        "from sklearn.feature_extraction.text import CountVectorizer\n",
        "\n",
        "# Importing Pipeline, models and cross-validation tools:\n",
        "\n",
        "from sklearn.pipeline import Pipeline\n",
        "from sklearn.svm import LinearSVC\n",
        "from sklearn.model_selection import GridSearchCV\n",
        "\n",
        "\n",
        "# Tfidf Pipeline 1:\n",
        "\n",
        "svc_clf = Pipeline([('tfid',TfidfVectorizer()),('svc',LinearSVC(penalty='l2',C=0.5,max_iter=700))])\n",
        "\n",
        "# Count Vectorizer Pipeline 2:\n",
        "\n",
        "svc_countvect_clf = Pipeline([('countvect',CountVectorizer(stop_words='english')),('svc',LinearSVC(penalty='l2',C=0.5,max_iter=500))])\n",
        "\n"
      ],
      "id": "historic-assistant",
      "execution_count": null,
      "outputs": []
    },
    {
      "cell_type": "code",
      "metadata": {
        "colab": {
          "base_uri": "https://localhost:8080/"
        },
        "id": "crucial-committee",
        "outputId": "0d7f59a5-e27c-42fc-977f-a4e207a62978"
      },
      "source": [
        "%%time\n",
        "\n",
        "svc_clf.fit(X_train,y_train)\n",
        "\n",
        "svc_countvect_clf.fit(X_train,y_train)"
      ],
      "id": "crucial-committee",
      "execution_count": null,
      "outputs": [
        {
          "output_type": "stream",
          "text": [
            "CPU times: user 12 s, sys: 38.8 ms, total: 12 s\n",
            "Wall time: 12 s\n"
          ],
          "name": "stdout"
        },
        {
          "output_type": "stream",
          "text": [
            "/usr/local/lib/python3.7/dist-packages/sklearn/svm/_base.py:947: ConvergenceWarning: Liblinear failed to converge, increase the number of iterations.\n",
            "  \"the number of iterations.\", ConvergenceWarning)\n"
          ],
          "name": "stderr"
        }
      ]
    },
    {
      "cell_type": "code",
      "metadata": {
        "id": "greenhouse-enhancement"
      },
      "source": [
        "# predictions = svc_clf.predict(X_test)\n",
        "\n",
        "\n",
        "predictions = svc_clf.predict(X_test)\n",
        "\n",
        "\n",
        "predicitions_two = svc_countvect_clf.predict(X_test)"
      ],
      "id": "greenhouse-enhancement",
      "execution_count": null,
      "outputs": []
    },
    {
      "cell_type": "markdown",
      "metadata": {
        "id": "Ve8wKByUtUbn"
      },
      "source": [
        "\n",
        "### Linear Support Vector Classifier Model Performance"
      ],
      "id": "Ve8wKByUtUbn"
    },
    {
      "cell_type": "code",
      "metadata": {
        "id": "theoretical-harvey"
      },
      "source": [
        "# Import Metrics Packages\n",
        "from sklearn.metrics import accuracy_score,confusion_matrix,classification_report,cohen_kappa_score\n",
        "from sklearn import metrics"
      ],
      "id": "theoretical-harvey",
      "execution_count": null,
      "outputs": []
    },
    {
      "cell_type": "markdown",
      "metadata": {
        "id": "JdokY3dPgwOY"
      },
      "source": [
        "### SVC: CONFUSION MATRIX"
      ],
      "id": "JdokY3dPgwOY"
    },
    {
      "cell_type": "code",
      "metadata": {
        "colab": {
          "base_uri": "https://localhost:8080/",
          "height": 573
        },
        "id": "acoustic-sending",
        "outputId": "3552fb98-54bb-4917-b0a3-d779875513f0"
      },
      "source": [
        "## Plot confusion matrix\n",
        "\n",
        "classes = np.unique(philo_list)\n",
        "cm = metrics.confusion_matrix(y_test, predictions)\n",
        "fig, ax = plt.subplots()\n",
        "sns.heatmap(cm, annot=True, fmt='d', ax=ax, cmap=plt.cm.Blues, \n",
        "            cbar=False)\n",
        "ax.set(xlabel=\"Pred\", ylabel=\"True\",xticklabels=classes,yticklabels=classes\n",
        "       ,title=\"Confusion Matrix Tfidf Linear Support Vector Classifier\")\n",
        "plt.yticks(rotation=0)\n",
        "plt.show()\n",
        "\n",
        "\n",
        "classes = np.unique(philo_list)\n",
        "cm = metrics.confusion_matrix(y_test, predictions)\n",
        "fig, ax = plt.subplots()\n",
        "sns.heatmap(cm, annot=True, fmt='d', ax=ax, cmap=plt.cm.Blues, \n",
        "            cbar=False)\n",
        "ax.set(xlabel=\"Pred\", ylabel=\"True\",xticklabels=classes,yticklabels=classes\n",
        "       ,title=\"Confusion Matrix Count Vectorizer Linear Support Vector Classifier\")\n",
        "plt.yticks(rotation=0)\n",
        "plt.show()\n",
        "\n"
      ],
      "id": "acoustic-sending",
      "execution_count": null,
      "outputs": [
        {
          "output_type": "display_data",
          "data": {
            "image/png": "[encoded data removed]",
            "text/plain": [
              "<Figure size 432x288 with 1 Axes>"
            ]
          },
          "metadata": {
            "needs_background": "light"
          }
        },
        {
          "output_type": "display_data",
          "data": {
            "image/png": "[encoded data removed]",
            "text/plain": [
              "<Figure size 432x288 with 1 Axes>"
            ]
          },
          "metadata": {
            "needs_background": "light"
          }
        }
      ]
    },
    {
      "cell_type": "markdown",
      "metadata": {
        "id": "5mCdFVMog4wG"
      },
      "source": [
        "### SVC: Classification Report "
      ],
      "id": "5mCdFVMog4wG"
    },
    {
      "cell_type": "code",
      "metadata": {
        "colab": {
          "base_uri": "https://localhost:8080/"
        },
        "id": "overhead-oasis",
        "outputId": "223ebd8d-c01f-4763-e1be-1c719727696e"
      },
      "source": [
        "print(f\"Tfidf Support Vector Classifier Accuracy: {accuracy_score(predictions,y_test)}\")\n",
        "\n",
        "print(f\"Tfidf Support Vector Classifier Kappa Score: {cohen_kappa_score(predictions,y_test)}\")\n",
        "\n",
        "print(\"\\t\")\n",
        "print(\"\\t\")\n",
        "\n",
        "print(f\"Count Vectorizer Support Vector Classifier Accuracy: {accuracy_score(predicitions_two,y_test)}\")\n",
        "\n",
        "print(f\"Count Vectorizer Support Vector Classifier Kappa Score: {cohen_kappa_score(predicitions_two,y_test)}\")"
      ],
      "id": "overhead-oasis",
      "execution_count": null,
      "outputs": [
        {
          "output_type": "stream",
          "text": [
            "Tfidf Support Vector Classifier Accuracy: 0.9298461768219832\n",
            "Tfidf Support Vector Classifier Kappa Score: 0.9123085641947849\n",
            "\t\n",
            "\t\n",
            "Count Vectorizer Support Vector Classifier Accuracy: 0.9163679808841099\n",
            "Count Vectorizer Support Vector Classifier Kappa Score: 0.8954607406416364\n"
          ],
          "name": "stdout"
        }
      ]
    },
    {
      "cell_type": "code",
      "metadata": {
        "colab": {
          "base_uri": "https://localhost:8080/"
        },
        "id": "IO6be4ZhQBP3",
        "outputId": "896a7044-0590-4241-bd36-78ffbd4f5d51"
      },
      "source": [
        "print(\"Tfidf Vectorizer Support Vector Classification Report\")\n",
        "print(\"\\t\")\n",
        "print(classification_report(predictions,y_test))\n",
        "print(\"\\t\")\n",
        "print(\"\\t\")\n",
        "print(\"Count Vectorizer Support Vector Classification Report\")\n",
        "print(\"\\t\")\n",
        "print(classification_report(predicitions_two,y_test))"
      ],
      "id": "IO6be4ZhQBP3",
      "execution_count": null,
      "outputs": [
        {
          "output_type": "stream",
          "text": [
            "Tfidf Vectorizer Support Vector Classification Report\n",
            "\t\n",
            "              precision    recall  f1-score   support\n",
            "\n",
            "         ALE       0.94      0.93      0.93      5416\n",
            "         HUM       0.93      0.95      0.94      5279\n",
            "         KNT       0.94      0.95      0.94      5330\n",
            "         NZE       0.92      0.92      0.92      5333\n",
            "         PLT       0.92      0.91      0.92      5426\n",
            "\n",
            "    accuracy                           0.93     26784\n",
            "   macro avg       0.93      0.93      0.93     26784\n",
            "weighted avg       0.93      0.93      0.93     26784\n",
            "\n",
            "\t\n",
            "\t\n",
            "Count Vectorizer Support Vector Classification Report\n",
            "\t\n",
            "              precision    recall  f1-score   support\n",
            "\n",
            "         ALE       0.93      0.92      0.93      5422\n",
            "         HUM       0.90      0.95      0.92      5162\n",
            "         KNT       0.93      0.93      0.93      5379\n",
            "         NZE       0.90      0.92      0.91      5179\n",
            "         PLT       0.91      0.86      0.89      5642\n",
            "\n",
            "    accuracy                           0.92     26784\n",
            "   macro avg       0.92      0.92      0.92     26784\n",
            "weighted avg       0.92      0.92      0.92     26784\n",
            "\n"
          ],
          "name": "stdout"
        }
      ]
    },
    {
      "cell_type": "markdown",
      "metadata": {
        "id": "lG0WbaHfmHHX"
      },
      "source": [
        "# SUPPORT VECTOR CLASSIFIER: MACHINE MODELLING EVALUATION PHASE - PHILOSOPHERS TEXT"
      ],
      "id": "lG0WbaHfmHHX"
    },
    {
      "cell_type": "markdown",
      "metadata": {
        "id": "IvC5Kp8QpLdR"
      },
      "source": [
        "## Support Vector Classifier: GridSearchCV"
      ],
      "id": "IvC5Kp8QpLdR"
    },
    {
      "cell_type": "code",
      "metadata": {
        "colab": {
          "base_uri": "https://localhost:8080/",
          "height": 137
        },
        "id": "T2Cxc71ZrLrD",
        "outputId": "4a89a71a-cccb-4951-f9f6-c8a729cb7cc9"
      },
      "source": [
        "from sklearn.model_selection import GridSearchCV\n",
        "\n",
        "# Tuning hyper parameters forr Linear svc classifier \n",
        "\n",
        "'''penalty : str, 'l1' or 'l2' (default='l2')\n",
        "    Specifies the norm used in the penalization. The 'l2'\n",
        "    penalty is the standard used in SVC. The 'l1' leads to ``coef_``\n",
        "    vectors that are sparse.\n",
        "\n",
        "loss : str, 'hinge' or 'squared_hinge' (default='squared_hinge')\n",
        "    Specifies the loss function. 'hinge' is the standard SVM loss\n",
        "    (used e.g. by the SVC class) while 'squared_hinge' is the\n",
        "    square of the hinge loss.\n",
        "\n",
        "\n",
        "tol : float, optional (default=1e-4)\n",
        "    Tolerance for stopping criteria.\n",
        "\n",
        "C : float, optional (default=1.0)\n",
        "    Regularization parameter. The strength of the regularization is\n",
        "    inversely proportional to C. Must be strictly positive.\n",
        "\n",
        "multi_class : str, 'ovr' or 'crammer_singer' (default='ovr')\n",
        "    Determines the multi-class strategy if `y` contains more than\n",
        "    two classes.\n",
        "    ``\"ovr\"`` trains n_classes one-vs-rest classifiers, while\n",
        "    ``\"crammer_singer\"`` optimizes a joint objective over all classes.\n",
        "    While `crammer_singer` is interesting from a theoretical perspective\n",
        "    as it is consistent, it is seldom used in practice as it rarely leads\n",
        "    to better accuracy and is more expensive to compute.\n",
        "    If ``\"crammer_singer\"`` is chosen, the options loss, penalty and dual\n",
        "    will be ignored.\n",
        "\n",
        "fit_intercept : bool, optional (default=True)\n",
        "    Whether to calculate the intercept for this model. If set\n",
        "    to false, no intercept will be used in calculations\n",
        "    (i.e. data is expected to be already centered).\n",
        "\n",
        "intercept_scaling : float, optional (default=1)\n",
        "    When self.fit_intercept is True, instance vector x becomes\n",
        "    ``[x, self.intercept_scaling]``,\n",
        "    i.e. a \"synthetic\" feature with constant value equals to\n",
        "    intercept_scaling is appended to the instance vector.\n",
        "    The intercept becomes intercept_scaling * synthetic feature weight\n",
        "    Note! the synthetic feature weight is subject to l1/l2 regularization\n",
        "    as all other features.\n",
        "    To lessen the effect of regularization on synthetic feature weight\n",
        "    (and therefore on the intercept) intercept_scaling has to be increased.\n",
        "\n",
        "class_weight : {dict, 'balanced'}, optional\n",
        "    Set the parameter C of class i to ``class_weight[i]*C`` for\n",
        "    SVC. If not given, all classes are supposed to have\n",
        "    weight one.\n",
        "    The \"balanced\" mode uses the values of y to automatically adjust\n",
        "    weights inversely proportional to class frequencies in the input data\n",
        "    as ``n_samples / (n_classes * np.bincount(y))``.\n",
        "\n",
        "verbose : int, (default=0)\n",
        "    Enable verbose output. Note that this setting takes advantage of a\n",
        "    per-process runtime setting in liblinear that, if enabled, may not work\n",
        "    properly in a multithreaded context.\n",
        "\n",
        "random_state : int, RandomState instance or None, optional (default=None)\n",
        "    The seed of the pseudo random number generator to use when shuffling\n",
        "    the data for the dual coordinate descent (if ``dual=True``). When\n",
        "    ``dual=False`` the underlying implementation of :class:`LinearSVC`\n",
        "    is not random and ``random_state`` has no effect on the results. If\n",
        "    int, random_state is the seed used by the random number generator; If\n",
        "    RandomState instance, random_state is the random number generator; If\n",
        "    None, the random number generator is the RandomState instance used by\n",
        "    `np.random`.\n",
        "\n",
        "max_iter : int, (default=1000)\n",
        "    The maximum number of iterations to be run.\n",
        "\n",
        "Attributes\n",
        "----------\n",
        "coef_ : array, shape = [1, n_features] if n_classes == 2 else [n_classes, n_features]\n",
        "    Weights assigned to the features (coefficients in the primal\n",
        "    problem). This is only available in the case of a linear kernel.\n",
        "\n",
        "    ``coef_`` is a readonly property derived from ``raw_coef_`` that\n",
        "    follows the internal memory layout of liblinear.\n",
        "\n",
        "intercept_ : array, shape = [1] if n_classes == 2 else [n_classes]\n",
        "    Constants in decision function.\n",
        "\n",
        "classes_ : array of shape (n_classes,)\n",
        "    The unique classes labels.\n",
        "\n",
        "n_iter_ : int\n",
        "    Maximum number of iterations run across all classes. '''\n"
      ],
      "id": "T2Cxc71ZrLrD",
      "execution_count": null,
      "outputs": [
        {
          "output_type": "execute_result",
          "data": {
            "application/vnd.google.colaboratory.intrinsic+json": {
              "type": "string"
            },
            "text/plain": [
              "'penalty : str, \\'l1\\' or \\'l2\\' (default=\\'l2\\')\\n    Specifies the norm used in the penalization. The \\'l2\\'\\n    penalty is the standard used in SVC. The \\'l1\\' leads to ``coef_``\\n    vectors that are sparse.\\n\\nloss : str, \\'hinge\\' or \\'squared_hinge\\' (default=\\'squared_hinge\\')\\n    Specifies the loss function. \\'hinge\\' is the standard SVM loss\\n    (used e.g. by the SVC class) while \\'squared_hinge\\' is the\\n    square of the hinge loss.\\n\\n\\ntol : float, optional (default=1e-4)\\n    Tolerance for stopping criteria.\\n\\nC : float, optional (default=1.0)\\n    Regularization parameter. The strength of the regularization is\\n    inversely proportional to C. Must be strictly positive.\\n\\nmulti_class : str, \\'ovr\\' or \\'crammer_singer\\' (default=\\'ovr\\')\\n    Determines the multi-class strategy if `y` contains more than\\n    two classes.\\n    ``\"ovr\"`` trains n_classes one-vs-rest classifiers, while\\n    ``\"crammer_singer\"`` optimizes a joint objective over all classes.\\n    While `crammer_singer` is interesting from a theoretical perspective\\n    as it is consistent, it is seldom used in practice as it rarely leads\\n    to better accuracy and is more expensive to compute.\\n    If ``\"crammer_singer\"`` is chosen, the options loss, penalty and dual\\n    will be ignored.\\n\\nfit_intercept : bool, optional (default=True)\\n    Whether to calculate the intercept for this model. If set\\n    to false, no intercept will be used in calculations\\n    (i.e. data is expected to be already centered).\\n\\nintercept_scaling : float, optional (default=1)\\n    When self.fit_intercept is True, instance vector x becomes\\n    ``[x, self.intercept_scaling]``,\\n    i.e. a \"synthetic\" feature with constant value equals to\\n    intercept_scaling is appended to the instance vector.\\n    The intercept becomes intercept_scaling * synthetic feature weight\\n    Note! the synthetic feature weight is subject to l1/l2 regularization\\n    as all other features.\\n    To lessen the effect of regularization on synthetic feature weight\\n    (and therefore on the intercept) intercept_scaling has to be increased.\\n\\nclass_weight : {dict, \\'balanced\\'}, optional\\n    Set the parameter C of class i to ``class_weight[i]*C`` for\\n    SVC. If not given, all classes are supposed to have\\n    weight one.\\n    The \"balanced\" mode uses the values of y to automatically adjust\\n    weights inversely proportional to class frequencies in the input data\\n    as ``n_samples / (n_classes * np.bincount(y))``.\\n\\nverbose : int, (default=0)\\n    Enable verbose output. Note that this setting takes advantage of a\\n    per-process runtime setting in liblinear that, if enabled, may not work\\n    properly in a multithreaded context.\\n\\nrandom_state : int, RandomState instance or None, optional (default=None)\\n    The seed of the pseudo random number generator to use when shuffling\\n    the data for the dual coordinate descent (if ``dual=True``). When\\n    ``dual=False`` the underlying implementation of :class:`LinearSVC`\\n    is not random and ``random_state`` has no effect on the results. If\\n    int, random_state is the seed used by the random number generator; If\\n    RandomState instance, random_state is the random number generator; If\\n    None, the random number generator is the RandomState instance used by\\n    `np.random`.\\n\\nmax_iter : int, (default=1000)\\n    The maximum number of iterations to be run.\\n\\nAttributes\\n----------\\ncoef_ : array, shape = [1, n_features] if n_classes == 2 else [n_classes, n_features]\\n    Weights assigned to the features (coefficients in the primal\\n    problem). This is only available in the case of a linear kernel.\\n\\n    ``coef_`` is a readonly property derived from ``raw_coef_`` that\\n    follows the internal memory layout of liblinear.\\n\\nintercept_ : array, shape = [1] if n_classes == 2 else [n_classes]\\n    Constants in decision function.\\n\\nclasses_ : array of shape (n_classes,)\\n    The unique classes labels.\\n\\nn_iter_ : int\\n    Maximum number of iterations run across all classes. '"
            ]
          },
          "metadata": {},
          "execution_count": 81
        }
      ]
    },
    {
      "cell_type": "markdown",
      "metadata": {
        "id": "EQ3fW2MwrS-Q"
      },
      "source": [
        "## Naive Bayes Multinomial Classifer NB"
      ],
      "id": "EQ3fW2MwrS-Q"
    },
    {
      "cell_type": "code",
      "metadata": {
        "id": "hired-panama"
      },
      "source": [
        "from sklearn.naive_bayes import MultinomialNB\n",
        "\n",
        "# Pipeline 1- tdif:\n",
        "nb_clf = Pipeline([('tdif',TfidfVectorizer()),\n",
        "                   ('naivebaiyes',MultinomialNB(alpha=0.1,\n",
        "                    class_prior=None ,fit_prior=True))])\n",
        "\n",
        "# Pipeline 2- Count Vect:\n",
        "count_nb_clf = Pipeline([('countvect',CountVectorizer(stop_words='english')),\n",
        "                   ('naivebaiyes',MultinomialNB(alpha=0.1,\n",
        "                    class_prior=None ,fit_prior=True))])"
      ],
      "id": "hired-panama",
      "execution_count": null,
      "outputs": []
    },
    {
      "cell_type": "code",
      "metadata": {
        "colab": {
          "base_uri": "https://localhost:8080/"
        },
        "id": "applicable-matrix",
        "outputId": "bc8d70a4-a872-455a-fb38-f74cdbb3e8dd"
      },
      "source": [
        "%%time \n",
        "# Fit Tfidf Model\n",
        "nb_clf.fit(X_train,y_train)\n",
        "\n",
        "# Fit Count Vectorizer Model\n",
        "count_nb_clf.fit(X_train,y_train)"
      ],
      "id": "applicable-matrix",
      "execution_count": null,
      "outputs": [
        {
          "output_type": "stream",
          "text": [
            "CPU times: user 3.92 s, sys: 13.8 ms, total: 3.94 s\n",
            "Wall time: 3.92 s\n"
          ],
          "name": "stdout"
        }
      ]
    },
    {
      "cell_type": "code",
      "metadata": {
        "id": "mineral-sigma"
      },
      "source": [
        "# Using Tfidf to predict test set\n",
        "pred = nb_clf.predict(X_test)\n",
        "\n",
        "# Using Count Vectorizer to predict test set\n",
        "pred_2 = count_nb_clf.predict(X_test)"
      ],
      "id": "mineral-sigma",
      "execution_count": null,
      "outputs": []
    },
    {
      "cell_type": "markdown",
      "metadata": {
        "id": "qwk1Hc1rtMtx"
      },
      "source": [
        "### Multinomial NB Model Performance"
      ],
      "id": "qwk1Hc1rtMtx"
    },
    {
      "cell_type": "code",
      "metadata": {
        "colab": {
          "base_uri": "https://localhost:8080/"
        },
        "id": "literary-metadata",
        "outputId": "3a8a85b9-f53e-4976-a4d6-2c590ee4d585"
      },
      "source": [
        "\n",
        "\n",
        "print(f\"Tfidf Multinomial NB Classifier Accuracy: {accuracy_score(pred,y_test)}\")\n",
        "print(f\"Tfidf Multinomial NB Classifier Kappa Score: {cohen_kappa_score(pred,y_test)}\")\n",
        "print(\"\\t\")\n",
        "print(\"\\t\")\n",
        "print(f\"Count Vectorizer Multinomial NB Classifier Accuracy: {accuracy_score(pred_2,y_test)}\")\n",
        "print(f\"Count Vectorizer Multinomial NB Classifer Kappa Score: {cohen_kappa_score(pred_2,y_test)}\")"
      ],
      "id": "literary-metadata",
      "execution_count": null,
      "outputs": [
        {
          "output_type": "stream",
          "text": [
            "Tfidf Multinomial NB Classifier Accuracy: 0.8895982676224612\n",
            "Tfidf Multinomial NB Classifier Kappa Score: 0.8619946241037704\n",
            "\t\n",
            "\t\n",
            "Count Vectorizer Multinomial NB Classifier Accuracy: 0.8733198924731183\n",
            "Count Vectorizer Multinomial NB Classifer Kappa Score: 0.8416481833661803\n"
          ],
          "name": "stdout"
        }
      ]
    },
    {
      "cell_type": "markdown",
      "metadata": {
        "id": "Aw24dyWrgKL6"
      },
      "source": [
        "### MultinomialNB: Confusion Matrix"
      ],
      "id": "Aw24dyWrgKL6"
    },
    {
      "cell_type": "code",
      "metadata": {
        "colab": {
          "base_uri": "https://localhost:8080/",
          "height": 295
        },
        "id": "lonely-converter",
        "outputId": "a2e65306-8dca-4636-db3f-3ef312b43216"
      },
      "source": [
        "# MultinomialNB Confusion Matrix\n",
        "classes = np.unique(philo_list)\n",
        "cm = metrics.confusion_matrix(y_test, pred)\n",
        "fig, ax = plt.subplots()\n",
        "sns.heatmap(cm, annot=True, fmt='d', ax=ax, cmap=plt.cm.Blues, \n",
        "            cbar=False)\n",
        "ax.set(xlabel=\"Pred\", ylabel=\"True\",xticklabels=classes,yticklabels=classes\n",
        "       ,title=\"Confusion Matrix\")\n",
        "plt.yticks(rotation=0)\n",
        "plt.show()"
      ],
      "id": "lonely-converter",
      "execution_count": null,
      "outputs": [
        {
          "output_type": "display_data",
          "data": {
            "image/png": "[encoded data removed]",
            "text/plain": [
              "<Figure size 432x288 with 1 Axes>"
            ]
          },
          "metadata": {
            "needs_background": "light"
          }
        }
      ]
    },
    {
      "cell_type": "markdown",
      "metadata": {
        "id": "_YL1awifgW2E"
      },
      "source": [
        "### MultinomialNB: Classification Report "
      ],
      "id": "_YL1awifgW2E"
    },
    {
      "cell_type": "code",
      "metadata": {
        "colab": {
          "base_uri": "https://localhost:8080/"
        },
        "id": "incredible-sample",
        "outputId": "cd1df94e-225d-43f0-b914-cd66d9f08b9a"
      },
      "source": [
        "print(\"Tfidf Multinomial NB Classification Report\")\n",
        "print(\"\\t\")\n",
        "print(classification_report(pred,y_test))\n",
        "print(\"\\t\")\n",
        "print(\"\\t\")\n",
        "print(\"Count Vectorizer Multinomial NB Classification Report\")\n",
        "print(\"\\t\")\n",
        "print(classification_report(pred_2,y_test))"
      ],
      "id": "incredible-sample",
      "execution_count": null,
      "outputs": [
        {
          "output_type": "stream",
          "text": [
            "Tfidf Multinomial NB Classification Report\n",
            "\t\n",
            "              precision    recall  f1-score   support\n",
            "\n",
            "         ALE       0.88      0.90      0.89      5178\n",
            "         HUM       0.87      0.93      0.90      5085\n",
            "         KNT       0.92      0.86      0.89      5786\n",
            "         NZE       0.88      0.92      0.90      5052\n",
            "         PLT       0.90      0.85      0.87      5683\n",
            "\n",
            "    accuracy                           0.89     26784\n",
            "   macro avg       0.89      0.89      0.89     26784\n",
            "weighted avg       0.89      0.89      0.89     26784\n",
            "\n",
            "\t\n",
            "\t\n",
            "Count Vectorizer Multinomial NB Classification Report\n",
            "\t\n",
            "              precision    recall  f1-score   support\n",
            "\n",
            "         ALE       0.86      0.89      0.88      5162\n",
            "         HUM       0.87      0.91      0.89      5179\n",
            "         KNT       0.90      0.85      0.87      5682\n",
            "         NZE       0.87      0.88      0.88      5242\n",
            "         PLT       0.86      0.83      0.85      5519\n",
            "\n",
            "    accuracy                           0.87     26784\n",
            "   macro avg       0.87      0.87      0.87     26784\n",
            "weighted avg       0.87      0.87      0.87     26784\n",
            "\n"
          ],
          "name": "stdout"
        }
      ]
    },
    {
      "cell_type": "markdown",
      "metadata": {
        "id": "YdSSH3G1l_sP"
      },
      "source": [
        "# NAIVE BAYES: MACHINE MODELLING EVALUATION PHASE - PHILOSOPHERS TEXT"
      ],
      "id": "YdSSH3G1l_sP"
    },
    {
      "cell_type": "markdown",
      "metadata": {
        "id": "virgin-payroll"
      },
      "source": [
        "## Naives Bayes: GridSearchCV"
      ],
      "id": "virgin-payroll"
    },
    {
      "cell_type": "code",
      "metadata": {
        "id": "august-mambo"
      },
      "source": [
        "param_grid = {'alpha': [0. , 0.1, 0.2, 0.3, 0.4, 0.5, 0.6, 0.7, 0.8, 0.9]}\n",
        "\n",
        "grid = GridSearchCV(MultinomialNB(),param_grid,refit=True,verbose=2,cv=5)\n",
        "\n",
        "tfid = TfidfVectorizer()\n",
        "tfid_X_train = tfid.fit_transform(X_train)\n",
        "\n",
        "tfid_X_test = tfid.fit_transform(X_test)\n",
        "\n",
        "grid.fit(tfid_X_train,y_train)\n",
        "\n",
        "print(\"Best Estimator: \",grid.best_estimator_)\n",
        "print(\"Best Score: \", grid.best_score_)"
      ],
      "id": "august-mambo",
      "execution_count": null,
      "outputs": []
    },
    {
      "cell_type": "markdown",
      "metadata": {
        "id": "NUx06XFGwImT"
      },
      "source": [
        "## XGBoost & RandomForest Model"
      ],
      "id": "NUx06XFGwImT"
    },
    {
      "cell_type": "code",
      "metadata": {
        "id": "Zok-GO9mwIWs"
      },
      "source": [
        "from xgboost import XGBClassifier\n",
        "from sklearn.ensemble import RandomForestClassifier\n",
        "\n",
        "# xgb_clf = XGBClassifier(random_state=42, seed=2, colsample_bytree=0.6, subsample=0.7)\n",
        "\n",
        "tdif_xgb_clf = Pipeline([('tdif',TfidfVectorizer()),\n",
        "                   ('XGBoost',XGBClassifier())]) #random_state=42, seed=2, colsample_bytree=0.6, subsample=0.7\n",
        "\n",
        "count_vect_xgb_clf = Pipeline([('countvect',CountVectorizer(stop_words='english')),\n",
        "                   ('XGBoost',XGBClassifier(random_state=42, seed=2, colsample_bytree=0.6, subsample=0.7))])\n",
        "\n",
        "rf_clf = Pipeline([('tdif',TfidfVectorizer()),('rf',RandomForestClassifier())])\n"
      ],
      "id": "Zok-GO9mwIWs",
      "execution_count": null,
      "outputs": []
    },
    {
      "cell_type": "code",
      "metadata": {
        "colab": {
          "base_uri": "https://localhost:8080/"
        },
        "id": "s0UFcEZtTRfN",
        "outputId": "c8723260-85d4-45a3-e8ea-d760ec9602fe"
      },
      "source": [
        "%%time\n",
        "\n",
        "# training tfidf xgboost model\n",
        "tdif_xgb_clf.fit(X_train,y_train)\n",
        "# training count vectorizer xgboost model\n",
        "count_vect_xgb_clf.fit(X_train,y_train)\n",
        "# training tfidf Randomforest model\n",
        "rf_clf.fit(X_train,y_train)\n"
      ],
      "id": "s0UFcEZtTRfN",
      "execution_count": null,
      "outputs": [
        {
          "output_type": "stream",
          "text": [
            "CPU times: user 6min 46s, sys: 753 ms, total: 6min 47s\n",
            "Wall time: 6min 45s\n"
          ],
          "name": "stdout"
        }
      ]
    },
    {
      "cell_type": "code",
      "metadata": {
        "id": "s4q9EGnlTZJv"
      },
      "source": [
        "# Predicting Values for both models\n",
        "predictions = tdif_xgb_clf.predict(X_test)\n",
        "\n",
        "predictions_two = count_vect_xgb_clf.predict(X_test)\n",
        "\n",
        "predictions_rf = rf_clf.predict(X_test)\n"
      ],
      "id": "s4q9EGnlTZJv",
      "execution_count": null,
      "outputs": []
    },
    {
      "cell_type": "markdown",
      "metadata": {
        "id": "skZLx9fJolVM"
      },
      "source": [
        "### XGBoost Classifier Model Performance"
      ],
      "id": "skZLx9fJolVM"
    },
    {
      "cell_type": "code",
      "metadata": {
        "colab": {
          "base_uri": "https://localhost:8080/"
        },
        "id": "kKcS02BRTgVb",
        "outputId": "491a44f9-c543-47e7-8855-ba5eb971b92b"
      },
      "source": [
        "# Model and Kappa Score\n",
        "\n",
        "print(f\"Tfidf XGBoost Classifier Accuracy: {accuracy_score(predictions,y_test)}\")\n",
        "print(f\"Tfidf XGBoost Classifier Kappa Score: {cohen_kappa_score(predictions,y_test)}\")\n",
        "print(\"\\t\")\n",
        "print(\"\\t\")\n",
        "print(f\"Count Vectorizer XGBoost Classifier Accuracy: {accuracy_score(predictions_two,y_test)}\")\n",
        "print(f\"Count Vectorizer XGBoost Classifer Kappa Score: {cohen_kappa_score(predictions_two,y_test)}\")\n",
        "print(\"\\t\")\n",
        "print(\"\\t\")\n",
        "print(f\"Tfidf Vectorizer RandomForest Classifier Accuracy: {accuracy_score(predictions_rf,y_test)}\")\n",
        "print(f\"Tfidf Vectorizer RandomForest Classifier Kappa Score: {cohen_kappa_score(predictions_rf,y_test)}\")\n"
      ],
      "id": "kKcS02BRTgVb",
      "execution_count": null,
      "outputs": [
        {
          "output_type": "stream",
          "text": [
            "Tfidf XGBoost Classifier Accuracy: 0.6674880525686977\n",
            "Tfidf XGBoost Classifier Kappa Score: 0.584421966698123\n",
            "\t\n",
            "\t\n",
            "Count Vectorizer XGBoost Classifier Accuracy: 0.6115218040621266\n",
            "Count Vectorizer XGBoost Classifer Kappa Score: 0.5146914272355401\n",
            "\t\n",
            "\t\n",
            "Tfidf Vectorizer RandomForest Classifier Accuracy: 0.90165770609319\n",
            "Tfidf Vectorizer RandomForest Classifier Kappa Score: 0.8770728452822206\n"
          ],
          "name": "stdout"
        }
      ]
    },
    {
      "cell_type": "markdown",
      "metadata": {
        "id": "-tyo3yBpjDX7"
      },
      "source": [
        "### XGBoost & RandomForest: Confusion Matrix"
      ],
      "id": "-tyo3yBpjDX7"
    },
    {
      "cell_type": "code",
      "metadata": {
        "colab": {
          "base_uri": "https://localhost:8080/",
          "height": 573
        },
        "id": "FGIed2eSoyla",
        "outputId": "236c7685-4b90-4f03-bcb0-7a2c72940081"
      },
      "source": [
        "confusion_matrix(predictions,y_test)\n",
        "\n",
        "# XGboost Classifier Confusion Matrix\n",
        "classes = np.unique(philo_list)\n",
        "cm = metrics.confusion_matrix(y_test, pred)\n",
        "fig, ax = plt.subplots()\n",
        "sns.heatmap(cm, annot=True, fmt='d', ax=ax, cmap=plt.cm.Blues, \n",
        "            cbar=False)\n",
        "ax.set(xlabel=\"Pred\", ylabel=\"True\",xticklabels=classes,yticklabels=classes\n",
        "       ,title=\"XGboost Confusion Matrix\")\n",
        "plt.yticks(rotation=0)\n",
        "plt.show()\n",
        "\n",
        "\n",
        "confusion_matrix(predictions_rf,y_test)\n",
        "\n",
        "# Random Forest Classifier Confusion Matrix\n",
        "classes = np.unique(philo_list)\n",
        "cm = metrics.confusion_matrix(y_test, pred)\n",
        "fig, ax = plt.subplots()\n",
        "sns.heatmap(cm, annot=True, fmt='d', ax=ax, cmap=plt.cm.Blues, \n",
        "            cbar=False)\n",
        "ax.set(xlabel=\"Pred\", ylabel=\"True\",xticklabels=classes,yticklabels=classes\n",
        "       ,title=\"Random Forest Confusion Matrix\")\n",
        "plt.yticks(rotation=0)\n",
        "plt.show()"
      ],
      "id": "FGIed2eSoyla",
      "execution_count": null,
      "outputs": [
        {
          "output_type": "display_data",
          "data": {
            "image/png": "[encoded data removed]",
            "text/plain": [
              "<Figure size 432x288 with 1 Axes>"
            ]
          },
          "metadata": {
            "needs_background": "light"
          }
        },
        {
          "output_type": "display_data",
          "data": {
            "image/png": "[encoded data removed]",
            "text/plain": [
              "<Figure size 432x288 with 1 Axes>"
            ]
          },
          "metadata": {
            "needs_background": "light"
          }
        }
      ]
    },
    {
      "cell_type": "markdown",
      "metadata": {
        "id": "l-uEpMADjPJG"
      },
      "source": [
        "### XGBoost & RandomForest: Classificaion Report"
      ],
      "id": "l-uEpMADjPJG"
    },
    {
      "cell_type": "code",
      "metadata": {
        "colab": {
          "base_uri": "https://localhost:8080/"
        },
        "id": "eqbxTMOUT68w",
        "outputId": "ef2f3ea6-704c-4b25-a862-0547a1217b9c"
      },
      "source": [
        "\n",
        "print(\"Tfidf XGBoost Classification Report\")\n",
        "print(classification_report(predictions,y_test))\n",
        "print(\"\\t\")\n",
        "print(\"Countvector XGBoost Classification Report\")\n",
        "print(classification_report(predictions_two,y_test))\n",
        "print(\"\\t\")\n",
        "print(\"Tfidf Random Forest Classifier Classification Report\")\n",
        "print(classification_report(predictions_rf,y_test))\n",
        "\n"
      ],
      "id": "eqbxTMOUT68w",
      "execution_count": null,
      "outputs": [
        {
          "output_type": "stream",
          "text": [
            "Tfidf XGBoost Classification Report\n",
            "              precision    recall  f1-score   support\n",
            "\n",
            "         ALE       0.66      0.62      0.64      5687\n",
            "         HUM       0.66      0.71      0.68      4999\n",
            "         KNT       0.69      0.78      0.73      4773\n",
            "         NZE       0.64      0.56      0.60      6041\n",
            "         PLT       0.69      0.70      0.70      5284\n",
            "\n",
            "    accuracy                           0.67     26784\n",
            "   macro avg       0.67      0.67      0.67     26784\n",
            "weighted avg       0.67      0.67      0.67     26784\n",
            "\n",
            "\t\n",
            "Countvector XGBoost Classification Report\n",
            "              precision    recall  f1-score   support\n",
            "\n",
            "         ALE       0.51      0.65      0.57      4169\n",
            "         HUM       0.57      0.82      0.67      3752\n",
            "         KNT       0.68      0.77      0.73      4756\n",
            "         NZE       0.73      0.42      0.54      9157\n",
            "         PLT       0.57      0.61      0.59      4950\n",
            "\n",
            "    accuracy                           0.61     26784\n",
            "   macro avg       0.61      0.66      0.62     26784\n",
            "weighted avg       0.64      0.61      0.60     26784\n",
            "\n",
            "\t\n",
            "Tfidf Random Forest Classifier Classification Report\n",
            "              precision    recall  f1-score   support\n",
            "\n",
            "         ALE       0.93      0.91      0.92      5440\n",
            "         HUM       0.85      0.91      0.88      5057\n",
            "         KNT       0.93      0.91      0.92      5517\n",
            "         NZE       0.87      0.90      0.88      5127\n",
            "         PLT       0.93      0.88      0.90      5643\n",
            "\n",
            "    accuracy                           0.90     26784\n",
            "   macro avg       0.90      0.90      0.90     26784\n",
            "weighted avg       0.90      0.90      0.90     26784\n",
            "\n"
          ],
          "name": "stdout"
        }
      ]
    },
    {
      "cell_type": "markdown",
      "metadata": {
        "id": "5m5mbwBBllCI"
      },
      "source": [
        "# XGBOOST & RANDOMFOREST CLASSIFIER: MACHINE MODELLING EVALUATION PHASE - PHILOSOPHERS TEXT"
      ],
      "id": "5m5mbwBBllCI"
    },
    {
      "cell_type": "markdown",
      "metadata": {
        "id": "1s9tceFgpkCt"
      },
      "source": [
        "## XGBoost Classifier: GridSearchCV"
      ],
      "id": "1s9tceFgpkCt"
    },
    {
      "cell_type": "code",
      "metadata": {
        "id": "obJWHW_XpwAL"
      },
      "source": [
        ""
      ],
      "id": "obJWHW_XpwAL",
      "execution_count": null,
      "outputs": []
    },
    {
      "cell_type": "markdown",
      "metadata": {
        "id": "careful-merchant"
      },
      "source": [
        "# MACHINE MODELLING EVALUATION PHASE - PHILOSOPHERS TEXT\n",
        "\n",
        "## Hyperparameter Tuning GRIDCV "
      ],
      "id": "careful-merchant"
    },
    {
      "cell_type": "code",
      "metadata": {
        "id": "hybrid-graphic"
      },
      "source": [
        ""
      ],
      "id": "hybrid-graphic",
      "execution_count": null,
      "outputs": []
    },
    {
      "cell_type": "code",
      "metadata": {
        "id": "collect-canberra"
      },
      "source": [
        "\n",
        "\n",
        "# grid = GridSearchCV(LinearSVC(),param_grid,refit=True,verbose=2,cv=5)\n",
        "\n",
        "\n",
        "\n",
        "# grid.fit(tfid_X_train,y_train)\n"
      ],
      "id": "collect-canberra",
      "execution_count": null,
      "outputs": []
    },
    {
      "cell_type": "code",
      "metadata": {
        "id": "becoming-citizenship"
      },
      "source": [
        "# print(grid.best_estimator_)"
      ],
      "id": "becoming-citizenship",
      "execution_count": null,
      "outputs": []
    },
    {
      "cell_type": "code",
      "metadata": {
        "id": "prospective-automation"
      },
      "source": [
        ""
      ],
      "id": "prospective-automation",
      "execution_count": null,
      "outputs": []
    },
    {
      "cell_type": "markdown",
      "metadata": {
        "id": "kqlnNK7dA3vG"
      },
      "source": [
        "# DEPLOYMENT PHASE - PHILOSOPHERS TEXT\n",
        "## Saving models"
      ],
      "id": "kqlnNK7dA3vG"
    },
    {
      "cell_type": "code",
      "metadata": {
        "id": "architectural-singapore",
        "scrolled": true,
        "colab": {
          "base_uri": "https://localhost:8080/"
        },
        "outputId": "81b263e6-c9a2-4bb5-f629-18382e846fb8"
      },
      "source": [
        "\n",
        "from sklearn.externals import joblib\n",
        "sv = 'svc_clf.sav' \n",
        "mb = 'multinb_clf.sav'\n",
        "xgb = 'xbg_clf.csv'\n",
        "rf = 'rf_clf.csv'\n",
        "\n",
        "joblib.dump('svc_clf',sv)\n",
        "joblib.dump('multinb_clf',mb)\n",
        "joblib.dump('xgb_clf',xgb)\n",
        "joblib.dump('rf_clf',rf)"
      ],
      "id": "architectural-singapore",
      "execution_count": 236,
      "outputs": [
        {
          "output_type": "execute_result",
          "data": {
            "text/plain": [
              "['rf_clf.csv']"
            ]
          },
          "metadata": {},
          "execution_count": 236
        }
      ]
    },
    {
      "cell_type": "markdown",
      "metadata": {
        "id": "twenty-laundry"
      },
      "source": [
        "# NEURAL NETWORK MODELLING PHASE - PHILOSOPHERS TEXT \n",
        "\n",
        "## Deep Learning with **Keras**\n"
      ],
      "id": "twenty-laundry"
    },
    {
      "cell_type": "markdown",
      "metadata": {
        "id": "ImOx6HbwUX8Q"
      },
      "source": [
        "## NEURAL NETWORK MODEL DATA PRE-PROCESSING"
      ],
      "id": "ImOx6HbwUX8Q"
    },
    {
      "cell_type": "code",
      "metadata": {
        "id": "bdgw5ApWmbfa"
      },
      "source": [
        "\n",
        "# Importing Layers, Sequential Model, Feature Extraction, Text Pre-processing, Tokenizer\n",
        "import numpy as np\n",
        "from keras.preprocessing.text import Tokenizer\n",
        "from keras.preprocessing.sequence import pad_sequences\n",
        "from sklearn.model_selection import train_test_split\n",
        "from keras.utils.np_utils import to_categorical\n",
        "from keras import utils \n",
        "\n",
        "\n",
        "from keras.layers import Dense, Embedding, LSTM, SpatialDropout1D\n",
        "from keras.models import Sequential\n",
        "from keras.callbacks import EarlyStopping\n",
        "\n"
      ],
      "id": "bdgw5ApWmbfa",
      "execution_count": 239,
      "outputs": []
    },
    {
      "cell_type": "code",
      "metadata": {
        "id": "1Yj3VgEXYIAP"
      },
      "source": [
        " \n",
        " # Split between variables into input and target variable\n",
        " X = df_stratified.sentence\n",
        "\n",
        " y = df_stratified.label\n",
        " "
      ],
      "id": "1Yj3VgEXYIAP",
      "execution_count": 240,
      "outputs": []
    },
    {
      "cell_type": "code",
      "metadata": {
        "id": "wNEBtZaeTYVM"
      },
      "source": [
        "from tensorflow import keras\n",
        "\n",
        "labels = keras.utils.to_categorical(y,num_classes=5)\n"
      ],
      "id": "wNEBtZaeTYVM",
      "execution_count": 241,
      "outputs": []
    },
    {
      "cell_type": "code",
      "metadata": {
        "colab": {
          "base_uri": "https://localhost:8080/"
        },
        "id": "EV29hwDVltG4",
        "outputId": "9b0e6630-6011-4147-c04a-f2f44e055db0"
      },
      "source": [
        "from keras.preprocessing.text import Tokenizer\n",
        "from keras import utils \n",
        "\n",
        "n_most_common_words = 40000\n",
        "max_len = 130\n",
        "tokenizer = Tokenizer(num_words=n_most_common_words, filters='!\"#$%&()*+,-./:;<=>?@[\\]^_`{|}~', lower=True)\n",
        "tokenizer.fit_on_texts(X.values) \n",
        "sequences = tokenizer.texts_to_sequences(X.values)\n",
        "word_index = tokenizer.word_index\n",
        "print('Found %s unique tokens.' % len(word_index))\n",
        "\n",
        "X = pad_sequences(sequences, maxlen=max_len)"
      ],
      "id": "EV29hwDVltG4",
      "execution_count": 242,
      "outputs": [
        {
          "output_type": "stream",
          "text": [
            "Found 37426 unique tokens.\n"
          ],
          "name": "stdout"
        }
      ]
    },
    {
      "cell_type": "code",
      "metadata": {
        "id": "9lTawJE_2TeW"
      },
      "source": [
        "word_index"
      ],
      "id": "9lTawJE_2TeW",
      "execution_count": null,
      "outputs": []
    },
    {
      "cell_type": "markdown",
      "metadata": {
        "id": "HTWq_fCj1bGo"
      },
      "source": [
        "## LSTM ARCHITECTURE & TRAINING"
      ],
      "id": "HTWq_fCj1bGo"
    },
    {
      "cell_type": "code",
      "metadata": {
        "id": "R0hBrogOmC-V"
      },
      "source": [
        "X_train, X_test, y_train, y_test = train_test_split(X , labels, test_size=0.25, random_state=42)\n"
      ],
      "id": "R0hBrogOmC-V",
      "execution_count": 245,
      "outputs": []
    },
    {
      "cell_type": "code",
      "metadata": {
        "id": "O_5zXWqfmGSx"
      },
      "source": [
        "epochs = 15\n",
        "emb_dim = 128\n",
        "batch_size = 256\n",
        "vocab = len(word_index) + 1"
      ],
      "id": "O_5zXWqfmGSx",
      "execution_count": 246,
      "outputs": []
    },
    {
      "cell_type": "code",
      "metadata": {
        "colab": {
          "base_uri": "https://localhost:8080/"
        },
        "id": "FxcKfPfsmTsc",
        "outputId": "42ac8eb0-359d-41b2-b838-1c3adaa04d22"
      },
      "source": [
        "print((X_train.shape, y_train.shape, X_test.shape, y_test.shape))\n",
        "\n",
        "# Model layers\n",
        "lstm_model = Sequential()\n",
        "lstm_model.add(Embedding(vocab, emb_dim, input_length=X.shape[1]))\n",
        "# model.add(Embedding(vocab_len, embedding_dimensions, trainable = False, weights=[embedding_matrix]))\n",
        "lstm_model.add(SpatialDropout1D(0.7)) ## different dropout options = 0.2, 0.8, 0.7\n",
        "lstm_model.add(LSTM(64, dropout=0.7, recurrent_dropout=0.7))\n",
        "lstm_model.add(Dense(5, activation='softmax'))\n",
        "\n",
        "# Model Compiler\n",
        "lstm_model.compile(optimizer='adam', loss='categorical_crossentropy', metrics=['acc'])\n",
        "\n",
        "# Model Summary\n",
        "print(lstm_model.summary())\n"
      ],
      "id": "FxcKfPfsmTsc",
      "execution_count": 247,
      "outputs": [
        {
          "output_type": "stream",
          "text": [
            "((80350, 130), (80350, 5), (26784, 130), (26784, 5))\n",
            "WARNING:tensorflow:Layer lstm_3 will not use cuDNN kernels since it doesn't meet the criteria. It will use a generic GPU kernel as fallback when running on GPU.\n",
            "Model: \"sequential_42\"\n",
            "_________________________________________________________________\n",
            "Layer (type)                 Output Shape              Param #   \n",
            "=================================================================\n",
            "embedding_37 (Embedding)     (None, 130, 128)          4790656   \n",
            "_________________________________________________________________\n",
            "spatial_dropout1d_4 (Spatial (None, 130, 128)          0         \n",
            "_________________________________________________________________\n",
            "lstm_3 (LSTM)                (None, 64)                49408     \n",
            "_________________________________________________________________\n",
            "dense_51 (Dense)             (None, 5)                 325       \n",
            "=================================================================\n",
            "Total params: 4,840,389\n",
            "Trainable params: 4,840,389\n",
            "Non-trainable params: 0\n",
            "_________________________________________________________________\n",
            "None\n"
          ],
          "name": "stdout"
        }
      ]
    },
    {
      "cell_type": "code",
      "metadata": {
        "colab": {
          "base_uri": "https://localhost:8080/"
        },
        "id": "fYGoeab_nki3",
        "outputId": "95a610a0-c0c2-4eb1-f9e8-12255a0f6f08"
      },
      "source": [
        "\n",
        "%%time \n",
        "history = lstm_model.fit(X_train, y_train, epochs=15, batch_size=256,validation_split=0.2\n",
        "                    ,callbacks=[EarlyStopping(monitor='val_loss',patience=7, min_delta=0.0001)],shuffle=True) #batch_size 37, 256, 300\n"
      ],
      "id": "fYGoeab_nki3",
      "execution_count": null,
      "outputs": [
        {
          "output_type": "stream",
          "text": [
            "Epoch 1/15\n",
            "252/252 [==============================] - 101s 393ms/step - loss: 1.2316 - acc: 0.4847 - val_loss: 0.7100 - val_acc: 0.7346\n",
            "Epoch 2/15\n",
            "252/252 [==============================] - 98s 390ms/step - loss: 0.7125 - acc: 0.7437 - val_loss: 0.4605 - val_acc: 0.8448\n",
            "Epoch 3/15\n",
            "252/252 [==============================] - 98s 389ms/step - loss: 0.5355 - acc: 0.8119 - val_loss: 0.3798 - val_acc: 0.8716\n",
            "Epoch 4/15\n",
            "252/252 [==============================] - 98s 390ms/step - loss: 0.4470 - acc: 0.8440 - val_loss: 0.3268 - val_acc: 0.8892\n",
            "Epoch 5/15\n",
            "252/252 [==============================] - 98s 389ms/step - loss: 0.3854 - acc: 0.8657 - val_loss: 0.3118 - val_acc: 0.8953\n",
            "Epoch 6/15\n",
            "252/252 [==============================] - 98s 390ms/step - loss: 0.3408 - acc: 0.8815 - val_loss: 0.2944 - val_acc: 0.8997\n",
            "Epoch 7/15\n",
            "252/252 [==============================] - 99s 391ms/step - loss: 0.3024 - acc: 0.8965 - val_loss: 0.2740 - val_acc: 0.9110\n",
            "Epoch 8/15\n",
            "252/252 [==============================] - 98s 390ms/step - loss: 0.2749 - acc: 0.9041 - val_loss: 0.2755 - val_acc: 0.9113\n",
            "Epoch 9/15\n",
            " 49/252 [====>.........................] - ETA: 1:17 - loss: 0.2465 - acc: 0.9159"
          ],
          "name": "stdout"
        }
      ]
    },
    {
      "cell_type": "markdown",
      "metadata": {
        "id": "j6CFuBiS19IW"
      },
      "source": [
        "# LSTM: EVALUATION PHASE - PHILOSOPHERS TEXT\n",
        "\n",
        "## LSTM Model Evaluation\n",
        "\n",
        "\n",
        "\n"
      ],
      "id": "j6CFuBiS19IW"
    },
    {
      "cell_type": "markdown",
      "metadata": {
        "id": "JsBQKNU_gQUd"
      },
      "source": [
        "### LSTM model accuracy"
      ],
      "id": "JsBQKNU_gQUd"
    },
    {
      "cell_type": "code",
      "metadata": {
        "colab": {
          "base_uri": "https://localhost:8080/"
        },
        "id": "r8wOEohrxHQv",
        "outputId": "7d352b7a-51d9-4de9-8369-74016966cbe8"
      },
      "source": [
        "\n",
        "# Determining Accuracy of the LSTM model\n",
        "accr = lstm_model.evaluate(X_test,y_test)\n",
        "print('Test set\\n  Loss: {:0.2f}\\n  Accuracy: {:0.2f}'.format(accr[0],accr[1]))\n"
      ],
      "id": "r8wOEohrxHQv",
      "execution_count": null,
      "outputs": [
        {
          "output_type": "stream",
          "text": [
            "837/837 [==============================] - 27s 33ms/step - loss: 0.2515 - acc: 0.9271\n",
            "Test set\n",
            "  Loss: 0.25\n",
            "  Accuracy: 0.93\n"
          ],
          "name": "stdout"
        }
      ]
    },
    {
      "cell_type": "markdown",
      "metadata": {
        "id": "ywy4xD4aJXaN"
      },
      "source": [
        "### LSTM: Predictions and Model Metrics"
      ],
      "id": "ywy4xD4aJXaN"
    },
    {
      "cell_type": "code",
      "metadata": {
        "colab": {
          "base_uri": "https://localhost:8080/"
        },
        "id": "hiZqA4eaE37m",
        "outputId": "751cc035-8fca-49f5-9373-5fa897730197"
      },
      "source": [
        "\n",
        "# Using LSTM to generate predictions on the test set\n",
        "predictions = lstm_model.predict(x= X_test, batch_size = 10, verbose = 1) \n"
      ],
      "id": "hiZqA4eaE37m",
      "execution_count": null,
      "outputs": [
        {
          "output_type": "stream",
          "text": [
            "2679/2679 [==============================] - 82s 31ms/step\n"
          ],
          "name": "stdout"
        }
      ]
    },
    {
      "cell_type": "code",
      "metadata": {
        "colab": {
          "base_uri": "https://localhost:8080/"
        },
        "id": "vzseYIeTFoda",
        "outputId": "b450da42-2a61-4a8b-b6d8-9a10fc572558"
      },
      "source": [
        "\n",
        "# Rounding the predictions to generate the labels \n",
        "rounded_predictions = np.argmax(predictions,axis=-1)\n",
        "\n",
        "# Making sure predictions are transformed into labels\n",
        "rounded_predictions "
      ],
      "id": "vzseYIeTFoda",
      "execution_count": null,
      "outputs": [
        {
          "output_type": "execute_result",
          "data": {
            "text/plain": [
              "array([2, 1, 4, ..., 4, 2, 0])"
            ]
          },
          "metadata": {},
          "execution_count": 133
        }
      ]
    },
    {
      "cell_type": "markdown",
      "metadata": {
        "id": "UEorV3Q1gOCy"
      },
      "source": [
        "### LSTM: Classification Report "
      ],
      "id": "UEorV3Q1gOCy"
    },
    {
      "cell_type": "code",
      "metadata": {
        "colab": {
          "base_uri": "https://localhost:8080/"
        },
        "id": "rtgCkRpBGNH-",
        "outputId": "765cd870-0e8a-47ca-fb99-2f03c28e3b76"
      },
      "source": [
        "\n",
        "# Importing metric libraries \n",
        "from sklearn.metrics import confusion_matrix,classification_report\n",
        "\n",
        "# Turning the rounded predictions into a dataframe \n",
        "labels_pred = pd.DataFrame(rounded_predictions)\n",
        "labels_pred.shape\n",
        "y_test_sorted = np.argmax(y_test,axis=-1)\n",
        "\n",
        "# Generate Confusion Matrix \n",
        "cm = confusion_matrix(y_true=y_test_sorted,y_pred=rounded_predictions)\n",
        "\n",
        "# Generate and Print Classification Report \n",
        "classifcation_rep = (classification_report(y_test_sorted,rounded_predictions))\n",
        "print(\"\\n\")\n",
        "print(classifcation_rep)\n"
      ],
      "id": "rtgCkRpBGNH-",
      "execution_count": null,
      "outputs": [
        {
          "output_type": "stream",
          "text": [
            "\n",
            "\n",
            "              precision    recall  f1-score   support\n",
            "\n",
            "           0       0.96      0.92      0.94      5386\n",
            "           1       0.96      0.92      0.94      5417\n",
            "           2       0.88      0.94      0.91      5343\n",
            "           3       0.94      0.93      0.93      5346\n",
            "           4       0.91      0.92      0.91      5292\n",
            "\n",
            "    accuracy                           0.93     26784\n",
            "   macro avg       0.93      0.93      0.93     26784\n",
            "weighted avg       0.93      0.93      0.93     26784\n",
            "\n"
          ],
          "name": "stdout"
        }
      ]
    },
    {
      "cell_type": "markdown",
      "metadata": {
        "id": "KWczf5nbgdZ8"
      },
      "source": [
        "### LSTM Confusion Matrix"
      ],
      "id": "KWczf5nbgdZ8"
    },
    {
      "cell_type": "code",
      "metadata": {
        "colab": {
          "base_uri": "https://localhost:8080/",
          "height": 285
        },
        "id": "gDXIB6w8IeMd",
        "outputId": "5db77920-59f6-467a-b253-c124312f3943"
      },
      "source": [
        "\n",
        "# Initialise class names \n",
        "classes = np.unique(philo_list)\n",
        "\n",
        "# Display Confusion Matrix using Matplotlib\n",
        "\n",
        "cm = confusion_matrix(y_test_sorted, rounded_predictions)\n",
        "fig, ax = plt.subplots()\n",
        "sns.heatmap(cm, annot=True, fmt='d', ax=ax, cmap=plt.cm.Blues, \n",
        "            cbar=False)\n",
        "ax.set(xlabel=\"Pred\", ylabel=\"True\",xticklabels='',yticklabels=classes\n",
        "       ,title=\"Confusion Matrix\")\n",
        "plt.yticks(rotation=0)\n",
        "plt.show()\n"
      ],
      "id": "gDXIB6w8IeMd",
      "execution_count": null,
      "outputs": [
        {
          "output_type": "display_data",
          "data": {
            "image/png": "[encoded data removed]",
            "text/plain": [
              "<Figure size 432x288 with 1 Axes>"
            ]
          },
          "metadata": {
            "needs_background": "light"
          }
        }
      ]
    },
    {
      "cell_type": "markdown",
      "metadata": {
        "id": "cxF0TwE2gLne"
      },
      "source": [
        "### LSTM: Plotting Result to Compare training vs. Validation "
      ],
      "id": "cxF0TwE2gLne"
    },
    {
      "cell_type": "code",
      "metadata": {
        "colab": {
          "base_uri": "https://localhost:8080/",
          "height": 573
        },
        "id": "_TavKTZ6xX-k",
        "outputId": "aab73d37-eb6a-4d26-a412-bf8ad156bd4f"
      },
      "source": [
        "\n",
        "# Comparing training and validation accuracy \n",
        "\n",
        "%matplotlib inline\n",
        "import matplotlib.pyplot as plt\n",
        "\n",
        "acc = history.history['acc']\n",
        "val_acc = history.history['val_acc']\n",
        "loss = history.history['loss']\n",
        "val_loss = history.history['val_loss']\n",
        "\n",
        "epochs = range(1, len(acc) + 1)\n",
        "\n",
        "plt.plot(epochs, acc, 'b',  color='red', label='Training acc')\n",
        "plt.plot(epochs, val_acc, 'b',color='green', label='Validation acc')\n",
        "plt.title('Training and validation accuracy')\n",
        "plt.xlabel('Epochs')\n",
        "plt.ylabel('Accuracy')\n",
        "plt.legend()\n",
        "\n",
        "plt.show()\n",
        "\n",
        "plt.plot(epochs, loss, 'b',color='red', label='Training loss')\n",
        "plt.plot(epochs, val_loss, 'b',color='green' ,label='Validation loss')\n",
        "plt.title('Training and validation loss')\n",
        "plt.xlabel('Epochs')\n",
        "plt.ylabel('Accuracy')\n",
        "plt.legend()\n",
        "\n",
        "plt.show()"
      ],
      "id": "_TavKTZ6xX-k",
      "execution_count": null,
      "outputs": [
        {
          "output_type": "display_data",
          "data": {
            "image/png": "[encoded data removed]",
            "text/plain": [
              "<Figure size 432x288 with 1 Axes>"
            ]
          },
          "metadata": {
            "needs_background": "light"
          }
        },
        {
          "output_type": "display_data",
          "data": {
            "image/png": "[encoded data removed]",
            "text/plain": [
              "<Figure size 432x288 with 1 Axes>"
            ]
          },
          "metadata": {
            "needs_background": "light"
          }
        }
      ]
    },
    {
      "cell_type": "markdown",
      "metadata": {
        "id": "LI2Okmz7pnO8"
      },
      "source": [
        "### LSTM: Kappa Score"
      ],
      "id": "LI2Okmz7pnO8"
    },
    {
      "cell_type": "code",
      "metadata": {
        "colab": {
          "base_uri": "https://localhost:8080/"
        },
        "id": "2vQ2McpbrCuH",
        "outputId": "138be26a-f75e-4d51-bec2-d65ba5305524"
      },
      "source": [
        "from sklearn.metrics import cohen_kappa_score\n",
        "\n",
        "print(cohen_kappa_score(y_test_sorted,rounded_predictions))"
      ],
      "id": "2vQ2McpbrCuH",
      "execution_count": null,
      "outputs": [
        {
          "output_type": "stream",
          "text": [
            "0.908856987829618\n"
          ],
          "name": "stdout"
        }
      ]
    },
    {
      "cell_type": "markdown",
      "metadata": {
        "id": "iJL6VxBztw4T"
      },
      "source": [
        "### LSTM: Hyperparameter Tuning GRIDCV "
      ],
      "id": "iJL6VxBztw4T"
    },
    {
      "cell_type": "code",
      "metadata": {
        "id": "h6UHCe7RN4Xp"
      },
      "source": [
        "\n",
        "from sklearn.model_selection import GridSearchCV\n",
        "from keras.wrappers.scikit_learn import KerasClassifier\n",
        "from keras.optimizers import rmsprop_v2\n",
        "\n",
        "def create_model(init_mode='uniform'):\n",
        "    # define model\n",
        "    model = Sequential()\n",
        "    model.add(Dense(64, kernel_initializer=init_mode, activation=tf.nn.relu, input_dim=130)) \n",
        "    model.add(Dropout(0.1))\n",
        "    model.add(Dense(64, kernel_initializer=init_mode, activation=tf.nn.relu))\n",
        "    model.add(Dense(5, kernel_initializer=init_mode, activation=tf.nn.softmax))\n",
        "    # compile model\n",
        "    model.compile(loss='categorical_crossentropy',\n",
        "              optimizer='adam',\n",
        "              metrics=['accuracy'])\n",
        "    return model"
      ],
      "id": "h6UHCe7RN4Xp",
      "execution_count": null,
      "outputs": []
    },
    {
      "cell_type": "code",
      "metadata": {
        "colab": {
          "base_uri": "https://localhost:8080/"
        },
        "id": "wxv4FXsDyTOw",
        "outputId": "1184abcd-98fa-47d6-931b-56db0bd06cd7"
      },
      "source": [
        "import numpy as np\n",
        "seed = 7\n",
        "np.random.seed(seed)\n",
        "batch_size = 128\n",
        "epochs = 10\n",
        "\n",
        "model_CV = KerasClassifier(build_fn=create_model, epochs=epochs, \n",
        "                           batch_size=batch_size, verbose=1)\n",
        "# define the grid search parameters\n",
        "init_mode = ['uniform', 'lecun_uniform', 'normal', 'zero', \n",
        "             'glorot_normal', 'glorot_uniform', 'he_normal', 'he_uniform']\n",
        "\n",
        "param_grid = dict(init_mode=init_mode)\n",
        "grid = GridSearchCV(estimator=model_CV, param_grid=param_grid, n_jobs=-1, cv=3)\n",
        "grid_result = grid.fit(X_train, y_train)"
      ],
      "id": "wxv4FXsDyTOw",
      "execution_count": null,
      "outputs": [
        {
          "name": "stderr",
          "output_type": "stream",
          "text": [
            "/usr/local/lib/python3.7/dist-packages/joblib/externals/loky/process_executor.py:691: UserWarning: A worker stopped while some jobs were given to the executor. This can be caused by a too short worker timeout or by a memory leak.\n",
            "  \"timeout or by a memory leak.\", UserWarning\n"
          ]
        },
        {
          "name": "stdout",
          "output_type": "stream",
          "text": [
            "Epoch 1/10\n",
            "628/628 [==============================] - 2s 2ms/step - loss: 1.5246 - accuracy: 0.4218\n",
            "Epoch 2/10\n",
            "628/628 [==============================] - 1s 2ms/step - loss: 1.4677 - accuracy: 0.4223\n",
            "Epoch 3/10\n",
            "628/628 [==============================] - 1s 2ms/step - loss: 1.4632 - accuracy: 0.4223\n",
            "Epoch 4/10\n",
            "628/628 [==============================] - 1s 2ms/step - loss: 1.4630 - accuracy: 0.4223\n",
            "Epoch 5/10\n",
            "628/628 [==============================] - 1s 2ms/step - loss: 1.4631 - accuracy: 0.4223\n",
            "Epoch 6/10\n",
            "628/628 [==============================] - 1s 2ms/step - loss: 1.4631 - accuracy: 0.4223\n",
            "Epoch 7/10\n",
            "628/628 [==============================] - 1s 2ms/step - loss: 1.4631 - accuracy: 0.4223\n",
            "Epoch 8/10\n",
            "628/628 [==============================] - 1s 2ms/step - loss: 1.4631 - accuracy: 0.4223\n",
            "Epoch 9/10\n",
            "628/628 [==============================] - 1s 2ms/step - loss: 1.4631 - accuracy: 0.4223\n",
            "Epoch 10/10\n",
            "628/628 [==============================] - 1s 2ms/step - loss: 1.4631 - accuracy: 0.4223\n"
          ]
        }
      ]
    },
    {
      "cell_type": "markdown",
      "metadata": {
        "id": "3uvYSV6YAon_"
      },
      "source": [
        "# DEPLOYMENT PHASE - PHILOSOPHERS TEXT\n",
        "## Saving LSTM model"
      ],
      "id": "3uvYSV6YAon_"
    },
    {
      "cell_type": "code",
      "metadata": {
        "id": "1_j1sRNpAmcB"
      },
      "source": [
        "# lstm_model.save(\"lstm_model.h5\")\n",
        "# load.model('/content/lstm_model.h5')"
      ],
      "id": "1_j1sRNpAmcB",
      "execution_count": null,
      "outputs": []
    },
    {
      "cell_type": "markdown",
      "metadata": {
        "id": "I1DEgKBrH_if"
      },
      "source": [
        "## **BI-LSTM MODEL**\n"
      ],
      "id": "I1DEgKBrH_if"
    },
    {
      "cell_type": "code",
      "metadata": {
        "id": "brief-roman"
      },
      "source": [
        "\n",
        "# Importing keras from tensorflow \n",
        "from tensorflow import keras\n",
        "# from sklearn.preprocessing import LabelBinarizer, LabelEncoder\n",
        "from sklearn.metrics import confusion_matrix\n",
        "# Importing utilities from keras\n",
        "from keras import utils\n",
        "# Importing tokenizers, sequences and padding for text wrangling\n",
        "from keras.preprocessing.text import Tokenizer\n",
        "from keras.preprocessing import text, sequence\n",
        "from keras.preprocessing.sequence import pad_sequences\n",
        "# Importing Sequences, early stopping to instantiate and moderate overfitting\n",
        "from keras.models import Sequential\n",
        "from keras.callbacks import EarlyStopping\n",
        "# Imlaypers required for Neural network model architecture\n",
        "from tensorflow.keras.layers import Dense, Flatten, LSTM, Dropout, Activation, Embedding, Bidirectional, SpatialDropout1D\n"
      ],
      "id": "brief-roman",
      "execution_count": 212,
      "outputs": []
    },
    {
      "cell_type": "markdown",
      "metadata": {
        "id": "Wt0_eZ8jmXRX"
      },
      "source": [
        "## BI-LSTM DATA PRE-PROCESSING"
      ],
      "id": "Wt0_eZ8jmXRX"
    },
    {
      "cell_type": "code",
      "metadata": {
        "id": "4UtLAPl3XjlR"
      },
      "source": [
        "\n",
        "# Creating input and output variables\n",
        "sentences = df_n.sentence\n",
        "labels = df_n.label\n"
      ],
      "id": "4UtLAPl3XjlR",
      "execution_count": null,
      "outputs": []
    },
    {
      "cell_type": "code",
      "metadata": {
        "colab": {
          "base_uri": "https://localhost:8080/"
        },
        "id": "D_pH0DitkVUU",
        "outputId": "74f7d897-3072-4320-fb7c-33ebd048c335"
      },
      "source": [
        "\n",
        "# Importing and fitting tokenizer\n",
        "from keras.preprocessing.text import Tokenizer\n",
        "max_words = 40000\n",
        "max_len = 130\n",
        "tokenize = Tokenizer(num_words=None, filters='!\"#$%&()*+,-./:;<=>?@[\\\\]^_`{|}~\\t\\n', lower=True)\n",
        "tokenize.fit_on_texts(sentences.values)\n",
        "# Converting texts to sequences then into a word index\n",
        "sequences = tokenize.texts_to_sequences(sentences.values)\n",
        "word_index = tokenize.word_index\n",
        "print(len(word_index))\n",
        "# Pading texts to limit the word count\n",
        "X = pad_sequences(sequences,maxlen=max_len)\n",
        "y = keras.utils.to_categorical(labels.values,num_classes=5)\n",
        "\n"
      ],
      "id": "D_pH0DitkVUU",
      "execution_count": null,
      "outputs": [
        {
          "name": "stdout",
          "output_type": "stream",
          "text": [
            "45761\n"
          ]
        }
      ]
    },
    {
      "cell_type": "code",
      "metadata": {
        "id": "ONmjkGrIn5hw"
      },
      "source": [
        "\n",
        "# splitting training and test set\n",
        "from sklearn.model_selection import train_test_split\n",
        "\n",
        "X_train, X_test, y_train, y_test = train_test_split(X , y, test_size=0.25, random_state=42)\n"
      ],
      "id": "ONmjkGrIn5hw",
      "execution_count": null,
      "outputs": []
    },
    {
      "cell_type": "code",
      "metadata": {
        "id": "0qJc4ZLVpJOg"
      },
      "source": [
        "\n",
        "# Defining the number of epochs, embedding dimensions, batch size and vocab length required in the model\n",
        "epochs = 15\n",
        "emb_dim = 130\n",
        "batch_size = 256\n",
        "vocab = len(word_index) + 1\n"
      ],
      "id": "0qJc4ZLVpJOg",
      "execution_count": null,
      "outputs": []
    },
    {
      "cell_type": "code",
      "metadata": {
        "colab": {
          "base_uri": "https://localhost:8080/"
        },
        "id": "YfqVTAnwra88",
        "outputId": "b39437f6-4235-490b-d343-bcc7e0a4f8d2"
      },
      "source": [
        "\n",
        "# Checking that training and test set are the same input dims\n",
        "print((X_train.shape, y_train.shape, X_test.shape, y_test.shape))\n"
      ],
      "id": "YfqVTAnwra88",
      "execution_count": null,
      "outputs": [
        {
          "name": "stdout",
          "output_type": "stream",
          "text": [
            "((85707, 130), (85707, 5), (21427, 130), (21427, 5))\n"
          ]
        }
      ]
    },
    {
      "cell_type": "markdown",
      "metadata": {
        "id": "1oHiAD2RtqfO"
      },
      "source": [
        "## BI-LSTM MODEL ARCHITECTURE & TRAINING"
      ],
      "id": "1oHiAD2RtqfO"
    },
    {
      "cell_type": "markdown",
      "metadata": {
        "id": "IyBhIF210tEG"
      },
      "source": [
        "### BI-LSTM MODEL ARCHITECTURE 1"
      ],
      "id": "IyBhIF210tEG"
    },
    {
      "cell_type": "code",
      "metadata": {
        "colab": {
          "base_uri": "https://localhost:8080/"
        },
        "id": "V3oN47ngMwc_",
        "outputId": "21ebf1d9-cdee-417f-9578-70d6c9b9468e"
      },
      "source": [
        "\n",
        "# Model Architecture 1\n",
        "\n",
        "bi_lstm_model1= Sequential()\n",
        "\n",
        "bi_lstm_model1.add(Embedding(vocab,emb_dim))\n",
        "# model.add(Embedding(vocab_len, embedding_dimensions, trainable = False, weights=[embedding_matrix]))\n",
        "bi_lstm_model1.add(Dropout(0.5)) # (0.5 ,0.8) was the previous more hardline dropout \n",
        "bi_lstm_model1.add(Bidirectional(LSTM(emb_dim)))#emb_dim\n",
        "bi_lstm_model1.add(Dense(5,activation='softmax'))\n",
        "\n",
        "bi_lstm_model1.compile(loss='categorical_crossentropy', optimizer='adam', metrics=['accuracy'])\n",
        "\n",
        "bi_lstm_model1.summary()\n"
      ],
      "id": "V3oN47ngMwc_",
      "execution_count": null,
      "outputs": [
        {
          "output_type": "stream",
          "text": [
            "Model: \"sequential_3\"\n",
            "_________________________________________________________________\n",
            "Layer (type)                 Output Shape              Param #   \n",
            "=================================================================\n",
            "embedding_2 (Embedding)      (None, None, 130)         4865510   \n",
            "_________________________________________________________________\n",
            "dropout_1 (Dropout)          (None, None, 130)         0         \n",
            "_________________________________________________________________\n",
            "bidirectional (Bidirectional (None, 260)               271440    \n",
            "_________________________________________________________________\n",
            "dense_1 (Dense)              (None, 5)                 1305      \n",
            "=================================================================\n",
            "Total params: 5,138,255\n",
            "Trainable params: 5,138,255\n",
            "Non-trainable params: 0\n",
            "_________________________________________________________________\n"
          ],
          "name": "stdout"
        }
      ]
    },
    {
      "cell_type": "markdown",
      "metadata": {
        "id": "xAX-eJCL0xzE"
      },
      "source": [
        "### BI-LSTM MODEL ARCHITECTURE 2"
      ],
      "id": "xAX-eJCL0xzE"
    },
    {
      "cell_type": "code",
      "metadata": {
        "colab": {
          "base_uri": "https://localhost:8080/"
        },
        "id": "gooHbOJvu6XW",
        "outputId": "636bb006-3ce3-46d2-b6ed-1b194ca633ea"
      },
      "source": [
        "\n",
        "# Model Architecture 2\n",
        "\n",
        "model_bi_lstm = Sequential()\n",
        "model_bi_lstm.add(Embedding(vocab,emb_dim))\n",
        "# model_bi_lstm.add(Embedding(vocab_len, embedding_dimensions, trainable = False, weights=[embedding_matrix]))\n",
        "model_bi_lstm.add(SpatialDropout1D(0.3))\n",
        "model_bi_lstm.add(Bidirectional(LSTM(emb_dim, dropout=0.3, recurrent_dropout=0.3)))\n",
        "model_bi_lstm.add(Dense(emb_dim, activation='relu'))\n",
        "model_bi_lstm.add(Dropout(0.8))\n",
        "model_bi_lstm.add(Dense(emb_dim, activation='relu')) # relu, tanh sigmoid\n",
        "model_bi_lstm.add(Dropout(0.8))\n",
        "model_bi_lstm.add(Dense(5,activation='softmax'))\n",
        "model_bi_lstm.summary()\n",
        "model_bi_lstm.compile(loss='categorical_crossentropy', optimizer='adam',metrics=['accuracy']) # adam > RMSprop\n"
      ],
      "id": "gooHbOJvu6XW",
      "execution_count": 216,
      "outputs": [
        {
          "output_type": "stream",
          "text": [
            "WARNING:tensorflow:Layer lstm_2 will not use cuDNN kernels since it doesn't meet the criteria. It will use a generic GPU kernel as fallback when running on GPU.\n",
            "WARNING:tensorflow:Layer lstm_2 will not use cuDNN kernels since it doesn't meet the criteria. It will use a generic GPU kernel as fallback when running on GPU.\n",
            "WARNING:tensorflow:Layer lstm_2 will not use cuDNN kernels since it doesn't meet the criteria. It will use a generic GPU kernel as fallback when running on GPU.\n",
            "Model: \"sequential_41\"\n",
            "_________________________________________________________________\n",
            "Layer (type)                 Output Shape              Param #   \n",
            "=================================================================\n",
            "embedding_36 (Embedding)     (None, None, 130)         4865510   \n",
            "_________________________________________________________________\n",
            "spatial_dropout1d_3 (Spatial (None, None, 130)         0         \n",
            "_________________________________________________________________\n",
            "bidirectional_2 (Bidirection (None, 260)               271440    \n",
            "_________________________________________________________________\n",
            "dense_48 (Dense)             (None, 130)               33930     \n",
            "_________________________________________________________________\n",
            "dropout_42 (Dropout)         (None, 130)               0         \n",
            "_________________________________________________________________\n",
            "dense_49 (Dense)             (None, 130)               17030     \n",
            "_________________________________________________________________\n",
            "dropout_43 (Dropout)         (None, 130)               0         \n",
            "_________________________________________________________________\n",
            "dense_50 (Dense)             (None, 5)                 655       \n",
            "=================================================================\n",
            "Total params: 5,188,565\n",
            "Trainable params: 5,188,565\n",
            "Non-trainable params: 0\n",
            "_________________________________________________________________\n"
          ],
          "name": "stdout"
        }
      ]
    },
    {
      "cell_type": "code",
      "metadata": {
        "colab": {
          "base_uri": "https://localhost:8080/"
        },
        "id": "JhN_zyBGQ6lv",
        "outputId": "76b81b90-8e39-4239-870c-4dc08c712968"
      },
      "source": [
        "%%time\n",
        "epoch = 15\n",
        "\n",
        "history = model_bi_lstm.fit(X_train, y_train, epochs=epoch, batch_size=128,validation_split=0.2\n",
        "                    ,callbacks=[EarlyStopping(monitor='val_loss',patience=7, min_delta=0.0001)])\n"
      ],
      "id": "JhN_zyBGQ6lv",
      "execution_count": 217,
      "outputs": [
        {
          "output_type": "stream",
          "text": [
            "Epoch 1/15\n",
            "536/536 [==============================] - 403s 744ms/step - loss: 1.2022 - accuracy: 0.4791 - val_loss: 0.6173 - val_accuracy: 0.7970\n",
            "Epoch 2/15\n",
            "536/536 [==============================] - 398s 743ms/step - loss: 0.5703 - accuracy: 0.8235 - val_loss: 0.3604 - val_accuracy: 0.8839\n",
            "Epoch 3/15\n",
            "536/536 [==============================] - 399s 745ms/step - loss: 0.3746 - accuracy: 0.8934 - val_loss: 0.3121 - val_accuracy: 0.9042\n",
            "Epoch 4/15\n",
            "536/536 [==============================] - 398s 742ms/step - loss: 0.2785 - accuracy: 0.9236 - val_loss: 0.3247 - val_accuracy: 0.9088\n",
            "Epoch 5/15\n",
            "536/536 [==============================] - 400s 745ms/step - loss: 0.2352 - accuracy: 0.9346 - val_loss: 0.3217 - val_accuracy: 0.9168\n",
            "Epoch 6/15\n",
            "536/536 [==============================] - 398s 742ms/step - loss: 0.2008 - accuracy: 0.9458 - val_loss: 0.3239 - val_accuracy: 0.9172\n",
            "Epoch 7/15\n",
            "536/536 [==============================] - 398s 742ms/step - loss: 0.1738 - accuracy: 0.9532 - val_loss: 0.3470 - val_accuracy: 0.9128\n",
            "Epoch 8/15\n",
            "536/536 [==============================] - 399s 744ms/step - loss: 0.1534 - accuracy: 0.9580 - val_loss: 0.3342 - val_accuracy: 0.9237\n",
            "Epoch 9/15\n",
            "536/536 [==============================] - 399s 744ms/step - loss: 0.1359 - accuracy: 0.9638 - val_loss: 0.3371 - val_accuracy: 0.9252\n",
            "Epoch 10/15\n",
            "536/536 [==============================] - 400s 747ms/step - loss: 0.1322 - accuracy: 0.9643 - val_loss: 0.3687 - val_accuracy: 0.9270\n",
            "CPU times: user 2h 42min 33s, sys: 24min 42s, total: 3h 7min 16s\n",
            "Wall time: 1h 6min 31s\n"
          ],
          "name": "stdout"
        }
      ]
    },
    {
      "cell_type": "markdown",
      "metadata": {
        "id": "aAaSfsYgbaKo"
      },
      "source": [
        "# BI-LSTM EVALUATION PHASE - PHILOSOPHERS TEXT\n",
        "\n",
        "## Bi-LSTM Model Evaluation \n",
        "\n",
        "\n",
        "\n"
      ],
      "id": "aAaSfsYgbaKo"
    },
    {
      "cell_type": "markdown",
      "metadata": {
        "id": "Wlfikvw7fhFy"
      },
      "source": [
        "### Bi-LSTM: Model Accuracy"
      ],
      "id": "Wlfikvw7fhFy"
    },
    {
      "cell_type": "code",
      "metadata": {
        "colab": {
          "base_uri": "https://localhost:8080/"
        },
        "id": "6pCusdkNffgX",
        "outputId": "6970662e-72b8-447f-c928-f8a4632b312c"
      },
      "source": [
        "\n",
        "# Determining Accuracy of the Bi-LSTM model\n",
        "accr = model_bi_lstm.evaluate(X_test,y_test)\n",
        "# accr_1 = model.evaluate(X_test,y_test)\n",
        "print('Test set\\n  Loss: {:0.3f}\\n  Accuracy: {:0.3f}'.format(accr[0],accr[1]))\n"
      ],
      "id": "6pCusdkNffgX",
      "execution_count": 219,
      "outputs": [
        {
          "output_type": "stream",
          "text": [
            "670/670 [==============================] - 37s 55ms/step - loss: 0.3813 - accuracy: 0.9257\n",
            "Test set\n",
            "  Loss: 0.381\n",
            "  Accuracy: 0.926\n"
          ],
          "name": "stdout"
        }
      ]
    },
    {
      "cell_type": "markdown",
      "metadata": {
        "id": "K_HXS1qelZHY"
      },
      "source": [
        "### Bi-LSTM: Predictions On Test Set"
      ],
      "id": "K_HXS1qelZHY"
    },
    {
      "cell_type": "code",
      "metadata": {
        "colab": {
          "base_uri": "https://localhost:8080/"
        },
        "id": "-8Rr_FN8LdGz",
        "outputId": "41f5b403-77aa-436a-e5b1-d4dbd3f0c14c"
      },
      "source": [
        "\n",
        "# Bi-LSTM model predictions on test set \n",
        "\n",
        "predictions = model_bi_lstm.predict(x= X_test, batch_size = 10, verbose = 2)\n"
      ],
      "id": "-8Rr_FN8LdGz",
      "execution_count": 220,
      "outputs": [
        {
          "output_type": "stream",
          "text": [
            "2143/2143 - 110s\n"
          ],
          "name": "stdout"
        }
      ]
    },
    {
      "cell_type": "code",
      "metadata": {
        "id": "TZigBB61lXXT",
        "colab": {
          "base_uri": "https://localhost:8080/"
        },
        "outputId": "d15da65e-c9e3-4fec-abfb-418bb125492d"
      },
      "source": [
        "\n",
        "# Derive rounded predictions that will shift probability of class into actual prediction\n",
        "\n",
        "rounded_predictions = np.argmax(predictions,axis=-1)\n",
        "\n",
        "\n",
        "# Test to verify prediciton outputt after rounding\n",
        "\n",
        "rounded_predictions\n",
        "\n",
        "y_test_sorted = np.argmax(y_test,axis=-1)\n",
        "y_test_sorted\n",
        "rounded_predictions"
      ],
      "id": "TZigBB61lXXT",
      "execution_count": 221,
      "outputs": [
        {
          "output_type": "execute_result",
          "data": {
            "text/plain": [
              "array([2, 1, 4, ..., 0, 0, 3])"
            ]
          },
          "metadata": {},
          "execution_count": 221
        }
      ]
    },
    {
      "cell_type": "markdown",
      "metadata": {
        "id": "7Qk0BJcEfQ0-"
      },
      "source": [
        "### BI-LSTM: Classification Report \n"
      ],
      "id": "7Qk0BJcEfQ0-"
    },
    {
      "cell_type": "code",
      "metadata": {
        "colab": {
          "base_uri": "https://localhost:8080/"
        },
        "id": "YOlO6VIAar6H",
        "outputId": "4b797021-7f84-4f00-8107-3ecb26c611a7"
      },
      "source": [
        "from sklearn.metrics import classification_report\n",
        "\n",
        "# Generate and Print Classification Report \n",
        "classifcation_rep = (classification_report(y_test_sorted,rounded_predictions))\n",
        "print(\"\\n\")\n",
        "print(classifcation_rep)\n",
        "\n"
      ],
      "id": "YOlO6VIAar6H",
      "execution_count": 222,
      "outputs": [
        {
          "output_type": "stream",
          "text": [
            "\n",
            "\n",
            "              precision    recall  f1-score   support\n",
            "\n",
            "           0       0.93      0.94      0.93      4331\n",
            "           1       0.94      0.93      0.93      4321\n",
            "           2       0.91      0.93      0.92      4294\n",
            "           3       0.92      0.93      0.93      4261\n",
            "           4       0.93      0.89      0.91      4220\n",
            "\n",
            "    accuracy                           0.93     21427\n",
            "   macro avg       0.93      0.93      0.93     21427\n",
            "weighted avg       0.93      0.93      0.93     21427\n",
            "\n"
          ],
          "name": "stdout"
        }
      ]
    },
    {
      "cell_type": "markdown",
      "metadata": {
        "id": "tsGYc11kfL2i"
      },
      "source": [
        "### BI-LSTM: Confusion Matrix"
      ],
      "id": "tsGYc11kfL2i"
    },
    {
      "cell_type": "code",
      "metadata": {
        "colab": {
          "base_uri": "https://localhost:8080/",
          "height": 285
        },
        "id": "pF-raBbwbqSN",
        "outputId": "8ab6cbb7-bd62-46c3-9ca0-c182af833e99"
      },
      "source": [
        "\n",
        "# Initialise class names \n",
        "classes = np.unique(philo_list)\n",
        "\n",
        "# Display Confusion Matrix using Matplotlib\n",
        "\n",
        "cm = confusion_matrix(y_test_sorted, rounded_predictions)\n",
        "fig, ax = plt.subplots()\n",
        "sns.heatmap(cm, annot=True, fmt='d', ax=ax, cmap=plt.cm.Blues, \n",
        "            cbar=False)\n",
        "ax.set(xlabel=\"Pred\", ylabel=\"True\",xticklabels='',yticklabels=classes\n",
        "       ,title=\"Confusion Matrix\")\n",
        "plt.yticks(rotation=0)\n",
        "plt.show()\n"
      ],
      "id": "pF-raBbwbqSN",
      "execution_count": 223,
      "outputs": [
        {
          "output_type": "display_data",
          "data": {
            "image/png": "[encoded data removed]",
            "text/plain": [
              "<Figure size 432x288 with 1 Axes>"
            ]
          },
          "metadata": {
            "needs_background": "light"
          }
        }
      ]
    },
    {
      "cell_type": "markdown",
      "metadata": {
        "id": "yve58pkCTYjd"
      },
      "source": [
        "### BI-LSTM: Kappa Statistic"
      ],
      "id": "yve58pkCTYjd"
    },
    {
      "cell_type": "code",
      "metadata": {
        "colab": {
          "base_uri": "https://localhost:8080/"
        },
        "id": "15qPtixXMxZk",
        "outputId": "e4654385-77df-4f54-ddb8-2212d93c65f6"
      },
      "source": [
        "\n",
        "from sklearn.metrics import cohen_kappa_score\n",
        "print(cohen_kappa_score(y_test_sorted,rounded_predictions))\n",
        "\n"
      ],
      "id": "15qPtixXMxZk",
      "execution_count": 226,
      "outputs": [
        {
          "output_type": "stream",
          "text": [
            "0.907179839500185\n"
          ],
          "name": "stdout"
        }
      ]
    },
    {
      "cell_type": "markdown",
      "metadata": {
        "id": "PCsYUCd5fygd"
      },
      "source": [
        "### BI-LSTM: Plotting Result to Compare Model Performance on Training & Validation Set"
      ],
      "id": "PCsYUCd5fygd"
    },
    {
      "cell_type": "code",
      "metadata": {
        "colab": {
          "base_uri": "https://localhost:8080/",
          "height": 573
        },
        "id": "w4d0X1Ckmd6O",
        "outputId": "233975f3-3451-40c6-b882-8bfb1aee502a"
      },
      "source": [
        "\n",
        "# Verifying accuracy of training set versus validation set\n",
        "\n",
        "import matplotlib.pyplot as plt\n",
        "%matplotlib inline\n",
        "\n",
        "acc = history.history['accuracy']\n",
        "val_acc = history.history['val_accuracy']\n",
        "loss = history.history['loss']\n",
        "val_loss = history.history['val_loss']\n",
        "\n",
        "epochs = range(1, len(acc) + 1)\n",
        "\n",
        "plt.plot(epochs, acc, 'b',  color='red', label='Training acc')\n",
        "plt.plot(epochs, val_acc, 'b',color='green', label='Validation acc')\n",
        "plt.title('Training and validation accuracy')\n",
        "plt.xlabel('Epochs')\n",
        "plt.ylabel('Accuracy')\n",
        "plt.legend()\n",
        "\n",
        "plt.show()\n",
        "\n",
        "plt.plot(epochs, loss, 'b',color='red', label='Training loss')\n",
        "plt.plot(epochs, val_loss, 'b',color='green' ,label='Validation loss')\n",
        "plt.title('Training and validation loss')\n",
        "plt.xlabel('Epochs')\n",
        "plt.ylabel('Accuracy')\n",
        "plt.legend()\n",
        "\n",
        "plt.show()"
      ],
      "id": "w4d0X1Ckmd6O",
      "execution_count": 227,
      "outputs": [
        {
          "output_type": "display_data",
          "data": {
            "image/png": "[encoded data removed]",
            "text/plain": [
              "<Figure size 432x288 with 1 Axes>"
            ]
          },
          "metadata": {
            "needs_background": "light"
          }
        },
        {
          "output_type": "display_data",
          "data": {
            "image/png": "[encoded data removed]",
            "text/plain": [
              "<Figure size 432x288 with 1 Axes>"
            ]
          },
          "metadata": {
            "needs_background": "light"
          }
        }
      ]
    },
    {
      "cell_type": "markdown",
      "metadata": {
        "id": "PARRDNEdtiiR"
      },
      "source": [
        "### BI-LSTM: Hyperparameter Tuning GRIDCV "
      ],
      "id": "PARRDNEdtiiR"
    },
    {
      "cell_type": "code",
      "metadata": {
        "id": "_usMS7RbtMnH"
      },
      "source": [
        "\n",
        "optimize = ['SGD', 'RMSprop', 'Adam', 'Adadelta', 'Adagrad', 'Adamax', 'Nadam', 'Ftrl']\n",
        "\n",
        "activators = ['relu','sigmoid','softmax','softplus','softsign','tanh','selu','elu','exponential']\n",
        "\n",
        "batch_sizes = [47,128,256,500]\n",
        "\n",
        "epoch_tests = [10,15,20,40]\n"
      ],
      "id": "_usMS7RbtMnH",
      "execution_count": null,
      "outputs": []
    },
    {
      "cell_type": "markdown",
      "metadata": {
        "id": "q6jpD7f_jwJR"
      },
      "source": [
        "# BI-LSTM: DEPLOYMENT PHASE - PHILOSOPHERS TEXT\n",
        "## Saving Bi-LSTM model"
      ],
      "id": "q6jpD7f_jwJR"
    },
    {
      "cell_type": "code",
      "metadata": {
        "id": "ztEiWQwRjwJR"
      },
      "source": [
        "# bi_lstm_model1.save(\"bi-lstm_modelstrat.h5\")\n",
        "# load.model('/content/bi-lstm_model2.h5')"
      ],
      "id": "ztEiWQwRjwJR",
      "execution_count": null,
      "outputs": []
    },
    {
      "cell_type": "code",
      "metadata": {
        "id": "g_rRW7pphP2Z"
      },
      "source": [
        "# Importing the developed Bi-LSTM models\n",
        "\n",
        "# from tensorflow import keras\n",
        "\n",
        "# model = keras.models.load_model('/content/bi-lstm_model22.h5')"
      ],
      "id": "g_rRW7pphP2Z",
      "execution_count": null,
      "outputs": []
    },
    {
      "cell_type": "markdown",
      "metadata": {
        "id": "OG738-NAjabe"
      },
      "source": [
        "# GRU MODEL"
      ],
      "id": "OG738-NAjabe"
    },
    {
      "cell_type": "code",
      "metadata": {
        "id": "uTizn0vv31pU"
      },
      "source": [
        "\n",
        "from keras.models import Sequential\n",
        "from keras.layers import Dense,Dropout,Embedding,LSTM,Conv1D,Flatten,MaxPooling1D,GRU\n",
        "from keras.callbacks import EarlyStopping\n"
      ],
      "id": "uTizn0vv31pU",
      "execution_count": 167,
      "outputs": []
    },
    {
      "cell_type": "markdown",
      "metadata": {
        "id": "qUsPj4uBFO9f"
      },
      "source": [
        "## GRU MODEL ARCHITECTURE & TRAINING"
      ],
      "id": "qUsPj4uBFO9f"
    },
    {
      "cell_type": "code",
      "metadata": {
        "id": "vEjiPXp9pmi8",
        "colab": {
          "base_uri": "https://localhost:8080/"
        },
        "outputId": "bb5f5a2a-cdcd-438a-edb7-4c6f3592de2f"
      },
      "source": [
        "\n",
        "gru_model = Sequential()\n",
        "gru_model.add(Embedding(vocab,emb_dim))\n",
        "gru_model.add(GRU(128, return_sequences=False))\n",
        "gru_model.add(Dropout(0.8))\n",
        "gru_model.add(Dense(5, activation = 'sigmoid'))\n",
        "gru_model.compile(loss='categorical_crossentropy', optimizer='adam', metrics=['accuracy'])\n",
        "print(gru_model.summary())\n",
        "\n"
      ],
      "id": "vEjiPXp9pmi8",
      "execution_count": 203,
      "outputs": [
        {
          "output_type": "stream",
          "text": [
            "Model: \"sequential_37\"\n",
            "_________________________________________________________________\n",
            "Layer (type)                 Output Shape              Param #   \n",
            "=================================================================\n",
            "embedding_32 (Embedding)     (None, None, 130)         4865510   \n",
            "_________________________________________________________________\n",
            "gru_20 (GRU)                 (None, 128)               99840     \n",
            "_________________________________________________________________\n",
            "dropout_37 (Dropout)         (None, 128)               0         \n",
            "_________________________________________________________________\n",
            "dense_41 (Dense)             (None, 5)                 645       \n",
            "=================================================================\n",
            "Total params: 4,965,995\n",
            "Trainable params: 4,965,995\n",
            "Non-trainable params: 0\n",
            "_________________________________________________________________\n",
            "None\n"
          ],
          "name": "stdout"
        }
      ]
    },
    {
      "cell_type": "code",
      "metadata": {
        "id": "nJM7t0i96JD-",
        "colab": {
          "base_uri": "https://localhost:8080/"
        },
        "outputId": "f4bf46c8-44cc-4e7b-f8ce-ad58caf3d01c"
      },
      "source": [
        "\n",
        "%%time\n",
        "history = gru_model.fit(X_train, y_train,validation_split=0.2,\n",
        "                        epochs=15, batch_size= 128 ,verbose=2,shuffle=True) # 256\n"
      ],
      "id": "nJM7t0i96JD-",
      "execution_count": 204,
      "outputs": [
        {
          "output_type": "stream",
          "text": [
            "Epoch 1/15\n",
            "536/536 - 8s - loss: 0.7217 - accuracy: 0.7264 - val_loss: 0.3324 - val_accuracy: 0.8874\n",
            "Epoch 2/15\n",
            "536/536 - 6s - loss: 0.2456 - accuracy: 0.9236 - val_loss: 0.2738 - val_accuracy: 0.9103\n",
            "Epoch 3/15\n",
            "536/536 - 6s - loss: 0.1588 - accuracy: 0.9518 - val_loss: 0.2568 - val_accuracy: 0.9214\n",
            "Epoch 4/15\n",
            "536/536 - 6s - loss: 0.1134 - accuracy: 0.9657 - val_loss: 0.2838 - val_accuracy: 0.9246\n",
            "Epoch 5/15\n",
            "536/536 - 6s - loss: 0.0904 - accuracy: 0.9727 - val_loss: 0.3080 - val_accuracy: 0.9219\n",
            "Epoch 6/15\n",
            "536/536 - 6s - loss: 0.0754 - accuracy: 0.9772 - val_loss: 0.2919 - val_accuracy: 0.9301\n",
            "Epoch 7/15\n",
            "536/536 - 6s - loss: 0.0607 - accuracy: 0.9821 - val_loss: 0.3242 - val_accuracy: 0.9295\n",
            "Epoch 8/15\n",
            "536/536 - 6s - loss: 0.0566 - accuracy: 0.9830 - val_loss: 0.3629 - val_accuracy: 0.9197\n",
            "Epoch 9/15\n",
            "536/536 - 6s - loss: 0.0406 - accuracy: 0.9879 - val_loss: 0.3841 - val_accuracy: 0.9258\n",
            "Epoch 10/15\n",
            "536/536 - 6s - loss: 0.0407 - accuracy: 0.9882 - val_loss: 0.3757 - val_accuracy: 0.9259\n",
            "Epoch 11/15\n",
            "536/536 - 6s - loss: 0.0351 - accuracy: 0.9895 - val_loss: 0.4009 - val_accuracy: 0.9267\n",
            "Epoch 12/15\n",
            "536/536 - 6s - loss: 0.0316 - accuracy: 0.9909 - val_loss: 0.4582 - val_accuracy: 0.9197\n",
            "Epoch 13/15\n",
            "536/536 - 6s - loss: 0.0284 - accuracy: 0.9916 - val_loss: 0.4331 - val_accuracy: 0.9255\n",
            "Epoch 14/15\n",
            "536/536 - 6s - loss: 0.0260 - accuracy: 0.9923 - val_loss: 0.4525 - val_accuracy: 0.9271\n",
            "Epoch 15/15\n",
            "536/536 - 6s - loss: 0.0233 - accuracy: 0.9930 - val_loss: 0.4896 - val_accuracy: 0.9255\n",
            "CPU times: user 1min 13s, sys: 14.7 s, total: 1min 27s\n",
            "Wall time: 1min 37s\n"
          ],
          "name": "stdout"
        }
      ]
    },
    {
      "cell_type": "markdown",
      "metadata": {
        "id": "FpdoatGcFv2C"
      },
      "source": [
        "# GRU: EVALUATION PHASE - PHILOSOPHERS TEXT\n",
        "\n",
        "## GRU Model Evaluation \n"
      ],
      "id": "FpdoatGcFv2C"
    },
    {
      "cell_type": "markdown",
      "metadata": {
        "id": "okMGVmYGFabC"
      },
      "source": [
        "## GRU: Accuracy"
      ],
      "id": "okMGVmYGFabC"
    },
    {
      "cell_type": "code",
      "metadata": {
        "colab": {
          "base_uri": "https://localhost:8080/"
        },
        "id": "iJcUF6aV-y38",
        "outputId": "3c4535be-9bbf-43d7-ba8c-54f4162e0eca"
      },
      "source": [
        "\n",
        "# Determining Accuracy of the GRU model\n",
        "accr = gru_model.evaluate(X_test,y_test)\n",
        "\n",
        "print('Test set\\n  Loss: {:0.3f}\\n  Accuracy: {:0.3f}'.format(accr[0],accr[1]))\n"
      ],
      "id": "iJcUF6aV-y38",
      "execution_count": 205,
      "outputs": [
        {
          "output_type": "stream",
          "text": [
            "670/670 [==============================] - 3s 4ms/step - loss: 0.5018 - accuracy: 0.9277\n",
            "Test set\n",
            "  Loss: 0.502\n",
            "  Accuracy: 0.928\n"
          ],
          "name": "stdout"
        }
      ]
    },
    {
      "cell_type": "code",
      "metadata": {
        "colab": {
          "base_uri": "https://localhost:8080/"
        },
        "id": "2eP4PlKA_ZB_",
        "outputId": "bd3fb10e-4181-4af2-c872-a8726d345749"
      },
      "source": [
        "predictions = gru_model.predict(X_test)\n",
        "\n",
        "predictions = np.argmax(predictions,axis=-1)\n",
        "\n",
        "predictions\n",
        "\n",
        "\n",
        "y_test_sorted = np.argmax(y_test,axis=-1)\n",
        "\n",
        "y_test_sorted"
      ],
      "id": "2eP4PlKA_ZB_",
      "execution_count": 206,
      "outputs": [
        {
          "output_type": "execute_result",
          "data": {
            "text/plain": [
              "array([2, 1, 4, ..., 0, 0, 3])"
            ]
          },
          "metadata": {},
          "execution_count": 206
        }
      ]
    },
    {
      "cell_type": "markdown",
      "metadata": {
        "id": "O0wHM8aUF_0d"
      },
      "source": [
        "### GRU: Confusion Matrix"
      ],
      "id": "O0wHM8aUF_0d"
    },
    {
      "cell_type": "code",
      "metadata": {
        "colab": {
          "base_uri": "https://localhost:8080/",
          "height": 285
        },
        "id": "jQjMzGb7AFd4",
        "outputId": "b8c24348-a73b-4668-a89b-a8c49e625217"
      },
      "source": [
        "cm = confusion_matrix(predictions,y_test_sorted)\n",
        "\n",
        "\n",
        "# Initialise class names \n",
        "classes = np.unique(philo_list)\n",
        "\n",
        "# Display Confusion Matrix using Matplotlib\n",
        "\n",
        "cm = confusion_matrix(y_test_sorted, rounded_predictions)\n",
        "fig, ax = plt.subplots()\n",
        "sns.heatmap(cm, annot=True, fmt='d', ax=ax, cmap=plt.cm.Blues, \n",
        "            cbar=False)\n",
        "ax.set(xlabel=\"Pred\", ylabel=\"True\",xticklabels='',yticklabels=classes\n",
        "       ,title=\"Confusion Matrix\")\n",
        "plt.yticks(rotation=0)\n",
        "plt.show()\n"
      ],
      "id": "jQjMzGb7AFd4",
      "execution_count": 207,
      "outputs": [
        {
          "output_type": "display_data",
          "data": {
            "image/png": "[encoded data removed]",
            "text/plain": [
              "<Figure size 432x288 with 1 Axes>"
            ]
          },
          "metadata": {
            "needs_background": "light"
          }
        }
      ]
    },
    {
      "cell_type": "markdown",
      "metadata": {
        "id": "1FY2DPbiGGvO"
      },
      "source": [
        "### GRU: Classification Report"
      ],
      "id": "1FY2DPbiGGvO"
    },
    {
      "cell_type": "code",
      "metadata": {
        "colab": {
          "base_uri": "https://localhost:8080/"
        },
        "id": "AHG3REMmAgej",
        "outputId": "cc3337f8-c5bd-455e-aa4a-71fc9c8931ab"
      },
      "source": [
        "print(classification_report(predictions,y_test_sorted))"
      ],
      "id": "AHG3REMmAgej",
      "execution_count": 208,
      "outputs": [
        {
          "output_type": "stream",
          "text": [
            "              precision    recall  f1-score   support\n",
            "\n",
            "           0       0.95      0.92      0.93      4487\n",
            "           1       0.92      0.94      0.93      4211\n",
            "           2       0.91      0.94      0.93      4163\n",
            "           3       0.95      0.93      0.94      4326\n",
            "           4       0.91      0.91      0.91      4240\n",
            "\n",
            "    accuracy                           0.93     21427\n",
            "   macro avg       0.93      0.93      0.93     21427\n",
            "weighted avg       0.93      0.93      0.93     21427\n",
            "\n"
          ],
          "name": "stdout"
        }
      ]
    },
    {
      "cell_type": "markdown",
      "metadata": {
        "id": "HQcMlr4MJGcG"
      },
      "source": [
        "### Kappa Statistic"
      ],
      "id": "HQcMlr4MJGcG"
    },
    {
      "cell_type": "code",
      "metadata": {
        "colab": {
          "base_uri": "https://localhost:8080/"
        },
        "id": "ezDAUBANJL-P",
        "outputId": "22a845db-f1db-4da3-c2f6-aa6bf2747ec1"
      },
      "source": [
        "from sklearn.metrics import cohen_kappa_score\n",
        "print(cohen_kappa_score(predictions,y_test_sorted))\n"
      ],
      "id": "ezDAUBANJL-P",
      "execution_count": 209,
      "outputs": [
        {
          "output_type": "stream",
          "text": [
            "0.9096332019753358\n"
          ],
          "name": "stdout"
        }
      ]
    },
    {
      "cell_type": "markdown",
      "metadata": {
        "id": "gpbVpFZZGNMp"
      },
      "source": [
        "### GRU: Plotting Result to Compare Model Performance on Training & Validation Set"
      ],
      "id": "gpbVpFZZGNMp"
    },
    {
      "cell_type": "code",
      "metadata": {
        "colab": {
          "base_uri": "https://localhost:8080/",
          "height": 573
        },
        "id": "CShcDYdI8YWv",
        "outputId": "f5ac3199-9a02-4b4d-c64f-9834164a9954"
      },
      "source": [
        "\n",
        "# Verifying accuracy of training set versus validation set\n",
        "\n",
        "import matplotlib.pyplot as plt\n",
        "%matplotlib inline\n",
        "\n",
        "acc = history.history['accuracy']\n",
        "val_acc = history.history['val_accuracy']\n",
        "loss = history.history['loss']\n",
        "val_loss = history.history['val_loss']\n",
        "\n",
        "epochs = range(1, len(acc) + 1)\n",
        "\n",
        "plt.plot(epochs, acc, 'b',  color='red', label='Training acc')\n",
        "plt.plot(epochs, val_acc, 'b',color='green', label='Validation acc')\n",
        "plt.title('Training and validation accuracy')\n",
        "plt.xlabel('Epochs')\n",
        "plt.ylabel('Accuracy')\n",
        "plt.legend()\n",
        "\n",
        "plt.show()\n",
        "\n",
        "plt.plot(epochs, loss, 'b',color='red', label='Training loss')\n",
        "plt.plot(epochs, val_loss, 'b',color='green' ,label='Validation loss')\n",
        "plt.title('Training and validation loss')\n",
        "plt.xlabel('Epochs')\n",
        "plt.ylabel('Accuracy')\n",
        "plt.legend()\n",
        "\n",
        "plt.show()"
      ],
      "id": "CShcDYdI8YWv",
      "execution_count": 210,
      "outputs": [
        {
          "output_type": "display_data",
          "data": {
            "image/png": "[encoded data removed]",
            "text/plain": [
              "<Figure size 432x288 with 1 Axes>"
            ]
          },
          "metadata": {
            "needs_background": "light"
          }
        },
        {
          "output_type": "display_data",
          "data": {
            "image/png": "[encoded data removed]",
            "text/plain": [
              "<Figure size 432x288 with 1 Axes>"
            ]
          },
          "metadata": {
            "needs_background": "light"
          }
        }
      ]
    },
    {
      "cell_type": "markdown",
      "metadata": {
        "id": "Vnxb6D1sX7DS"
      },
      "source": [
        "# CNN MODEL\n"
      ],
      "id": "Vnxb6D1sX7DS"
    },
    {
      "cell_type": "code",
      "metadata": {
        "id": "nHQEjpGEYG4Z"
      },
      "source": [
        "from tensorflow import keras \n",
        "from keras.preprocessing import sequence,text\n",
        "from keras.preprocessing import text, sequence\n",
        "from keras.preprocessing.sequence import pad_sequences\n",
        "from keras.preprocessing.text import Tokenizer\n",
        "\n",
        "from keras.models import Sequential\n",
        "from keras.layers import Dense,Dropout,Embedding,Conv1D,GlobalMaxPooling1D,Flatten,MaxPooling1D,SpatialDropout1D\n",
        "from keras.callbacks import EarlyStopping\n"
      ],
      "id": "nHQEjpGEYG4Z",
      "execution_count": 76,
      "outputs": []
    },
    {
      "cell_type": "code",
      "metadata": {
        "id": "j482naa8ls16"
      },
      "source": [
        "\n",
        "# Initialising input variables \n",
        "\n",
        "sentences = df_n['sentence']\n",
        "\n",
        "labels = df_n['label']\n"
      ],
      "id": "j482naa8ls16",
      "execution_count": null,
      "outputs": []
    },
    {
      "cell_type": "code",
      "metadata": {
        "colab": {
          "base_uri": "https://localhost:8080/"
        },
        "id": "KPSZXBHjtvP6",
        "outputId": "11d2c58a-55e6-4dba-95af-6e18343bf76d"
      },
      "source": [
        "\n",
        "max_words = 40000\n",
        "max_len = 130\n",
        "tokenize = Tokenizer(num_words=None, filters='!\"#$%&()*+,-./:;<=>?@[\\\\]^_`{|}~\\t\\n', lower=True)\n",
        "tokenize.fit_on_texts(sentences.values)\n",
        "# Converting texts to sequences then into a word index\n",
        "sequences = tokenize.texts_to_sequences(sentences.values)\n",
        "word_index = tokenize.word_index\n",
        "print(len(word_index))\n",
        "# Pading texts to limit the word count\n",
        "X = pad_sequences(sequences,maxlen=max_len)\n",
        "y = keras.utils.to_categorical(labels.values,num_classes=5)\n"
      ],
      "id": "KPSZXBHjtvP6",
      "execution_count": null,
      "outputs": [
        {
          "name": "stdout",
          "output_type": "stream",
          "text": [
            "45761\n"
          ]
        }
      ]
    },
    {
      "cell_type": "code",
      "metadata": {
        "id": "2zdWj2QjvIaQ"
      },
      "source": [
        "\n",
        "# splitting training and test set\n",
        "from sklearn.model_selection import train_test_split\n",
        "\n",
        "X_train, X_test, y_train, y_test = train_test_split(X , y, test_size=0.25, random_state=42)\n"
      ],
      "id": "2zdWj2QjvIaQ",
      "execution_count": null,
      "outputs": []
    },
    {
      "cell_type": "code",
      "metadata": {
        "id": "common-essex"
      },
      "source": [
        "# Defining the number of epochs, embedding dimensions, batch size and vocab length required in the model\n",
        "epochs = 50\n",
        "emb_dim = 130\n",
        "batch_size = 256\n",
        "vocab = len(word_index) + 1\n"
      ],
      "id": "common-essex",
      "execution_count": 81,
      "outputs": []
    },
    {
      "cell_type": "code",
      "metadata": {
        "colab": {
          "base_uri": "https://localhost:8080/"
        },
        "id": "RRQVKz8uvW3T",
        "outputId": "67b1486e-cf12-479f-fcb7-65ac6b5e0589"
      },
      "source": [
        "# Checking that training and test set are the same input dims\n",
        "print((X_train.shape, y_train.shape, X_test.shape, y_test.shape))\n"
      ],
      "id": "RRQVKz8uvW3T",
      "execution_count": null,
      "outputs": [
        {
          "output_type": "stream",
          "text": [
            "((80350, 130), (80350, 5), (26784, 130), (26784, 5))\n"
          ],
          "name": "stdout"
        }
      ]
    },
    {
      "cell_type": "markdown",
      "metadata": {
        "id": "5nqjQAqUyZ4X"
      },
      "source": [
        "## CNN MODEL ARCHITECTURE & TRAINING"
      ],
      "id": "5nqjQAqUyZ4X"
    },
    {
      "cell_type": "code",
      "metadata": {
        "colab": {
          "base_uri": "https://localhost:8080/"
        },
        "id": "LZnFcdqsjSrW",
        "outputId": "8e70b22f-b8b3-484b-dc81-665a10f25c40"
      },
      "source": [
        "model_cnn = Sequential()\n",
        "model_cnn.add((Embedding(vocab,emb_dim)))\n",
        "# model_cnn.add(Embedding(vocab_len, embedding_dimensions, trainable = False, weights=[embedding_matrix]))\n",
        "model_cnn.add(Dropout(0.2))\n",
        "\n",
        "model_cnn.add(Conv1D(64,kernel_size=3,padding='same',activation='relu',strides=1))\n",
        "model_cnn.add(GlobalMaxPooling1D())\n",
        "\n",
        "model_cnn.add(Dense(128,activation='relu'))\n",
        "model_cnn.add(Dropout(0.2))\n",
        "\n",
        "model_cnn.add(Dense(5,activation='softmax'))\n",
        "\n",
        "\n",
        "model_cnn.compile(loss='categorical_crossentropy',optimizer=\"adam\",metrics=['accuracy']) # RMSprop\n",
        "\n",
        "model_cnn.summary()"
      ],
      "id": "LZnFcdqsjSrW",
      "execution_count": 82,
      "outputs": [
        {
          "output_type": "stream",
          "text": [
            "Model: \"sequential_14\"\n",
            "_________________________________________________________________\n",
            "Layer (type)                 Output Shape              Param #   \n",
            "=================================================================\n",
            "embedding_10 (Embedding)     (None, None, 130)         4865510   \n",
            "_________________________________________________________________\n",
            "dropout_12 (Dropout)         (None, None, 130)         0         \n",
            "_________________________________________________________________\n",
            "conv1d_2 (Conv1D)            (None, None, 64)          25024     \n",
            "_________________________________________________________________\n",
            "global_max_pooling1d_1 (Glob (None, 64)                0         \n",
            "_________________________________________________________________\n",
            "dense_21 (Dense)             (None, 128)               8320      \n",
            "_________________________________________________________________\n",
            "dropout_13 (Dropout)         (None, 128)               0         \n",
            "_________________________________________________________________\n",
            "dense_22 (Dense)             (None, 5)                 645       \n",
            "=================================================================\n",
            "Total params: 4,899,499\n",
            "Trainable params: 4,899,499\n",
            "Non-trainable params: 0\n",
            "_________________________________________________________________\n"
          ],
          "name": "stdout"
        }
      ]
    },
    {
      "cell_type": "code",
      "metadata": {
        "colab": {
          "base_uri": "https://localhost:8080/"
        },
        "id": "5pk3EFog1sXc",
        "outputId": "520fcd2a-9264-4eb9-d404-44ff0c5bcd8a"
      },
      "source": [
        "%%time\n",
        "history = model_cnn.fit(X_train, y_train,validation_split=0.2,epochs=15, batch_size=128,verbose=2,shuffle=True)\n",
        "\n"
      ],
      "id": "5pk3EFog1sXc",
      "execution_count": 110,
      "outputs": [
        {
          "output_type": "stream",
          "text": [
            "Epoch 1/15\n",
            "536/536 - 3s - loss: 0.0029 - accuracy: 0.9992 - val_loss: 1.0388 - val_accuracy: 0.9271\n",
            "Epoch 2/15\n",
            "536/536 - 3s - loss: 0.0031 - accuracy: 0.9990 - val_loss: 0.9980 - val_accuracy: 0.9253\n",
            "Epoch 3/15\n",
            "536/536 - 3s - loss: 0.0031 - accuracy: 0.9991 - val_loss: 0.9794 - val_accuracy: 0.9278\n",
            "Epoch 4/15\n",
            "536/536 - 3s - loss: 0.0014 - accuracy: 0.9995 - val_loss: 1.0245 - val_accuracy: 0.9289\n",
            "Epoch 5/15\n",
            "536/536 - 3s - loss: 0.0019 - accuracy: 0.9994 - val_loss: 1.0572 - val_accuracy: 0.9288\n",
            "Epoch 6/15\n",
            "536/536 - 3s - loss: 0.0032 - accuracy: 0.9992 - val_loss: 1.0415 - val_accuracy: 0.9280\n",
            "Epoch 7/15\n",
            "536/536 - 3s - loss: 0.0018 - accuracy: 0.9995 - val_loss: 1.0524 - val_accuracy: 0.9281\n",
            "Epoch 8/15\n",
            "536/536 - 3s - loss: 0.0014 - accuracy: 0.9996 - val_loss: 1.0571 - val_accuracy: 0.9291\n",
            "Epoch 9/15\n",
            "536/536 - 3s - loss: 0.0012 - accuracy: 0.9996 - val_loss: 1.1363 - val_accuracy: 0.9232\n",
            "Epoch 10/15\n",
            "536/536 - 3s - loss: 0.0018 - accuracy: 0.9994 - val_loss: 1.1927 - val_accuracy: 0.9282\n",
            "Epoch 11/15\n",
            "536/536 - 3s - loss: 0.0027 - accuracy: 0.9994 - val_loss: 1.2395 - val_accuracy: 0.9229\n",
            "Epoch 12/15\n",
            "536/536 - 3s - loss: 0.0028 - accuracy: 0.9992 - val_loss: 1.1408 - val_accuracy: 0.9261\n",
            "Epoch 13/15\n",
            "536/536 - 3s - loss: 0.0019 - accuracy: 0.9995 - val_loss: 1.1758 - val_accuracy: 0.9240\n",
            "Epoch 14/15\n",
            "536/536 - 3s - loss: 0.0026 - accuracy: 0.9993 - val_loss: 1.0851 - val_accuracy: 0.9271\n",
            "Epoch 15/15\n",
            "536/536 - 3s - loss: 0.0024 - accuracy: 0.9992 - val_loss: 1.1114 - val_accuracy: 0.9251\n",
            "CPU times: user 44 s, sys: 7.59 s, total: 51.6 s\n",
            "Wall time: 40.7 s\n"
          ],
          "name": "stdout"
        }
      ]
    },
    {
      "cell_type": "markdown",
      "metadata": {
        "id": "sZUC9UjGHItB"
      },
      "source": [
        "# CNN: EVALUATION PHASE - PHILOSOPHERS TEXT\n",
        "\n",
        "## CNN Model Evaluation \n"
      ],
      "id": "sZUC9UjGHItB"
    },
    {
      "cell_type": "markdown",
      "metadata": {
        "id": "YmRaKVUZyipG"
      },
      "source": [
        "### CNN: Accuracy"
      ],
      "id": "YmRaKVUZyipG"
    },
    {
      "cell_type": "code",
      "metadata": {
        "colab": {
          "base_uri": "https://localhost:8080/"
        },
        "id": "yrpfvQFT2mqY",
        "outputId": "666551ec-2811-4ff0-94cc-91afdc4a0ea9"
      },
      "source": [
        "\n",
        "accr = model_cnn.evaluate(X_test,y_test)\n",
        "print('Test set\\n  Loss: {:0.3f}\\n  Accuracy: {:0.3f}'.format(accr[0],accr[1]))\n"
      ],
      "id": "yrpfvQFT2mqY",
      "execution_count": 84,
      "outputs": [
        {
          "output_type": "stream",
          "text": [
            "670/670 [==============================] - 1s 2ms/step - loss: 0.4431 - accuracy: 0.9334\n",
            "Test set\n",
            "  Loss: 0.443\n",
            "  Accuracy: 0.933\n"
          ],
          "name": "stdout"
        }
      ]
    },
    {
      "cell_type": "markdown",
      "metadata": {
        "id": "6xDawGdsyy_i"
      },
      "source": [
        "### CNN: Predictions On Test Set"
      ],
      "id": "6xDawGdsyy_i"
    },
    {
      "cell_type": "code",
      "metadata": {
        "colab": {
          "base_uri": "https://localhost:8080/"
        },
        "id": "BFCgJ8aVwD4U",
        "outputId": "41bf797d-4552-4c1c-a248-211c984f8e1c"
      },
      "source": [
        "\n",
        "# Bi-LSTM model predictions on test set \n",
        "\n",
        "predictions = model_cnn.predict(x= X_test, batch_size = 10, verbose = 2)\n"
      ],
      "id": "BFCgJ8aVwD4U",
      "execution_count": 85,
      "outputs": [
        {
          "output_type": "stream",
          "text": [
            "2143/2143 - 2s\n"
          ],
          "name": "stdout"
        }
      ]
    },
    {
      "cell_type": "code",
      "metadata": {
        "id": "wWzEqmU2x7bd",
        "colab": {
          "base_uri": "https://localhost:8080/"
        },
        "outputId": "31ee2c5f-536b-4c5b-cc5a-f0b2c4b983ce"
      },
      "source": [
        "# Derive rounded predictions that will shift probability of class into actual prediction\n",
        "\n",
        "rounded_predictions = np.argmax(predictions,axis=-1)\n",
        "\n",
        "# Test to verify prediciton outputt after rounding\n",
        "\n",
        "rounded_predictions"
      ],
      "id": "wWzEqmU2x7bd",
      "execution_count": 86,
      "outputs": [
        {
          "output_type": "execute_result",
          "data": {
            "text/plain": [
              "array([2, 1, 4, ..., 0, 0, 3])"
            ]
          },
          "metadata": {},
          "execution_count": 86
        }
      ]
    },
    {
      "cell_type": "markdown",
      "metadata": {
        "id": "Xw3lv3IEy8RI"
      },
      "source": [
        "## CNN: Classification Report"
      ],
      "id": "Xw3lv3IEy8RI"
    },
    {
      "cell_type": "code",
      "metadata": {
        "id": "FmXj1n6LxyXH",
        "colab": {
          "base_uri": "https://localhost:8080/"
        },
        "outputId": "bedc8454-b0b6-465d-c04f-76c36ee4e535"
      },
      "source": [
        "\n",
        "from sklearn.metrics import confusion_matrix, classification_report\n",
        "# Turning the rounded predictions into a dataframe \n",
        "labels_pred = pd.DataFrame(rounded_predictions)\n",
        "labels_pred.shape\n",
        "y_test_sorted = np.argmax(y_test,axis=-1)\n",
        "                          \n",
        "print(classification_report(y_test_sorted,rounded_predictions))\n"
      ],
      "id": "FmXj1n6LxyXH",
      "execution_count": 102,
      "outputs": [
        {
          "output_type": "stream",
          "text": [
            "              precision    recall  f1-score   support\n",
            "\n",
            "           0       0.95      0.94      0.95      4331\n",
            "           1       0.94      0.92      0.93      4321\n",
            "           2       0.91      0.95      0.93      4294\n",
            "           3       0.95      0.95      0.95      4261\n",
            "           4       0.91      0.91      0.91      4220\n",
            "\n",
            "    accuracy                           0.93     21427\n",
            "   macro avg       0.93      0.93      0.93     21427\n",
            "weighted avg       0.93      0.93      0.93     21427\n",
            "\n"
          ],
          "name": "stdout"
        }
      ]
    },
    {
      "cell_type": "markdown",
      "metadata": {
        "id": "TbZhCHx1zWTI"
      },
      "source": [
        "### CNN: Confusion Matrix"
      ],
      "id": "TbZhCHx1zWTI"
    },
    {
      "cell_type": "code",
      "metadata": {
        "id": "6FpMGSFazZ8R",
        "colab": {
          "base_uri": "https://localhost:8080/",
          "height": 285
        },
        "outputId": "3b62b533-adbf-4f9d-83c2-27fd366b7e7e"
      },
      "source": [
        "\n",
        "\n",
        "# Generate Confusion Matrix \n",
        "cm = confusion_matrix(y_true=y_test_sorted,y_pred=rounded_predictions)\n",
        "\n",
        "\n",
        "# Initialise class names \n",
        "classes = np.unique(philo_list)\n",
        "\n",
        "# Display Confusion Matrix using Matplotlib\n",
        "\n",
        "cm = confusion_matrix(y_test_sorted, rounded_predictions)\n",
        "fig, ax = plt.subplots()\n",
        "sns.heatmap(cm, annot=True, fmt='d', ax=ax, cmap=plt.cm.Blues, \n",
        "            cbar=False)\n",
        "ax.set(xlabel=\"Pred\", ylabel=\"True\",xticklabels='',yticklabels=classes\n",
        "       ,title=\"Confusion Matrix\")\n",
        "plt.yticks(rotation=0)\n",
        "plt.show()"
      ],
      "id": "6FpMGSFazZ8R",
      "execution_count": 88,
      "outputs": [
        {
          "output_type": "display_data",
          "data": {
            "image/png": "[encoded data removed]",
            "text/plain": [
              "<Figure size 432x288 with 1 Axes>"
            ]
          },
          "metadata": {
            "needs_background": "light"
          }
        }
      ]
    },
    {
      "cell_type": "markdown",
      "metadata": {
        "id": "lba9QyU62Kb8"
      },
      "source": [
        "### CNN: Kappa Score"
      ],
      "id": "lba9QyU62Kb8"
    },
    {
      "cell_type": "code",
      "metadata": {
        "id": "-F2TlLwryDhz",
        "colab": {
          "base_uri": "https://localhost:8080/"
        },
        "outputId": "bd3be010-e1eb-4757-ce11-34c04209faa0"
      },
      "source": [
        "from sklearn.metrics import cohen_kappa_score\n",
        "\n",
        "\n",
        "print(cohen_kappa_score(y_test_sorted,rounded_predictions))"
      ],
      "id": "-F2TlLwryDhz",
      "execution_count": 89,
      "outputs": [
        {
          "output_type": "stream",
          "text": [
            "0.9166932108550228\n"
          ],
          "name": "stdout"
        }
      ]
    },
    {
      "cell_type": "markdown",
      "metadata": {
        "id": "oTLf_RQn2RHU"
      },
      "source": [
        "### CNN: Plotting Training & Validation Accuracy and Loss"
      ],
      "id": "oTLf_RQn2RHU"
    },
    {
      "cell_type": "code",
      "metadata": {
        "colab": {
          "base_uri": "https://localhost:8080/",
          "height": 573
        },
        "id": "zgF0vMc61sbl",
        "outputId": "8db2b734-e953-4a0d-a18f-fa1e0e55242a"
      },
      "source": [
        "\n",
        "import matplotlib.pyplot as plt\n",
        "%matplotlib inline\n",
        "\n",
        "acc = history.history['accuracy']\n",
        "val_acc = history.history['val_accuracy']\n",
        "loss = history.history['loss']\n",
        "val_loss = history.history['val_loss']\n",
        "\n",
        "epochs = range(1, len(acc) + 1)\n",
        "\n",
        "plt.plot(epochs, acc, 'b',  color='red', label='Training acc')\n",
        "plt.plot(epochs, val_acc, 'b',color='green', label='Validation acc')\n",
        "plt.title('Training and validation accuracy')\n",
        "plt.xlabel('Epochs')\n",
        "plt.ylabel('Accuracy')\n",
        "plt.legend()\n",
        "\n",
        "plt.show()\n",
        "\n",
        "plt.plot(epochs, loss, 'b',color='red', label='Training loss')\n",
        "plt.plot(epochs, val_loss, 'b',color='green' ,label='Validation loss')\n",
        "plt.title('Training and validation loss')\n",
        "plt.xlabel('Epochs')\n",
        "plt.ylabel('Accuracy')\n",
        "plt.legend()\n",
        "\n",
        "plt.show()"
      ],
      "id": "zgF0vMc61sbl",
      "execution_count": 103,
      "outputs": [
        {
          "output_type": "display_data",
          "data": {
            "image/png": "[encoded data removed]",
            "text/plain": [
              "<Figure size 432x288 with 1 Axes>"
            ]
          },
          "metadata": {
            "needs_background": "light"
          }
        },
        {
          "output_type": "display_data",
          "data": {
            "image/png": "[encoded data removed]",
            "text/plain": [
              "<Figure size 432x288 with 1 Axes>"
            ]
          },
          "metadata": {
            "needs_background": "light"
          }
        }
      ]
    },
    {
      "cell_type": "markdown",
      "metadata": {
        "id": "nmHAHYEN195L"
      },
      "source": [
        "# CNN: DEPLOYMENT PHASE - PHILOSOPHERS TEXT\n",
        "## Saving CNN model"
      ],
      "id": "nmHAHYEN195L"
    },
    {
      "cell_type": "code",
      "metadata": {
        "id": "S6Daxh8ZzaDH"
      },
      "source": [
        "# model.save('CNN_noembed.h5')"
      ],
      "id": "S6Daxh8ZzaDH",
      "execution_count": 91,
      "outputs": []
    },
    {
      "cell_type": "markdown",
      "metadata": {
        "id": "mP_lJ6RqChQR"
      },
      "source": [
        "# Word Embedding"
      ],
      "id": "mP_lJ6RqChQR"
    },
    {
      "cell_type": "markdown",
      "metadata": {
        "id": "WCiGRdjCCxKR"
      },
      "source": [
        "## Glove Embeddings"
      ],
      "id": "WCiGRdjCCxKR"
    },
    {
      "cell_type": "code",
      "metadata": {
        "id": "zRbzpZegb_n3"
      },
      "source": [
        "sentences = df_stratified.sentence\n",
        "\n",
        "labels = df_stratified.label\n",
        "\n",
        "# Set max words for entire vocab and max len for padded sequences \n",
        "max_words = 40000\n",
        "max_len = 130\n",
        "\n",
        "# Text pre-processing libraries \n",
        "\n",
        "from tensorflow import keras\n",
        "from keras.preprocessing.text import Tokenizer\n",
        "from keras.preprocessing import text, sequence\n",
        "from keras.preprocessing.sequence import pad_sequences\n",
        "from sklearn.model_selection import train_test_split\n",
        "\n",
        "# y to categorical\n",
        "\n",
        "y = keras.utils.to_categorical(labels)\n",
        "\n",
        "# Instantiate tokenizer \n",
        "tokenizer = Tokenizer(num_words=max_words, filters='!\"#$%&()*+,-./:;<=>?@[\\]^_`{|}~', lower=True)\n",
        "\n",
        "# # create the vocabulary by fitting on x_train text\n",
        "tokenizer.fit_on_texts(sentences)\n",
        "# # generate the sequence of tokens\n",
        "sent_seq = tokenizer.texts_to_sequences(sentences)\n",
        "# xtest_seq = tokenizer.texts_to_sequences(X_test)\n",
        "\n",
        "# # pad the sequences\n",
        "sent_pad = sequence.pad_sequences(sent_seq, maxlen=max_len)\n",
        "# xtest_pad = sequence.pad_sequences(xtest_seq, maxlen=max_len)\n",
        "word_index = tokenizer.word_index\n",
        "\n",
        "\n",
        "# Split data into training and test set. \n",
        "X_train, X_test, y_train, y_test = train_test_split(sent_pad, y, test_size=0.20, random_state=42)\n",
        "\n"
      ],
      "id": "zRbzpZegb_n3",
      "execution_count": 60,
      "outputs": []
    },
    {
      "cell_type": "code",
      "metadata": {
        "colab": {
          "base_uri": "https://localhost:8080/"
        },
        "id": "x-P2ZQWdfwnq",
        "outputId": "2935c94b-97ea-4f7d-b420-0ed442873a9a"
      },
      "source": [
        "\n",
        "# Print an example of a training sentence \n",
        "print('text example:', sentences[1])\n",
        "# Print an example of a the training sentence as a sequence\n",
        "print('text sequence:', sent_seq[1])\n",
        "# Print an example of a padded sequence \n",
        "print('text padded:', sent_pad[1])\n"
      ],
      "id": "x-P2ZQWdfwnq",
      "execution_count": 61,
      "outputs": [
        {
          "output_type": "stream",
          "text": [
            "text example: 1    that goes merely into our faculty of knowing t...\n",
            "1    that goes merely into our faculty of knowing t...\n",
            "1    that goes merely into our faculty of knowing t...\n",
            "Name: sentence, dtype: object\n",
            "text sequence: [1, 4198, 2, 1, 185, 344, 5, 59]\n",
            "text padded: [   0    0    0    0    0    0    0    0    0    0    0    0    0    0\n",
            "    0    0    0    0    0    0    0    0    0    0    0    0    0    0\n",
            "    0    0    0    0    0    0    0    0    0    0    0    0    0    0\n",
            "    0    0    0    0    0    0    0    0    0    0    0    0    0    0\n",
            "    0    0    0    0    0    0    0    0    0    0    0    0    0    0\n",
            "    0    0    0    0    0    0    0    0    0    0    0    0    0    0\n",
            "    0    0    0    0    0    0    0    0    0    0    0    0    0    0\n",
            "    0    0    0    0    0    0    0    0    0    0    0    0    0    0\n",
            "    0    0    0    0    0    0    0    0    0    0    1 4198    2    1\n",
            "  185  344    5   59]\n"
          ],
          "name": "stdout"
        }
      ]
    },
    {
      "cell_type": "code",
      "metadata": {
        "colab": {
          "base_uri": "https://localhost:8080/"
        },
        "id": "TCZgMe5iCw4F",
        "outputId": "27d257ce-97b0-4e92-84e2-a431ca8b6b28"
      },
      "source": [
        "%%time \n",
        "import numpy as np\n",
        "embedding_vec = {}\n",
        "\n",
        "with open('/content/drive/MyDrive/data/glove.6B.100d.txt','r',encoding='utf-8') as file:\n",
        "  for row in file:\n",
        "    values = row.split(\" \")\n",
        "    word = values[0]\n",
        "    weights = np.asarray([float(val) for val in values[1:]])\n",
        "    embedding_vec[word] = weights\n",
        "print(f\"Size of vocabulary in GloVe: {len(embedding_vec)}\")  "
      ],
      "id": "TCZgMe5iCw4F",
      "execution_count": 62,
      "outputs": [
        {
          "output_type": "stream",
          "text": [
            "Size of vocabulary in GloVe: 400000\n",
            "CPU times: user 11.2 s, sys: 304 ms, total: 11.5 s\n",
            "Wall time: 11.4 s\n"
          ],
          "name": "stdout"
        }
      ]
    },
    {
      "cell_type": "code",
      "metadata": {
        "colab": {
          "base_uri": "https://localhost:8080/"
        },
        "id": "NicbFoJoRw-A",
        "outputId": "e5435a34-9d8e-4a07-b32f-3e42f8db4b94"
      },
      "source": [
        "embedding_vec['fuck'], embedding_vec['you']"
      ],
      "id": "NicbFoJoRw-A",
      "execution_count": 31,
      "outputs": [
        {
          "output_type": "execute_result",
          "data": {
            "text/plain": [
              "(array([ 0.098204 , -0.31437  ,  0.8189   , -1.1469   , -0.16131  ,\n",
              "         0.14506  , -0.8431   ,  0.060309 ,  0.61314  ,  0.018681 ,\n",
              "         0.74367  , -0.0067513,  0.63213  ,  0.52501  ,  0.03999  ,\n",
              "         0.60981  , -0.11947  ,  0.26881  , -0.77633  ,  0.27557  ,\n",
              "         0.9336   , -0.20553  , -0.45774  , -0.4199   , -0.41552  ,\n",
              "         0.76869  , -0.32835  ,  0.24543  ,  0.59034  , -0.34562  ,\n",
              "        -0.15989  , -0.33605  ,  0.17946  ,  0.86062  , -0.27782  ,\n",
              "         0.18529  , -0.61097  ,  0.2871   ,  0.51686  , -0.83121  ,\n",
              "         0.27443  ,  0.3185   , -0.13775  , -0.34251  , -1.0427   ,\n",
              "         0.31568  , -0.24437  , -0.38877  , -0.27705  ,  0.32165  ,\n",
              "        -0.5656   ,  1.0263   ,  0.11803  , -0.19347  , -1.3056   ,\n",
              "        -0.36369  ,  0.47473  ,  0.55457  ,  0.037796 , -0.11567  ,\n",
              "         0.82448  ,  0.66429  , -0.91183  , -0.55386  ,  0.54356  ,\n",
              "         0.7421   ,  0.39296  , -0.67676  ,  0.14345  , -0.25598  ,\n",
              "         0.046569 ,  0.37904  ,  0.56047  ,  0.26911  , -0.35421  ,\n",
              "        -0.017731 ,  0.19516  , -0.14983  ,  0.2377   , -0.66353  ,\n",
              "         0.077785 , -0.80339  , -0.28933  ,  0.3591   , -0.66565  ,\n",
              "         0.062882 ,  0.061987 , -0.34917  ,  0.22971  ,  0.5263   ,\n",
              "        -0.53899  , -0.16299  , -0.27716  ,  0.28642  ,  0.6735   ,\n",
              "        -1.2176   , -0.041802 ,  0.57236  , -0.63528  ,  0.5646   ]),\n",
              " array([-0.49886  ,  0.76602  ,  0.89751  , -0.78547  , -0.6855   ,\n",
              "         0.62609  , -0.39655  ,  0.34913  ,  0.33334  , -0.45233  ,\n",
              "         0.61223  ,  0.075948 ,  0.22531  ,  0.16365  ,  0.28095  ,\n",
              "        -0.24758  ,  0.0099009,  0.71108  , -0.75859  ,  0.87423  ,\n",
              "         0.0031041,  0.35796  , -0.35233  , -0.665    ,  0.38447  ,\n",
              "         0.62677  , -0.51543  , -0.96653  ,  0.61517  , -0.75455  ,\n",
              "        -0.012359 ,  1.1188   ,  0.35719  ,  0.0071769,  0.20255  ,\n",
              "         0.5011   , -0.44046  ,  0.10661  ,  0.79391  , -0.80948  ,\n",
              "        -0.015601 , -0.22888  , -0.34198  , -1.0065   , -0.8763   ,\n",
              "         0.15165  , -0.085339 , -0.6465   , -0.16733  , -1.4499   ,\n",
              "        -0.0065905,  0.0048113, -0.012445 ,  1.0474   , -0.19381  ,\n",
              "        -2.5991   ,  0.40528  ,  0.43803  ,  1.9332   ,  0.45814  ,\n",
              "        -0.048819 ,  1.4308   , -0.78639  , -0.20792  ,  1.09     ,\n",
              "         0.24816  ,  1.1487   ,  0.51481  , -0.21832  , -0.4572   ,\n",
              "         0.13888  , -0.26369  ,  0.13647  , -0.60539  ,  0.099586 ,\n",
              "         0.23344  ,  0.13647  , -0.1846   , -0.047734 , -0.18392  ,\n",
              "         0.52719  , -0.2885   , -1.0742   , -0.0467   , -1.8302   ,\n",
              "        -0.21197  ,  0.0298   , -0.30964  , -0.43386  , -0.36463  ,\n",
              "        -0.32738  , -0.0093427,  0.47205  , -0.51691  , -0.59176  ,\n",
              "        -0.32343  ,  0.20052  , -0.41179  ,  0.40539  ,  0.78504  ]))"
            ]
          },
          "metadata": {},
          "execution_count": 31
        }
      ]
    },
    {
      "cell_type": "code",
      "metadata": {
        "id": "1NTVgxnKX8xr"
      },
      "source": [
        "import string\n",
        "embedding_dimensions = 100\n",
        "\n",
        "if max_words is None:\n",
        "  vocab_len = max_words\n",
        "else:\n",
        "  vocab_len = len(word_index) + 1\n",
        "embedding_matrix = np.zeros((vocab_len,embedding_dimensions))\n",
        "oov_count = 0\n",
        "oov_words = []\n",
        "for word, idx in word_index.items():\n",
        "  if idx < vocab_len:\n",
        "    embedding_vector = embedding_vec.get(word)\n",
        "    if embedding_vector is not None:\n",
        "      embedding_matrix[idx] = embedding_vector\n",
        "    else:\n",
        "      oov_count += 1\n",
        "      oov_words.append(word)\n"
      ],
      "id": "1NTVgxnKX8xr",
      "execution_count": 63,
      "outputs": []
    },
    {
      "cell_type": "code",
      "metadata": {
        "colab": {
          "base_uri": "https://localhost:8080/"
        },
        "id": "BATvPPDLkbEN",
        "outputId": "37ea7894-7b92-4a62-a20a-9e4a667c80bf"
      },
      "source": [
        "print(f'Some out of vocabulary words: {oov_words[0:10]}')\n",
        "print(f'{oov_count} out of {vocab_len} words were OOV.')"
      ],
      "id": "BATvPPDLkbEN",
      "execution_count": 64,
      "outputs": [
        {
          "output_type": "stream",
          "text": [
            "Some out of vocabulary words: ['synthetical', 'purposiveness', 'supersensible', 'cebes', 'simmias', 'sanguineous', 'cleinias', 'cogitated', 'cognize', 'ftus']\n",
            "8207 out of 37427 words were OOV.\n"
          ],
          "name": "stdout"
        }
      ]
    },
    {
      "cell_type": "code",
      "metadata": {
        "colab": {
          "base_uri": "https://localhost:8080/"
        },
        "id": "yJ7DILfKs2cq",
        "outputId": "40509e65-a328-4532-e762-c2c2480a62e8"
      },
      "source": [
        "print(X_train.shape, y_train.shape, X_test.shape, y_test.shape)"
      ],
      "id": "yJ7DILfKs2cq",
      "execution_count": 65,
      "outputs": [
        {
          "output_type": "stream",
          "text": [
            "(85707, 130) (85707, 5) (21427, 130) (21427, 5)\n"
          ],
          "name": "stdout"
        }
      ]
    },
    {
      "cell_type": "code",
      "metadata": {
        "colab": {
          "base_uri": "https://localhost:8080/"
        },
        "id": "YjQp0pLaIpAi",
        "outputId": "fc455720-dbb5-45d9-e153-45161897642b"
      },
      "source": [
        "embedding_matrix"
      ],
      "id": "YjQp0pLaIpAi",
      "execution_count": 35,
      "outputs": [
        {
          "output_type": "execute_result",
          "data": {
            "text/plain": [
              "array([[ 0.      ,  0.      ,  0.      , ...,  0.      ,  0.      ,\n",
              "         0.      ],\n",
              "       [-0.038194, -0.24487 ,  0.72812 , ..., -0.1459  ,  0.8278  ,\n",
              "         0.27062 ],\n",
              "       [-0.1529  , -0.24279 ,  0.89837 , ..., -0.591   ,  1.0039  ,\n",
              "         0.20664 ],\n",
              "       ...,\n",
              "       [ 0.      ,  0.      ,  0.      , ...,  0.      ,  0.      ,\n",
              "         0.      ],\n",
              "       [ 0.48766 ,  0.10357 , -0.011503, ..., -0.59372 , -0.079446,\n",
              "         0.66498 ],\n",
              "       [ 0.      ,  0.      ,  0.      , ...,  0.      ,  0.      ,\n",
              "         0.      ]])"
            ]
          },
          "metadata": {},
          "execution_count": 35
        }
      ]
    },
    {
      "cell_type": "code",
      "metadata": {
        "id": "PnwPk9kxlQf-"
      },
      "source": [
        "from keras.models import Sequential\n",
        "from keras.layers import Dense,Dropout,Embedding,LSTM,Conv1D,Flatten,MaxPooling1D,GRU\n",
        "from keras.callbacks import EarlyStopping\n"
      ],
      "id": "PnwPk9kxlQf-",
      "execution_count": 36,
      "outputs": []
    },
    {
      "cell_type": "code",
      "metadata": {
        "colab": {
          "base_uri": "https://localhost:8080/"
        },
        "id": "3xv8x2yEdIpj",
        "outputId": "e347903d-2dd9-4b34-a9d9-ab5de04645c3"
      },
      "source": [
        "gru_model = Sequential()\n",
        "\n",
        "gru_model.add(Embedding(vocab_len, embedding_dimensions, trainable = False, weights=[embedding_matrix]))\n",
        "gru_model.add(GRU(128, return_sequences=False))\n",
        "gru_model.add(Dropout(0.5))\n",
        "gru_model.add(Dense(5, activation = 'softmax'))\n",
        "gru_model.compile(loss='categorical_crossentropy', optimizer='adam', metrics=['accuracy'])\n",
        "print(gru_model.summary())\n",
        "\n"
      ],
      "id": "3xv8x2yEdIpj",
      "execution_count": 66,
      "outputs": [
        {
          "output_type": "stream",
          "text": [
            "Model: \"sequential_10\"\n",
            "_________________________________________________________________\n",
            "Layer (type)                 Output Shape              Param #   \n",
            "=================================================================\n",
            "embedding_7 (Embedding)      (None, None, 100)         3742700   \n",
            "_________________________________________________________________\n",
            "gru_1 (GRU)                  (None, 128)               88320     \n",
            "_________________________________________________________________\n",
            "dropout_8 (Dropout)          (None, 128)               0         \n",
            "_________________________________________________________________\n",
            "dense_18 (Dense)             (None, 5)                 645       \n",
            "=================================================================\n",
            "Total params: 3,831,665\n",
            "Trainable params: 88,965\n",
            "Non-trainable params: 3,742,700\n",
            "_________________________________________________________________\n",
            "None\n"
          ],
          "name": "stdout"
        }
      ]
    },
    {
      "cell_type": "code",
      "metadata": {
        "colab": {
          "base_uri": "https://localhost:8080/"
        },
        "id": "ys8h_KTGdrDr",
        "outputId": "1f5fcdc5-f120-4666-f013-8b6811cbadb8"
      },
      "source": [
        "%%time\n",
        "\n",
        "epoch = 15\n",
        "history = gru_model.fit(X_train,y_train,epochs=epoch, verbose=2,validation_split=0.2,batch_size = 128,shuffle=True)\n",
        "\n",
        "\n",
        "# history = gru_model.fit(X_train, y_train, epochs=epoch, batch_size=128,validation_split=0.2\n",
        "#                     ,callbacks=[EarlyStopping(monitor='val_loss',patience=7, min_delta=0.0001,shuffle=True)])\n",
        "\n"
      ],
      "id": "ys8h_KTGdrDr",
      "execution_count": 69,
      "outputs": [
        {
          "output_type": "stream",
          "text": [
            "Epoch 1/15\n",
            "536/536 - 5s - loss: 0.1811 - accuracy: 0.9385 - val_loss: 0.3735 - val_accuracy: 0.8896\n",
            "Epoch 2/15\n",
            "536/536 - 5s - loss: 0.1651 - accuracy: 0.9457 - val_loss: 0.4112 - val_accuracy: 0.8868\n",
            "Epoch 3/15\n",
            "536/536 - 5s - loss: 0.1516 - accuracy: 0.9488 - val_loss: 0.3713 - val_accuracy: 0.8970\n",
            "Epoch 4/15\n",
            "536/536 - 5s - loss: 0.1416 - accuracy: 0.9527 - val_loss: 0.4152 - val_accuracy: 0.8893\n",
            "Epoch 5/15\n",
            "536/536 - 5s - loss: 0.1376 - accuracy: 0.9544 - val_loss: 0.3912 - val_accuracy: 0.8990\n",
            "Epoch 6/15\n",
            "536/536 - 5s - loss: 0.1250 - accuracy: 0.9585 - val_loss: 0.3921 - val_accuracy: 0.9019\n",
            "Epoch 7/15\n",
            "536/536 - 5s - loss: 0.1145 - accuracy: 0.9621 - val_loss: 0.4198 - val_accuracy: 0.9011\n",
            "Epoch 8/15\n",
            "536/536 - 5s - loss: 0.1111 - accuracy: 0.9637 - val_loss: 0.4432 - val_accuracy: 0.8938\n",
            "Epoch 9/15\n",
            "536/536 - 5s - loss: 0.1095 - accuracy: 0.9636 - val_loss: 0.4528 - val_accuracy: 0.8974\n",
            "Epoch 10/15\n",
            "536/536 - 5s - loss: 0.1010 - accuracy: 0.9664 - val_loss: 0.4493 - val_accuracy: 0.9007\n",
            "Epoch 11/15\n",
            "536/536 - 5s - loss: 0.0897 - accuracy: 0.9708 - val_loss: 0.4542 - val_accuracy: 0.8980\n",
            "Epoch 12/15\n",
            "536/536 - 5s - loss: 0.0925 - accuracy: 0.9697 - val_loss: 0.4621 - val_accuracy: 0.8987\n",
            "Epoch 13/15\n",
            "536/536 - 5s - loss: 0.0888 - accuracy: 0.9705 - val_loss: 0.4440 - val_accuracy: 0.9005\n",
            "Epoch 14/15\n",
            "536/536 - 5s - loss: 0.0762 - accuracy: 0.9746 - val_loss: 0.4507 - val_accuracy: 0.9048\n",
            "Epoch 15/15\n",
            "536/536 - 5s - loss: 0.0772 - accuracy: 0.9747 - val_loss: 0.4914 - val_accuracy: 0.8998\n",
            "CPU times: user 51.6 s, sys: 6.32 s, total: 57.9 s\n",
            "Wall time: 1min 14s\n"
          ],
          "name": "stdout"
        }
      ]
    },
    {
      "cell_type": "code",
      "metadata": {
        "colab": {
          "base_uri": "https://localhost:8080/"
        },
        "id": "DORzNQfgra3L",
        "outputId": "040b9994-95fe-4305-b19c-a41ed1f33aec"
      },
      "source": [
        "gru_model.evaluate(X_test,y_test,verbose=2)"
      ],
      "id": "DORzNQfgra3L",
      "execution_count": 70,
      "outputs": [
        {
          "output_type": "stream",
          "text": [
            "670/670 - 2s - loss: 0.4779 - accuracy: 0.9035\n"
          ],
          "name": "stdout"
        },
        {
          "output_type": "execute_result",
          "data": {
            "text/plain": [
              "[0.4779164791107178, 0.9035329222679138]"
            ]
          },
          "metadata": {},
          "execution_count": 70
        }
      ]
    },
    {
      "cell_type": "code",
      "metadata": {
        "colab": {
          "base_uri": "https://localhost:8080/"
        },
        "id": "YLUUain6O4G3",
        "outputId": "68bf32e4-45b3-4ed5-95cb-f6ccac483b45"
      },
      "source": [
        "predictions = gru_model.predict(X_test)\n",
        "\n",
        "predictions = np.argmax(predictions,axis=-1)\n",
        "\n",
        "predictions\n",
        "\n",
        "# np.argmax(predictions,axis=-1)\n",
        "recon_y_test = np.argmax(y_test,axis=-1)\n",
        "\n",
        "recon_y_test"
      ],
      "id": "YLUUain6O4G3",
      "execution_count": 71,
      "outputs": [
        {
          "output_type": "execute_result",
          "data": {
            "text/plain": [
              "array([2, 1, 4, ..., 0, 0, 3])"
            ]
          },
          "metadata": {},
          "execution_count": 71
        }
      ]
    },
    {
      "cell_type": "code",
      "metadata": {
        "id": "6yWJjxy7PZsR"
      },
      "source": [
        "from sklearn.metrics import confusion_matrix,accuracy_score,cohen_kappa_score,classification_report\n",
        "cm = confusion_matrix(predictions,recon_y_test)"
      ],
      "id": "6yWJjxy7PZsR",
      "execution_count": 72,
      "outputs": []
    },
    {
      "cell_type": "code",
      "metadata": {
        "colab": {
          "base_uri": "https://localhost:8080/"
        },
        "id": "YCgys_ESPvQE",
        "outputId": "a2980b87-c34d-43e8-b21d-e2e68a11f363"
      },
      "source": [
        " print(accuracy_score(predictions,recon_y_test))\n",
        "\n",
        " print(cohen_kappa_score(predictions,recon_y_test))\n"
      ],
      "id": "YCgys_ESPvQE",
      "execution_count": 73,
      "outputs": [
        {
          "output_type": "stream",
          "text": [
            "0.9035329257478881\n",
            "0.8794284580779542\n"
          ],
          "name": "stdout"
        }
      ]
    },
    {
      "cell_type": "code",
      "metadata": {
        "colab": {
          "base_uri": "https://localhost:8080/"
        },
        "id": "VYptp6w0QDpm",
        "outputId": "14b3def6-9701-4020-8771-cdfdc23abee0"
      },
      "source": [
        "print(classification_report(predictions,recon_y_test))"
      ],
      "id": "VYptp6w0QDpm",
      "execution_count": 74,
      "outputs": [
        {
          "output_type": "stream",
          "text": [
            "              precision    recall  f1-score   support\n",
            "\n",
            "           0       0.89      0.94      0.91      4103\n",
            "           1       0.85      0.93      0.89      3951\n",
            "           2       0.92      0.90      0.91      4399\n",
            "           3       0.94      0.90      0.92      4484\n",
            "           4       0.91      0.86      0.88      4490\n",
            "\n",
            "    accuracy                           0.90     21427\n",
            "   macro avg       0.90      0.90      0.90     21427\n",
            "weighted avg       0.91      0.90      0.90     21427\n",
            "\n"
          ],
          "name": "stdout"
        }
      ]
    },
    {
      "cell_type": "markdown",
      "metadata": {
        "id": "rlsZ6a1ayHlV"
      },
      "source": [
        "# Test Word Embedding\n"
      ],
      "id": "rlsZ6a1ayHlV"
    },
    {
      "cell_type": "code",
      "metadata": {
        "id": "modular-parent"
      },
      "source": [
        "# Establishing the number of max words to incorporate\n",
        "from keras.preprocessing.text import Tokenizer\n",
        "max_words = 2000\n",
        "\n",
        "# Instatisiating the tokenizer on the setence level and not a character level \n",
        "\n",
        "tokenize = Tokenizer(num_words=max_words, char_level=False)\n",
        "\n",
        "# Fitting the tokenzier\n",
        "\n",
        "tokenize.fit_on_texts(X_train) # only fit on train\n",
        "\n",
        "from collections import Counter\n",
        "\n",
        "\n",
        "def unique_word_counter(sent):\n",
        "  count = Counter()\n",
        "  for i in sent.values:\n",
        "    for word in i.split():\n",
        "      count[word] +=1\n",
        "  return count\n",
        "\n",
        "\n",
        "text = df_n.sentence\n",
        "\n",
        "\n",
        "counter = unique_word_counter(text)\n",
        "\n",
        "\n",
        "len(counter)\n",
        "counter\n",
        "num_words = len(counter)\n",
        "num_words\n",
        "max_length = 100\n",
        "max_length"
      ],
      "id": "modular-parent",
      "execution_count": null,
      "outputs": []
    },
    {
      "cell_type": "code",
      "metadata": {
        "id": "vuNqg1rqG471"
      },
      "source": [
        "# Creating word_ index\n",
        "\n",
        "from collections import Counter\n",
        "\n",
        "# creating function\n",
        "\n",
        "def unique_word_counter(sent):\n",
        "  count = Counter()\n",
        "  for i in sent.values:\n",
        "    for word in i.split():\n",
        "      count[word] +=1\n",
        "  return count\n",
        "\n",
        "# \n",
        "\n",
        "text = df_n.sentence\n",
        "\n",
        "\n",
        "#\n",
        "counter = unique_word_counter(text)\n",
        "\n",
        "\n"
      ],
      "id": "vuNqg1rqG471",
      "execution_count": null,
      "outputs": []
    },
    {
      "cell_type": "code",
      "metadata": {
        "id": "6kC2uY2wG471"
      },
      "source": [
        "counter"
      ],
      "id": "6kC2uY2wG471",
      "execution_count": null,
      "outputs": []
    },
    {
      "cell_type": "code",
      "metadata": {
        "id": "ZY8UdnzpG471"
      },
      "source": [
        "num_words = len(counter)\n",
        "num_words\n",
        "max_length = 1000\n",
        "max_length"
      ],
      "id": "ZY8UdnzpG471",
      "execution_count": null,
      "outputs": []
    },
    {
      "cell_type": "code",
      "metadata": {
        "id": "ZMyX6fynUxlG"
      },
      "source": [
        "# # Different way of splitting dataset in training and test set \n",
        "\n",
        "train_size = int(df_n.shape[0]* 0.8)\n",
        "\n",
        "train_sentences = df_n.sentence[:train_size]\n",
        "train_label = df_n.label[:train_size]\n",
        "\n",
        "test_sentences = df_n.sentence[train_size:]\n",
        "test_label = df_n.label[train_size:]\n",
        "\n",
        "## Splitting variables in X and y\n",
        "# labels = df_n['label']\n",
        "# print(test_label[0])\n",
        "# # corpus =df_n['sentence']\n",
        "\n",
        "y_train = keras.utils.to_categorical(train_label,num_classes=5)\n",
        "y_test = keras.utils.to_categorical(test_label,num_classes=5)\n",
        "\n",
        "print(y_test[0])"
      ],
      "id": "ZMyX6fynUxlG",
      "execution_count": null,
      "outputs": []
    },
    {
      "cell_type": "code",
      "metadata": {
        "id": "9tTTpWx3VPLv"
      },
      "source": [
        "from keras.preprocessing.text import Tokenizer\n",
        "\n",
        "tokenizer = Tokenizer(num_words=num_words)\n",
        "tokenizer.fit_on_texts(train_sentences)"
      ],
      "id": "9tTTpWx3VPLv",
      "execution_count": null,
      "outputs": []
    },
    {
      "cell_type": "code",
      "metadata": {
        "id": "MG3NspmzXfvp"
      },
      "source": [
        "word_index = tokenizer.word_index\n"
      ],
      "id": "MG3NspmzXfvp",
      "execution_count": null,
      "outputs": []
    },
    {
      "cell_type": "code",
      "metadata": {
        "id": "convenient-hazard"
      },
      "source": [
        "\n",
        "word_index\n"
      ],
      "id": "convenient-hazard",
      "execution_count": null,
      "outputs": []
    },
    {
      "cell_type": "code",
      "metadata": {
        "id": "5mFf_RUzYi6f"
      },
      "source": [
        "train_sequences = tokenizer.texts_to_sequences(train_sentences)"
      ],
      "id": "5mFf_RUzYi6f",
      "execution_count": null,
      "outputs": []
    },
    {
      "cell_type": "code",
      "metadata": {
        "id": "FoAT4TaCYskr"
      },
      "source": [
        "print(train_sequences[0])\n",
        "\n",
        "\n",
        "print(train_sentences[0])\n",
        "\n"
      ],
      "id": "FoAT4TaCYskr",
      "execution_count": null,
      "outputs": []
    },
    {
      "cell_type": "code",
      "metadata": {
        "id": "kCL-WJWrZPsc"
      },
      "source": [
        "# Pad Sequences to The Same Lenght \n",
        "max_length=30\n",
        "from keras.preprocessing.sequence import pad_sequences\n",
        "\n",
        "train_padded = pad_sequences(train_sequences,maxlen= max_length,padding= 'post',truncating ='post')\n"
      ],
      "id": "kCL-WJWrZPsc",
      "execution_count": null,
      "outputs": []
    },
    {
      "cell_type": "code",
      "metadata": {
        "id": "LnacJberaJI5"
      },
      "source": [
        "train_padded[0]"
      ],
      "id": "LnacJberaJI5",
      "execution_count": null,
      "outputs": []
    },
    {
      "cell_type": "code",
      "metadata": {
        "id": "Ady22gKGsdPa"
      },
      "source": [
        "print(df_n.sentence[0])\n",
        "print(train_sequences[0])"
      ],
      "id": "Ady22gKGsdPa",
      "execution_count": null,
      "outputs": []
    },
    {
      "cell_type": "code",
      "metadata": {
        "id": "n2WZMf68MVMh"
      },
      "source": [
        "print(f\"shape of train {train_padded.shape}\")\n",
        "\n",
        "print(f\"shape of test {test_padded.shape}\")"
      ],
      "id": "n2WZMf68MVMh",
      "execution_count": null,
      "outputs": []
    },
    {
      "cell_type": "code",
      "metadata": {
        "id": "7L71nFtKMVMh"
      },
      "source": [
        "decode(train_sequences[0])"
      ],
      "id": "7L71nFtKMVMh",
      "execution_count": null,
      "outputs": []
    },
    {
      "cell_type": "code",
      "metadata": {
        "id": "3u-LyHWAMVMh"
      },
      "source": [
        "reverse_word_index = dict([value,key]for (key,value) in word_index.items())\n",
        "\n",
        "reverse_word_index"
      ],
      "id": "3u-LyHWAMVMh",
      "execution_count": null,
      "outputs": []
    },
    {
      "cell_type": "code",
      "metadata": {
        "id": "kU_c8-KGMVMh"
      },
      "source": [
        "def decode(text):\n",
        "  return \" \".join([reverse_word_index.get(i,'?') for i in text])"
      ],
      "id": "kU_c8-KGMVMh",
      "execution_count": null,
      "outputs": []
    },
    {
      "cell_type": "code",
      "metadata": {
        "id": "jNBj6STsMVMh"
      },
      "source": [
        "# Vectorize and pad test \n",
        "test_sequences = tokenizer.texts_to_sequences(X_test)\n",
        "test_padded = pad_sequences(test_sequences,maxlen= max_length,padding= 'post',truncating ='post')"
      ],
      "id": "jNBj6STsMVMh",
      "execution_count": null,
      "outputs": []
    }
  ]
}